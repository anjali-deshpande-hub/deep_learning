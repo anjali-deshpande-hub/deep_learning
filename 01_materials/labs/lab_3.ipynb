{
 "cells": [
  {
   "cell_type": "markdown",
   "metadata": {},
   "source": [
    "# Recommender Systems\n",
    "\n",
    "In this lab, we'll be using Keras to build a recommender system. We'll be using the MovieLens dataset, a common benchmark dataset for recommender systems. \n",
    "\n",
    "MovieLens is a web-based recommender system and virtual community that recommends movies for its users to watch, based on their film preferences using collaborative filtering of members' movie ratings and movie reviews. You can check out the website here: https://movielens.org/\n",
    "\n",
    "We will download a subset of the dataset containing 100k ratings. There are tens of millions of ratings in the full dataset, spanning hundreds of thousands of users and movies. The subset we'll be using is a good example to demonstrate the concepts in this lab."
   ]
  },
  {
   "cell_type": "code",
   "execution_count": 51,
   "metadata": {},
   "outputs": [],
   "source": [
    "%matplotlib inline\n",
    "import matplotlib.pyplot as plt\n",
    "import numpy as np\n",
    "from zipfile import ZipFile\n",
    "from urllib.request import urlretrieve\n",
    "from pathlib import Path\n",
    "\n",
    "ML_100K_URL = \"http://files.grouplens.org/datasets/movielens/ml-100k.zip\"\n",
    "ML_100K_FILENAME = Path(\"ml-100k.zip\")\n",
    "ML_100K_FOLDER = Path(\"ml-100k\")\n",
    "\n",
    "if not ML_100K_FOLDER.exists():\n",
    "    if not ML_100K_FILENAME.exists():\n",
    "        urlretrieve(ML_100K_URL, ML_100K_FILENAME.name)\n",
    "    with ZipFile(ML_100K_FILENAME.name) as zips:\n",
    "        zips.extractall()"
   ]
  },
  {
   "cell_type": "markdown",
   "metadata": {},
   "source": [
    "The goal of MovieLens is to enable models to predict the rating a user would give to a movie they have not yet watched. This is a classic example of a recommendation system. The dataset is huge, and contains many parts giving information about the movies, the users, and the ratings. To begin with, we will look at the ratings file. Each line in the ratings file (u.data) is formatted as:\n",
    "\n",
    "`user_id, item_id, rating, timestamp`\n",
    "\n",
    "Which tells us a single user's rating of a single movie.\n",
    "\n",
    "We will start by loading the ratings data into a pandas dataframe and then take a look at the first few rows. If you haven't used Pandas before, it's an extremely powerful library for dealing with tabular data. You can think of it as a Python version of Excel."
   ]
  },
  {
   "cell_type": "code",
   "execution_count": 52,
   "metadata": {},
   "outputs": [
    {
     "data": {
      "text/html": [
       "<div>\n",
       "<style scoped>\n",
       "    .dataframe tbody tr th:only-of-type {\n",
       "        vertical-align: middle;\n",
       "    }\n",
       "\n",
       "    .dataframe tbody tr th {\n",
       "        vertical-align: top;\n",
       "    }\n",
       "\n",
       "    .dataframe thead th {\n",
       "        text-align: right;\n",
       "    }\n",
       "</style>\n",
       "<table border=\"1\" class=\"dataframe\">\n",
       "  <thead>\n",
       "    <tr style=\"text-align: right;\">\n",
       "      <th></th>\n",
       "      <th>user_id</th>\n",
       "      <th>item_id</th>\n",
       "      <th>rating</th>\n",
       "      <th>timestamp</th>\n",
       "    </tr>\n",
       "  </thead>\n",
       "  <tbody>\n",
       "    <tr>\n",
       "      <th>0</th>\n",
       "      <td>196</td>\n",
       "      <td>242</td>\n",
       "      <td>3</td>\n",
       "      <td>881250949</td>\n",
       "    </tr>\n",
       "    <tr>\n",
       "      <th>1</th>\n",
       "      <td>186</td>\n",
       "      <td>302</td>\n",
       "      <td>3</td>\n",
       "      <td>891717742</td>\n",
       "    </tr>\n",
       "    <tr>\n",
       "      <th>2</th>\n",
       "      <td>22</td>\n",
       "      <td>377</td>\n",
       "      <td>1</td>\n",
       "      <td>878887116</td>\n",
       "    </tr>\n",
       "    <tr>\n",
       "      <th>3</th>\n",
       "      <td>244</td>\n",
       "      <td>51</td>\n",
       "      <td>2</td>\n",
       "      <td>880606923</td>\n",
       "    </tr>\n",
       "    <tr>\n",
       "      <th>4</th>\n",
       "      <td>166</td>\n",
       "      <td>346</td>\n",
       "      <td>1</td>\n",
       "      <td>886397596</td>\n",
       "    </tr>\n",
       "    <tr>\n",
       "      <th>...</th>\n",
       "      <td>...</td>\n",
       "      <td>...</td>\n",
       "      <td>...</td>\n",
       "      <td>...</td>\n",
       "    </tr>\n",
       "    <tr>\n",
       "      <th>99995</th>\n",
       "      <td>880</td>\n",
       "      <td>476</td>\n",
       "      <td>3</td>\n",
       "      <td>880175444</td>\n",
       "    </tr>\n",
       "    <tr>\n",
       "      <th>99996</th>\n",
       "      <td>716</td>\n",
       "      <td>204</td>\n",
       "      <td>5</td>\n",
       "      <td>879795543</td>\n",
       "    </tr>\n",
       "    <tr>\n",
       "      <th>99997</th>\n",
       "      <td>276</td>\n",
       "      <td>1090</td>\n",
       "      <td>1</td>\n",
       "      <td>874795795</td>\n",
       "    </tr>\n",
       "    <tr>\n",
       "      <th>99998</th>\n",
       "      <td>13</td>\n",
       "      <td>225</td>\n",
       "      <td>2</td>\n",
       "      <td>882399156</td>\n",
       "    </tr>\n",
       "    <tr>\n",
       "      <th>99999</th>\n",
       "      <td>12</td>\n",
       "      <td>203</td>\n",
       "      <td>3</td>\n",
       "      <td>879959583</td>\n",
       "    </tr>\n",
       "  </tbody>\n",
       "</table>\n",
       "<p>100000 rows × 4 columns</p>\n",
       "</div>"
      ],
      "text/plain": [
       "       user_id  item_id  rating  timestamp\n",
       "0          196      242       3  881250949\n",
       "1          186      302       3  891717742\n",
       "2           22      377       1  878887116\n",
       "3          244       51       2  880606923\n",
       "4          166      346       1  886397596\n",
       "...        ...      ...     ...        ...\n",
       "99995      880      476       3  880175444\n",
       "99996      716      204       5  879795543\n",
       "99997      276     1090       1  874795795\n",
       "99998       13      225       2  882399156\n",
       "99999       12      203       3  879959583\n",
       "\n",
       "[100000 rows x 4 columns]"
      ]
     },
     "execution_count": 52,
     "metadata": {},
     "output_type": "execute_result"
    }
   ],
   "source": [
    "import pandas as pd\n",
    "\n",
    "raw_ratings = pd.read_csv(ML_100K_FOLDER / \"u.data\", sep='\\t',\n",
    "                          names=[\"user_id\", \"item_id\", \"rating\", \"timestamp\"])\n",
    "raw_ratings"
   ]
  },
  {
   "cell_type": "markdown",
   "metadata": {},
   "source": [
    "The second file we'll look at is the movie metadata. This file (u.item) contains information about each movie, including the title and release date. Each line in the file is formatted as:\n",
    "\n",
    "`movie_id | movie_title | release_date | video_release_date | IMDb_URL | unknown | Action | Adventure | Animation | Children's | Comedy | Crime | Documentary | Drama | Fantasy | Film-Noir | Horror | Musical | Mystery | Romance | Sci-Fi | Thriller | War | Western`\n",
    "\n",
    "As you can see, the genres are binary variables. As with one-hot encoding, a 1 indicates that the movie is of that genre, and a 0 indicates that it is not. We aren't going to work with the genre data in this lab, but it's easy to imagine that it could be useful in a real-world recommendation system."
   ]
  },
  {
   "cell_type": "code",
   "execution_count": 53,
   "metadata": {},
   "outputs": [
    {
     "data": {
      "text/html": [
       "<div>\n",
       "<style scoped>\n",
       "    .dataframe tbody tr th:only-of-type {\n",
       "        vertical-align: middle;\n",
       "    }\n",
       "\n",
       "    .dataframe tbody tr th {\n",
       "        vertical-align: top;\n",
       "    }\n",
       "\n",
       "    .dataframe thead th {\n",
       "        text-align: right;\n",
       "    }\n",
       "</style>\n",
       "<table border=\"1\" class=\"dataframe\">\n",
       "  <thead>\n",
       "    <tr style=\"text-align: right;\">\n",
       "      <th></th>\n",
       "      <th>item_id</th>\n",
       "      <th>title</th>\n",
       "      <th>release_date</th>\n",
       "      <th>video_release_date</th>\n",
       "      <th>imdb_url</th>\n",
       "    </tr>\n",
       "  </thead>\n",
       "  <tbody>\n",
       "    <tr>\n",
       "      <th>0</th>\n",
       "      <td>1</td>\n",
       "      <td>Toy Story (1995)</td>\n",
       "      <td>01-Jan-1995</td>\n",
       "      <td>NaN</td>\n",
       "      <td>http://us.imdb.com/M/title-exact?Toy%20Story%2...</td>\n",
       "    </tr>\n",
       "    <tr>\n",
       "      <th>1</th>\n",
       "      <td>2</td>\n",
       "      <td>GoldenEye (1995)</td>\n",
       "      <td>01-Jan-1995</td>\n",
       "      <td>NaN</td>\n",
       "      <td>http://us.imdb.com/M/title-exact?GoldenEye%20(...</td>\n",
       "    </tr>\n",
       "    <tr>\n",
       "      <th>2</th>\n",
       "      <td>3</td>\n",
       "      <td>Four Rooms (1995)</td>\n",
       "      <td>01-Jan-1995</td>\n",
       "      <td>NaN</td>\n",
       "      <td>http://us.imdb.com/M/title-exact?Four%20Rooms%...</td>\n",
       "    </tr>\n",
       "    <tr>\n",
       "      <th>3</th>\n",
       "      <td>4</td>\n",
       "      <td>Get Shorty (1995)</td>\n",
       "      <td>01-Jan-1995</td>\n",
       "      <td>NaN</td>\n",
       "      <td>http://us.imdb.com/M/title-exact?Get%20Shorty%...</td>\n",
       "    </tr>\n",
       "    <tr>\n",
       "      <th>4</th>\n",
       "      <td>5</td>\n",
       "      <td>Copycat (1995)</td>\n",
       "      <td>01-Jan-1995</td>\n",
       "      <td>NaN</td>\n",
       "      <td>http://us.imdb.com/M/title-exact?Copycat%20(1995)</td>\n",
       "    </tr>\n",
       "    <tr>\n",
       "      <th>...</th>\n",
       "      <td>...</td>\n",
       "      <td>...</td>\n",
       "      <td>...</td>\n",
       "      <td>...</td>\n",
       "      <td>...</td>\n",
       "    </tr>\n",
       "    <tr>\n",
       "      <th>1677</th>\n",
       "      <td>1678</td>\n",
       "      <td>Mat' i syn (1997)</td>\n",
       "      <td>06-Feb-1998</td>\n",
       "      <td>NaN</td>\n",
       "      <td>http://us.imdb.com/M/title-exact?Mat%27+i+syn+...</td>\n",
       "    </tr>\n",
       "    <tr>\n",
       "      <th>1678</th>\n",
       "      <td>1679</td>\n",
       "      <td>B. Monkey (1998)</td>\n",
       "      <td>06-Feb-1998</td>\n",
       "      <td>NaN</td>\n",
       "      <td>http://us.imdb.com/M/title-exact?B%2E+Monkey+(...</td>\n",
       "    </tr>\n",
       "    <tr>\n",
       "      <th>1679</th>\n",
       "      <td>1680</td>\n",
       "      <td>Sliding Doors (1998)</td>\n",
       "      <td>01-Jan-1998</td>\n",
       "      <td>NaN</td>\n",
       "      <td>http://us.imdb.com/Title?Sliding+Doors+(1998)</td>\n",
       "    </tr>\n",
       "    <tr>\n",
       "      <th>1680</th>\n",
       "      <td>1681</td>\n",
       "      <td>You So Crazy (1994)</td>\n",
       "      <td>01-Jan-1994</td>\n",
       "      <td>NaN</td>\n",
       "      <td>http://us.imdb.com/M/title-exact?You%20So%20Cr...</td>\n",
       "    </tr>\n",
       "    <tr>\n",
       "      <th>1681</th>\n",
       "      <td>1682</td>\n",
       "      <td>Scream of Stone (Schrei aus Stein) (1991)</td>\n",
       "      <td>08-Mar-1996</td>\n",
       "      <td>NaN</td>\n",
       "      <td>http://us.imdb.com/M/title-exact?Schrei%20aus%...</td>\n",
       "    </tr>\n",
       "  </tbody>\n",
       "</table>\n",
       "<p>1682 rows × 5 columns</p>\n",
       "</div>"
      ],
      "text/plain": [
       "      item_id                                      title release_date  \\\n",
       "0           1                           Toy Story (1995)  01-Jan-1995   \n",
       "1           2                           GoldenEye (1995)  01-Jan-1995   \n",
       "2           3                          Four Rooms (1995)  01-Jan-1995   \n",
       "3           4                          Get Shorty (1995)  01-Jan-1995   \n",
       "4           5                             Copycat (1995)  01-Jan-1995   \n",
       "...       ...                                        ...          ...   \n",
       "1677     1678                          Mat' i syn (1997)  06-Feb-1998   \n",
       "1678     1679                           B. Monkey (1998)  06-Feb-1998   \n",
       "1679     1680                       Sliding Doors (1998)  01-Jan-1998   \n",
       "1680     1681                        You So Crazy (1994)  01-Jan-1994   \n",
       "1681     1682  Scream of Stone (Schrei aus Stein) (1991)  08-Mar-1996   \n",
       "\n",
       "      video_release_date                                           imdb_url  \n",
       "0                    NaN  http://us.imdb.com/M/title-exact?Toy%20Story%2...  \n",
       "1                    NaN  http://us.imdb.com/M/title-exact?GoldenEye%20(...  \n",
       "2                    NaN  http://us.imdb.com/M/title-exact?Four%20Rooms%...  \n",
       "3                    NaN  http://us.imdb.com/M/title-exact?Get%20Shorty%...  \n",
       "4                    NaN  http://us.imdb.com/M/title-exact?Copycat%20(1995)  \n",
       "...                  ...                                                ...  \n",
       "1677                 NaN  http://us.imdb.com/M/title-exact?Mat%27+i+syn+...  \n",
       "1678                 NaN  http://us.imdb.com/M/title-exact?B%2E+Monkey+(...  \n",
       "1679                 NaN      http://us.imdb.com/Title?Sliding+Doors+(1998)  \n",
       "1680                 NaN  http://us.imdb.com/M/title-exact?You%20So%20Cr...  \n",
       "1681                 NaN  http://us.imdb.com/M/title-exact?Schrei%20aus%...  \n",
       "\n",
       "[1682 rows x 5 columns]"
      ]
     },
     "execution_count": 53,
     "metadata": {},
     "output_type": "execute_result"
    }
   ],
   "source": [
    "columns_to_keep = ['item_id', 'title', 'release_date', 'video_release_date', 'imdb_url']\n",
    "items = pd.read_csv(ML_100K_FOLDER / \"u.item\", sep='|', names=columns_to_keep,\n",
    "                    encoding='latin-1', usecols=range(5))\n",
    "items"
   ]
  },
  {
   "cell_type": "markdown",
   "metadata": {},
   "source": [
    "By default, the `release_date` column is a string. We can convert it to a `datetime` object using the `pd.to_datetime` function. This will make it easier to work with in the future (if we want to do things like check which date came first, for example).\n",
    " \n",
    "We can also extract the year from the date and store it in a separate column. This will make it easier to do things like plot the number of movies released each year."
   ]
  },
  {
   "cell_type": "code",
   "execution_count": 54,
   "metadata": {},
   "outputs": [],
   "source": [
    "items['release_date'] = pd.to_datetime(items['release_date']) # Pandas makes this easy!\n",
    "items['release_year'] = items['release_date'].dt.year # For later use"
   ]
  },
  {
   "cell_type": "markdown",
   "metadata": {},
   "source": [
    "For our purposes, it will be easier to work with the data if we merge our two dataframes into a single dataframe. We can do this using the `merge` method. We'll merge the `items` dataframe into the `raw_ratings` dataframe, using the `item_id` column as the key. This will add the movie title and release year to each rating."
   ]
  },
  {
   "cell_type": "code",
   "execution_count": 55,
   "metadata": {},
   "outputs": [],
   "source": [
    "all_ratings = pd.merge(items, raw_ratings)"
   ]
  },
  {
   "cell_type": "code",
   "execution_count": 56,
   "metadata": {},
   "outputs": [
    {
     "data": {
      "text/html": [
       "<div>\n",
       "<style scoped>\n",
       "    .dataframe tbody tr th:only-of-type {\n",
       "        vertical-align: middle;\n",
       "    }\n",
       "\n",
       "    .dataframe tbody tr th {\n",
       "        vertical-align: top;\n",
       "    }\n",
       "\n",
       "    .dataframe thead th {\n",
       "        text-align: right;\n",
       "    }\n",
       "</style>\n",
       "<table border=\"1\" class=\"dataframe\">\n",
       "  <thead>\n",
       "    <tr style=\"text-align: right;\">\n",
       "      <th></th>\n",
       "      <th>item_id</th>\n",
       "      <th>title</th>\n",
       "      <th>release_date</th>\n",
       "      <th>video_release_date</th>\n",
       "      <th>imdb_url</th>\n",
       "      <th>release_year</th>\n",
       "      <th>user_id</th>\n",
       "      <th>rating</th>\n",
       "      <th>timestamp</th>\n",
       "    </tr>\n",
       "  </thead>\n",
       "  <tbody>\n",
       "    <tr>\n",
       "      <th>0</th>\n",
       "      <td>1</td>\n",
       "      <td>Toy Story (1995)</td>\n",
       "      <td>1995-01-01</td>\n",
       "      <td>NaN</td>\n",
       "      <td>http://us.imdb.com/M/title-exact?Toy%20Story%2...</td>\n",
       "      <td>1995.0</td>\n",
       "      <td>308</td>\n",
       "      <td>4</td>\n",
       "      <td>887736532</td>\n",
       "    </tr>\n",
       "    <tr>\n",
       "      <th>1</th>\n",
       "      <td>1</td>\n",
       "      <td>Toy Story (1995)</td>\n",
       "      <td>1995-01-01</td>\n",
       "      <td>NaN</td>\n",
       "      <td>http://us.imdb.com/M/title-exact?Toy%20Story%2...</td>\n",
       "      <td>1995.0</td>\n",
       "      <td>287</td>\n",
       "      <td>5</td>\n",
       "      <td>875334088</td>\n",
       "    </tr>\n",
       "    <tr>\n",
       "      <th>2</th>\n",
       "      <td>1</td>\n",
       "      <td>Toy Story (1995)</td>\n",
       "      <td>1995-01-01</td>\n",
       "      <td>NaN</td>\n",
       "      <td>http://us.imdb.com/M/title-exact?Toy%20Story%2...</td>\n",
       "      <td>1995.0</td>\n",
       "      <td>148</td>\n",
       "      <td>4</td>\n",
       "      <td>877019411</td>\n",
       "    </tr>\n",
       "    <tr>\n",
       "      <th>3</th>\n",
       "      <td>1</td>\n",
       "      <td>Toy Story (1995)</td>\n",
       "      <td>1995-01-01</td>\n",
       "      <td>NaN</td>\n",
       "      <td>http://us.imdb.com/M/title-exact?Toy%20Story%2...</td>\n",
       "      <td>1995.0</td>\n",
       "      <td>280</td>\n",
       "      <td>4</td>\n",
       "      <td>891700426</td>\n",
       "    </tr>\n",
       "    <tr>\n",
       "      <th>4</th>\n",
       "      <td>1</td>\n",
       "      <td>Toy Story (1995)</td>\n",
       "      <td>1995-01-01</td>\n",
       "      <td>NaN</td>\n",
       "      <td>http://us.imdb.com/M/title-exact?Toy%20Story%2...</td>\n",
       "      <td>1995.0</td>\n",
       "      <td>66</td>\n",
       "      <td>3</td>\n",
       "      <td>883601324</td>\n",
       "    </tr>\n",
       "  </tbody>\n",
       "</table>\n",
       "</div>"
      ],
      "text/plain": [
       "   item_id             title release_date  video_release_date  \\\n",
       "0        1  Toy Story (1995)   1995-01-01                 NaN   \n",
       "1        1  Toy Story (1995)   1995-01-01                 NaN   \n",
       "2        1  Toy Story (1995)   1995-01-01                 NaN   \n",
       "3        1  Toy Story (1995)   1995-01-01                 NaN   \n",
       "4        1  Toy Story (1995)   1995-01-01                 NaN   \n",
       "\n",
       "                                            imdb_url  release_year  user_id  \\\n",
       "0  http://us.imdb.com/M/title-exact?Toy%20Story%2...        1995.0      308   \n",
       "1  http://us.imdb.com/M/title-exact?Toy%20Story%2...        1995.0      287   \n",
       "2  http://us.imdb.com/M/title-exact?Toy%20Story%2...        1995.0      148   \n",
       "3  http://us.imdb.com/M/title-exact?Toy%20Story%2...        1995.0      280   \n",
       "4  http://us.imdb.com/M/title-exact?Toy%20Story%2...        1995.0       66   \n",
       "\n",
       "   rating  timestamp  \n",
       "0       4  887736532  \n",
       "1       5  875334088  \n",
       "2       4  877019411  \n",
       "3       4  891700426  \n",
       "4       3  883601324  "
      ]
     },
     "execution_count": 56,
     "metadata": {},
     "output_type": "execute_result"
    }
   ],
   "source": [
    "all_ratings.head()"
   ]
  },
  {
   "cell_type": "markdown",
   "metadata": {},
   "source": [
    "### Data preprocessing\n",
    "\n",
    "It's always important to understand the data you've collected. Thankfully, Pandas continues to make this easy for us. Using the `describe` method, we can get a quick statistical summary of the data."
   ]
  },
  {
   "cell_type": "code",
   "execution_count": 57,
   "metadata": {},
   "outputs": [
    {
     "data": {
      "text/html": [
       "<div>\n",
       "<style scoped>\n",
       "    .dataframe tbody tr th:only-of-type {\n",
       "        vertical-align: middle;\n",
       "    }\n",
       "\n",
       "    .dataframe tbody tr th {\n",
       "        vertical-align: top;\n",
       "    }\n",
       "\n",
       "    .dataframe thead th {\n",
       "        text-align: right;\n",
       "    }\n",
       "</style>\n",
       "<table border=\"1\" class=\"dataframe\">\n",
       "  <thead>\n",
       "    <tr style=\"text-align: right;\">\n",
       "      <th></th>\n",
       "      <th>item_id</th>\n",
       "      <th>release_date</th>\n",
       "      <th>video_release_date</th>\n",
       "      <th>release_year</th>\n",
       "      <th>user_id</th>\n",
       "      <th>rating</th>\n",
       "      <th>timestamp</th>\n",
       "    </tr>\n",
       "  </thead>\n",
       "  <tbody>\n",
       "    <tr>\n",
       "      <th>count</th>\n",
       "      <td>100000.000000</td>\n",
       "      <td>99991</td>\n",
       "      <td>0.0</td>\n",
       "      <td>99991.000000</td>\n",
       "      <td>100000.00000</td>\n",
       "      <td>100000.000000</td>\n",
       "      <td>1.000000e+05</td>\n",
       "    </tr>\n",
       "    <tr>\n",
       "      <th>mean</th>\n",
       "      <td>425.530130</td>\n",
       "      <td>1988-02-09 00:43:11.369223296</td>\n",
       "      <td>NaN</td>\n",
       "      <td>1987.956216</td>\n",
       "      <td>462.48475</td>\n",
       "      <td>3.529860</td>\n",
       "      <td>8.835289e+08</td>\n",
       "    </tr>\n",
       "    <tr>\n",
       "      <th>min</th>\n",
       "      <td>1.000000</td>\n",
       "      <td>1922-01-01 00:00:00</td>\n",
       "      <td>NaN</td>\n",
       "      <td>1922.000000</td>\n",
       "      <td>1.00000</td>\n",
       "      <td>1.000000</td>\n",
       "      <td>8.747247e+08</td>\n",
       "    </tr>\n",
       "    <tr>\n",
       "      <th>25%</th>\n",
       "      <td>175.000000</td>\n",
       "      <td>1986-01-01 00:00:00</td>\n",
       "      <td>NaN</td>\n",
       "      <td>1986.000000</td>\n",
       "      <td>254.00000</td>\n",
       "      <td>3.000000</td>\n",
       "      <td>8.794487e+08</td>\n",
       "    </tr>\n",
       "    <tr>\n",
       "      <th>50%</th>\n",
       "      <td>322.000000</td>\n",
       "      <td>1994-01-01 00:00:00</td>\n",
       "      <td>NaN</td>\n",
       "      <td>1994.000000</td>\n",
       "      <td>447.00000</td>\n",
       "      <td>4.000000</td>\n",
       "      <td>8.828269e+08</td>\n",
       "    </tr>\n",
       "    <tr>\n",
       "      <th>75%</th>\n",
       "      <td>631.000000</td>\n",
       "      <td>1996-09-28 00:00:00</td>\n",
       "      <td>NaN</td>\n",
       "      <td>1996.000000</td>\n",
       "      <td>682.00000</td>\n",
       "      <td>4.000000</td>\n",
       "      <td>8.882600e+08</td>\n",
       "    </tr>\n",
       "    <tr>\n",
       "      <th>max</th>\n",
       "      <td>1682.000000</td>\n",
       "      <td>1998-10-23 00:00:00</td>\n",
       "      <td>NaN</td>\n",
       "      <td>1998.000000</td>\n",
       "      <td>943.00000</td>\n",
       "      <td>5.000000</td>\n",
       "      <td>8.932866e+08</td>\n",
       "    </tr>\n",
       "    <tr>\n",
       "      <th>std</th>\n",
       "      <td>330.798356</td>\n",
       "      <td>NaN</td>\n",
       "      <td>NaN</td>\n",
       "      <td>14.155523</td>\n",
       "      <td>266.61442</td>\n",
       "      <td>1.125674</td>\n",
       "      <td>5.343856e+06</td>\n",
       "    </tr>\n",
       "  </tbody>\n",
       "</table>\n",
       "</div>"
      ],
      "text/plain": [
       "             item_id                   release_date  video_release_date  \\\n",
       "count  100000.000000                          99991                 0.0   \n",
       "mean      425.530130  1988-02-09 00:43:11.369223296                 NaN   \n",
       "min         1.000000            1922-01-01 00:00:00                 NaN   \n",
       "25%       175.000000            1986-01-01 00:00:00                 NaN   \n",
       "50%       322.000000            1994-01-01 00:00:00                 NaN   \n",
       "75%       631.000000            1996-09-28 00:00:00                 NaN   \n",
       "max      1682.000000            1998-10-23 00:00:00                 NaN   \n",
       "std       330.798356                            NaN                 NaN   \n",
       "\n",
       "       release_year       user_id         rating     timestamp  \n",
       "count  99991.000000  100000.00000  100000.000000  1.000000e+05  \n",
       "mean    1987.956216     462.48475       3.529860  8.835289e+08  \n",
       "min     1922.000000       1.00000       1.000000  8.747247e+08  \n",
       "25%     1986.000000     254.00000       3.000000  8.794487e+08  \n",
       "50%     1994.000000     447.00000       4.000000  8.828269e+08  \n",
       "75%     1996.000000     682.00000       4.000000  8.882600e+08  \n",
       "max     1998.000000     943.00000       5.000000  8.932866e+08  \n",
       "std       14.155523     266.61442       1.125674  5.343856e+06  "
      ]
     },
     "execution_count": 57,
     "metadata": {},
     "output_type": "execute_result"
    }
   ],
   "source": [
    "all_ratings.describe()"
   ]
  },
  {
   "cell_type": "markdown",
   "metadata": {},
   "source": [
    "Let's do a bit more pandas magic to compute the popularity of each movie (number of ratings). We will use the `groupby` method to group the dataframe by the `item_id` column and then use the `size` method to compute the number of ratings for each movie. We will use the `reset_index` method to convert the resulting Series into a dataframe with an `item_id` column."
   ]
  },
  {
   "cell_type": "code",
   "execution_count": 58,
   "metadata": {},
   "outputs": [],
   "source": [
    "popularity = all_ratings.groupby('item_id').size().reset_index(name='popularity')\n",
    "items = pd.merge(popularity, items)"
   ]
  },
  {
   "cell_type": "code",
   "execution_count": 59,
   "metadata": {},
   "outputs": [
    {
     "data": {
      "image/png": "[encoded data removed]",
      "text/plain": [
       "<Figure size 640x480 with 1 Axes>"
      ]
     },
     "metadata": {},
     "output_type": "display_data"
    }
   ],
   "source": [
    "items['popularity'].plot.hist(bins=30);"
   ]
  },
  {
   "cell_type": "code",
   "execution_count": 60,
   "metadata": {},
   "outputs": [
    {
     "data": {
      "text/plain": [
       "141"
      ]
     },
     "execution_count": 60,
     "metadata": {},
     "output_type": "execute_result"
    }
   ],
   "source": [
    "(items['popularity'] == 1).sum() # Number of movies with only one rating"
   ]
  },
  {
   "cell_type": "code",
   "execution_count": 64,
   "metadata": {},
   "outputs": [
    {
     "data": {
      "text/html": [
       "<div>\n",
       "<style scoped>\n",
       "    .dataframe tbody tr th:only-of-type {\n",
       "        vertical-align: middle;\n",
       "    }\n",
       "\n",
       "    .dataframe tbody tr th {\n",
       "        vertical-align: top;\n",
       "    }\n",
       "\n",
       "    .dataframe thead th {\n",
       "        text-align: right;\n",
       "    }\n",
       "</style>\n",
       "<table border=\"1\" class=\"dataframe\">\n",
       "  <thead>\n",
       "    <tr style=\"text-align: right;\">\n",
       "      <th></th>\n",
       "      <th>item_id</th>\n",
       "      <th>popularity</th>\n",
       "      <th>title</th>\n",
       "      <th>release_date</th>\n",
       "      <th>video_release_date</th>\n",
       "      <th>imdb_url</th>\n",
       "      <th>release_year</th>\n",
       "    </tr>\n",
       "  </thead>\n",
       "  <tbody>\n",
       "    <tr>\n",
       "      <th>0</th>\n",
       "      <td>1</td>\n",
       "      <td>452</td>\n",
       "      <td>Toy Story (1995)</td>\n",
       "      <td>1995-01-01</td>\n",
       "      <td>NaN</td>\n",
       "      <td>http://us.imdb.com/M/title-exact?Toy%20Story%2...</td>\n",
       "      <td>1995.0</td>\n",
       "    </tr>\n",
       "    <tr>\n",
       "      <th>1</th>\n",
       "      <td>2</td>\n",
       "      <td>131</td>\n",
       "      <td>GoldenEye (1995)</td>\n",
       "      <td>1995-01-01</td>\n",
       "      <td>NaN</td>\n",
       "      <td>http://us.imdb.com/M/title-exact?GoldenEye%20(...</td>\n",
       "      <td>1995.0</td>\n",
       "    </tr>\n",
       "    <tr>\n",
       "      <th>2</th>\n",
       "      <td>3</td>\n",
       "      <td>90</td>\n",
       "      <td>Four Rooms (1995)</td>\n",
       "      <td>1995-01-01</td>\n",
       "      <td>NaN</td>\n",
       "      <td>http://us.imdb.com/M/title-exact?Four%20Rooms%...</td>\n",
       "      <td>1995.0</td>\n",
       "    </tr>\n",
       "    <tr>\n",
       "      <th>3</th>\n",
       "      <td>4</td>\n",
       "      <td>209</td>\n",
       "      <td>Get Shorty (1995)</td>\n",
       "      <td>1995-01-01</td>\n",
       "      <td>NaN</td>\n",
       "      <td>http://us.imdb.com/M/title-exact?Get%20Shorty%...</td>\n",
       "      <td>1995.0</td>\n",
       "    </tr>\n",
       "    <tr>\n",
       "      <th>4</th>\n",
       "      <td>5</td>\n",
       "      <td>86</td>\n",
       "      <td>Copycat (1995)</td>\n",
       "      <td>1995-01-01</td>\n",
       "      <td>NaN</td>\n",
       "      <td>http://us.imdb.com/M/title-exact?Copycat%20(1995)</td>\n",
       "      <td>1995.0</td>\n",
       "    </tr>\n",
       "  </tbody>\n",
       "</table>\n",
       "</div>"
      ],
      "text/plain": [
       "   item_id  popularity              title release_date  video_release_date  \\\n",
       "0        1         452   Toy Story (1995)   1995-01-01                 NaN   \n",
       "1        2         131   GoldenEye (1995)   1995-01-01                 NaN   \n",
       "2        3          90  Four Rooms (1995)   1995-01-01                 NaN   \n",
       "3        4         209  Get Shorty (1995)   1995-01-01                 NaN   \n",
       "4        5          86     Copycat (1995)   1995-01-01                 NaN   \n",
       "\n",
       "                                            imdb_url  release_year  \n",
       "0  http://us.imdb.com/M/title-exact?Toy%20Story%2...        1995.0  \n",
       "1  http://us.imdb.com/M/title-exact?GoldenEye%20(...        1995.0  \n",
       "2  http://us.imdb.com/M/title-exact?Four%20Rooms%...        1995.0  \n",
       "3  http://us.imdb.com/M/title-exact?Get%20Shorty%...        1995.0  \n",
       "4  http://us.imdb.com/M/title-exact?Copycat%20(1995)        1995.0  "
      ]
     },
     "execution_count": 64,
     "metadata": {},
     "output_type": "execute_result"
    }
   ],
   "source": [
    "items.head()"
   ]
  },
  {
   "cell_type": "code",
   "execution_count": 65,
   "metadata": {},
   "outputs": [
    {
     "data": {
      "text/plain": [
       "49                  Star Wars (1977)\n",
       "257                   Contact (1997)\n",
       "99                      Fargo (1996)\n",
       "180        Return of the Jedi (1983)\n",
       "293                 Liar Liar (1997)\n",
       "285      English Patient, The (1996)\n",
       "287                    Scream (1996)\n",
       "0                   Toy Story (1995)\n",
       "299             Air Force One (1997)\n",
       "120    Independence Day (ID4) (1996)\n",
       "Name: title, dtype: object"
      ]
     },
     "execution_count": 65,
     "metadata": {},
     "output_type": "execute_result"
    }
   ],
   "source": [
    "items.nlargest(10, 'popularity')['title'] # Get the 10 most popular movies"
   ]
  },
  {
   "cell_type": "code",
   "execution_count": 12,
   "metadata": {},
   "outputs": [
    {
     "data": {
      "text/html": [
       "<div>\n",
       "<style scoped>\n",
       "    .dataframe tbody tr th:only-of-type {\n",
       "        vertical-align: middle;\n",
       "    }\n",
       "\n",
       "    .dataframe tbody tr th {\n",
       "        vertical-align: top;\n",
       "    }\n",
       "\n",
       "    .dataframe thead th {\n",
       "        text-align: right;\n",
       "    }\n",
       "</style>\n",
       "<table border=\"1\" class=\"dataframe\">\n",
       "  <thead>\n",
       "    <tr style=\"text-align: right;\">\n",
       "      <th></th>\n",
       "      <th>item_id</th>\n",
       "      <th>popularity</th>\n",
       "      <th>release_date</th>\n",
       "      <th>video_release_date</th>\n",
       "      <th>release_year</th>\n",
       "      <th>user_id</th>\n",
       "      <th>rating</th>\n",
       "      <th>timestamp</th>\n",
       "    </tr>\n",
       "  </thead>\n",
       "  <tbody>\n",
       "    <tr>\n",
       "      <th>count</th>\n",
       "      <td>100000.000000</td>\n",
       "      <td>100000.000000</td>\n",
       "      <td>99991</td>\n",
       "      <td>0.0</td>\n",
       "      <td>99991.000000</td>\n",
       "      <td>100000.00000</td>\n",
       "      <td>100000.000000</td>\n",
       "      <td>1.000000e+05</td>\n",
       "    </tr>\n",
       "    <tr>\n",
       "      <th>mean</th>\n",
       "      <td>425.530130</td>\n",
       "      <td>168.071900</td>\n",
       "      <td>1988-02-09 00:43:11.369223296</td>\n",
       "      <td>NaN</td>\n",
       "      <td>1987.956216</td>\n",
       "      <td>462.48475</td>\n",
       "      <td>3.529860</td>\n",
       "      <td>8.835289e+08</td>\n",
       "    </tr>\n",
       "    <tr>\n",
       "      <th>min</th>\n",
       "      <td>1.000000</td>\n",
       "      <td>1.000000</td>\n",
       "      <td>1922-01-01 00:00:00</td>\n",
       "      <td>NaN</td>\n",
       "      <td>1922.000000</td>\n",
       "      <td>1.00000</td>\n",
       "      <td>1.000000</td>\n",
       "      <td>8.747247e+08</td>\n",
       "    </tr>\n",
       "    <tr>\n",
       "      <th>25%</th>\n",
       "      <td>175.000000</td>\n",
       "      <td>71.000000</td>\n",
       "      <td>1986-01-01 00:00:00</td>\n",
       "      <td>NaN</td>\n",
       "      <td>1986.000000</td>\n",
       "      <td>254.00000</td>\n",
       "      <td>3.000000</td>\n",
       "      <td>8.794487e+08</td>\n",
       "    </tr>\n",
       "    <tr>\n",
       "      <th>50%</th>\n",
       "      <td>322.000000</td>\n",
       "      <td>145.000000</td>\n",
       "      <td>1994-01-01 00:00:00</td>\n",
       "      <td>NaN</td>\n",
       "      <td>1994.000000</td>\n",
       "      <td>447.00000</td>\n",
       "      <td>4.000000</td>\n",
       "      <td>8.828269e+08</td>\n",
       "    </tr>\n",
       "    <tr>\n",
       "      <th>75%</th>\n",
       "      <td>631.000000</td>\n",
       "      <td>239.000000</td>\n",
       "      <td>1996-09-28 00:00:00</td>\n",
       "      <td>NaN</td>\n",
       "      <td>1996.000000</td>\n",
       "      <td>682.00000</td>\n",
       "      <td>4.000000</td>\n",
       "      <td>8.882600e+08</td>\n",
       "    </tr>\n",
       "    <tr>\n",
       "      <th>max</th>\n",
       "      <td>1682.000000</td>\n",
       "      <td>583.000000</td>\n",
       "      <td>1998-10-23 00:00:00</td>\n",
       "      <td>NaN</td>\n",
       "      <td>1998.000000</td>\n",
       "      <td>943.00000</td>\n",
       "      <td>5.000000</td>\n",
       "      <td>8.932866e+08</td>\n",
       "    </tr>\n",
       "    <tr>\n",
       "      <th>std</th>\n",
       "      <td>330.798356</td>\n",
       "      <td>121.784558</td>\n",
       "      <td>NaN</td>\n",
       "      <td>NaN</td>\n",
       "      <td>14.155523</td>\n",
       "      <td>266.61442</td>\n",
       "      <td>1.125674</td>\n",
       "      <td>5.343856e+06</td>\n",
       "    </tr>\n",
       "  </tbody>\n",
       "</table>\n",
       "</div>"
      ],
      "text/plain": [
       "             item_id     popularity                   release_date  \\\n",
       "count  100000.000000  100000.000000                          99991   \n",
       "mean      425.530130     168.071900  1988-02-09 00:43:11.369223296   \n",
       "min         1.000000       1.000000            1922-01-01 00:00:00   \n",
       "25%       175.000000      71.000000            1986-01-01 00:00:00   \n",
       "50%       322.000000     145.000000            1994-01-01 00:00:00   \n",
       "75%       631.000000     239.000000            1996-09-28 00:00:00   \n",
       "max      1682.000000     583.000000            1998-10-23 00:00:00   \n",
       "std       330.798356     121.784558                            NaN   \n",
       "\n",
       "       video_release_date  release_year       user_id         rating  \\\n",
       "count                 0.0  99991.000000  100000.00000  100000.000000   \n",
       "mean                  NaN   1987.956216     462.48475       3.529860   \n",
       "min                   NaN   1922.000000       1.00000       1.000000   \n",
       "25%                   NaN   1986.000000     254.00000       3.000000   \n",
       "50%                   NaN   1994.000000     447.00000       4.000000   \n",
       "75%                   NaN   1996.000000     682.00000       4.000000   \n",
       "max                   NaN   1998.000000     943.00000       5.000000   \n",
       "std                   NaN     14.155523     266.61442       1.125674   \n",
       "\n",
       "          timestamp  \n",
       "count  1.000000e+05  \n",
       "mean   8.835289e+08  \n",
       "min    8.747247e+08  \n",
       "25%    8.794487e+08  \n",
       "50%    8.828269e+08  \n",
       "75%    8.882600e+08  \n",
       "max    8.932866e+08  \n",
       "std    5.343856e+06  "
      ]
     },
     "execution_count": 12,
     "metadata": {},
     "output_type": "execute_result"
    }
   ],
   "source": [
    "all_ratings = pd.merge(popularity, all_ratings)\n",
    "all_ratings.describe()"
   ]
  },
  {
   "cell_type": "code",
   "execution_count": 133,
   "metadata": {
    "collapsed": false
   },
   "outputs": [],
   "source": [
    "indexed_items = items.set_index('item_id')"
   ]
  },
  {
   "cell_type": "code",
   "execution_count": 115,
   "metadata": {},
   "outputs": [
    {
     "data": {
      "text/html": [
       "<div>\n",
       "<style scoped>\n",
       "    .dataframe tbody tr th:only-of-type {\n",
       "        vertical-align: middle;\n",
       "    }\n",
       "\n",
       "    .dataframe tbody tr th {\n",
       "        vertical-align: top;\n",
       "    }\n",
       "\n",
       "    .dataframe thead th {\n",
       "        text-align: right;\n",
       "    }\n",
       "</style>\n",
       "<table border=\"1\" class=\"dataframe\">\n",
       "  <thead>\n",
       "    <tr style=\"text-align: right;\">\n",
       "      <th></th>\n",
       "      <th>item_id</th>\n",
       "      <th>title</th>\n",
       "      <th>release_date</th>\n",
       "      <th>video_release_date</th>\n",
       "      <th>imdb_url</th>\n",
       "      <th>release_year</th>\n",
       "      <th>user_id</th>\n",
       "      <th>rating</th>\n",
       "      <th>timestamp</th>\n",
       "    </tr>\n",
       "  </thead>\n",
       "  <tbody>\n",
       "    <tr>\n",
       "      <th>0</th>\n",
       "      <td>1</td>\n",
       "      <td>Toy Story (1995)</td>\n",
       "      <td>1995-01-01</td>\n",
       "      <td>NaN</td>\n",
       "      <td>http://us.imdb.com/M/title-exact?Toy%20Story%2...</td>\n",
       "      <td>1995.0</td>\n",
       "      <td>308</td>\n",
       "      <td>4</td>\n",
       "      <td>887736532</td>\n",
       "    </tr>\n",
       "    <tr>\n",
       "      <th>1</th>\n",
       "      <td>1</td>\n",
       "      <td>Toy Story (1995)</td>\n",
       "      <td>1995-01-01</td>\n",
       "      <td>NaN</td>\n",
       "      <td>http://us.imdb.com/M/title-exact?Toy%20Story%2...</td>\n",
       "      <td>1995.0</td>\n",
       "      <td>287</td>\n",
       "      <td>5</td>\n",
       "      <td>875334088</td>\n",
       "    </tr>\n",
       "    <tr>\n",
       "      <th>2</th>\n",
       "      <td>1</td>\n",
       "      <td>Toy Story (1995)</td>\n",
       "      <td>1995-01-01</td>\n",
       "      <td>NaN</td>\n",
       "      <td>http://us.imdb.com/M/title-exact?Toy%20Story%2...</td>\n",
       "      <td>1995.0</td>\n",
       "      <td>148</td>\n",
       "      <td>4</td>\n",
       "      <td>877019411</td>\n",
       "    </tr>\n",
       "    <tr>\n",
       "      <th>3</th>\n",
       "      <td>1</td>\n",
       "      <td>Toy Story (1995)</td>\n",
       "      <td>1995-01-01</td>\n",
       "      <td>NaN</td>\n",
       "      <td>http://us.imdb.com/M/title-exact?Toy%20Story%2...</td>\n",
       "      <td>1995.0</td>\n",
       "      <td>280</td>\n",
       "      <td>4</td>\n",
       "      <td>891700426</td>\n",
       "    </tr>\n",
       "    <tr>\n",
       "      <th>4</th>\n",
       "      <td>1</td>\n",
       "      <td>Toy Story (1995)</td>\n",
       "      <td>1995-01-01</td>\n",
       "      <td>NaN</td>\n",
       "      <td>http://us.imdb.com/M/title-exact?Toy%20Story%2...</td>\n",
       "      <td>1995.0</td>\n",
       "      <td>66</td>\n",
       "      <td>3</td>\n",
       "      <td>883601324</td>\n",
       "    </tr>\n",
       "  </tbody>\n",
       "</table>\n",
       "</div>"
      ],
      "text/plain": [
       "   item_id             title release_date  video_release_date  \\\n",
       "0        1  Toy Story (1995)   1995-01-01                 NaN   \n",
       "1        1  Toy Story (1995)   1995-01-01                 NaN   \n",
       "2        1  Toy Story (1995)   1995-01-01                 NaN   \n",
       "3        1  Toy Story (1995)   1995-01-01                 NaN   \n",
       "4        1  Toy Story (1995)   1995-01-01                 NaN   \n",
       "\n",
       "                                            imdb_url  release_year  user_id  \\\n",
       "0  http://us.imdb.com/M/title-exact?Toy%20Story%2...        1995.0      308   \n",
       "1  http://us.imdb.com/M/title-exact?Toy%20Story%2...        1995.0      287   \n",
       "2  http://us.imdb.com/M/title-exact?Toy%20Story%2...        1995.0      148   \n",
       "3  http://us.imdb.com/M/title-exact?Toy%20Story%2...        1995.0      280   \n",
       "4  http://us.imdb.com/M/title-exact?Toy%20Story%2...        1995.0       66   \n",
       "\n",
       "   rating  timestamp  \n",
       "0       4  887736532  \n",
       "1       5  875334088  \n",
       "2       4  877019411  \n",
       "3       4  891700426  \n",
       "4       3  883601324  "
      ]
     },
     "execution_count": 115,
     "metadata": {},
     "output_type": "execute_result"
    }
   ],
   "source": [
    "all_ratings.head()"
   ]
  },
  {
   "cell_type": "markdown",
   "metadata": {
    "collapsed": false
   },
   "source": [
    "**Quick Exercise**:\n",
    "\n",
    "As we have seen, the `groupby` method is a powerful tool to quickly compute statistics on the data. Use it to compute the average rating for each movie.\n",
    "\n",
    "**Hint**: you can use the `mean` method after the `groupby` method."
   ]
  },
  {
   "cell_type": "code",
   "execution_count": 117,
   "metadata": {
    "collapsed": false
   },
   "outputs": [
    {
     "name": "stdout",
     "output_type": "stream",
     "text": [
      "      item_id    rating                                      title\n",
      "0           1  3.878319                           Toy Story (1995)\n",
      "1           2  3.206107                           GoldenEye (1995)\n",
      "2           3  3.033333                          Four Rooms (1995)\n",
      "3           4  3.550239                          Get Shorty (1995)\n",
      "4           5  3.302326                             Copycat (1995)\n",
      "...       ...       ...                                        ...\n",
      "1677     1678  1.000000                          Mat' i syn (1997)\n",
      "1678     1679  3.000000                           B. Monkey (1998)\n",
      "1679     1680  2.000000                       Sliding Doors (1998)\n",
      "1680     1681  3.000000                        You So Crazy (1994)\n",
      "1681     1682  3.000000  Scream of Stone (Schrei aus Stein) (1991)\n",
      "\n",
      "[1682 rows x 3 columns]\n"
     ]
    }
   ],
   "source": [
    "# pd.set_option('display.max_rows', None) # to display all titles\n",
    "print(pd.merge(all_ratings.groupby('item_id')['rating'].mean(), all_ratings[['title', 'item_id']].drop_duplicates(), on='item_id'))\n",
    "# pd.reset_option('display.max_rows')"
   ]
  },
  {
   "cell_type": "markdown",
   "metadata": {},
   "source": [
    "Let's split the enriched data in a train / test split to make it possible to do predictive modeling:"
   ]
  },
  {
   "cell_type": "code",
   "execution_count": 118,
   "metadata": {},
   "outputs": [],
   "source": [
    "from sklearn.model_selection import train_test_split\n",
    "\n",
    "ratings_train, ratings_test = train_test_split(\n",
    "    all_ratings, test_size=0.2, random_state=0)\n",
    "\n",
    "user_id_train = np.array(ratings_train['user_id'])\n",
    "item_id_train = np.array(ratings_train['item_id'])\n",
    "rating_train = np.array(ratings_train['rating'])\n",
    "\n",
    "user_id_test = np.array(ratings_test['user_id'])\n",
    "item_id_test = np.array(ratings_test['item_id'])\n",
    "rating_test = np.array(ratings_test['rating'])"
   ]
  },
  {
   "cell_type": "markdown",
   "metadata": {},
   "source": [
    "# Explicit feedback: supervised ratings prediction\n",
    "\n",
    "Now let's begin to do some recommendation! We will build a model that takes a user and a movie as input and outputs a predicted rating. We will be taking advantage of embeddings to represent users and movies. That means that each movie and user will have an abstract representation in a continuous vector space. The model will learn these representations based on the ratings."
   ]
  },
  {
   "cell_type": "markdown",
   "metadata": {},
   "source": [
    "## Predictive ratings  as a regression problem\n",
    "\n",
    "The following code implements the following architecture:\n",
    "\n",
    "<img src=\"https://raw.githubusercontent.com/UofT-DSI/deep_learning/main/notebooks/images/rec_archi_1.svg\" style=\"width: 600px;\" />"
   ]
  },
  {
   "cell_type": "code",
   "execution_count": 119,
   "metadata": {},
   "outputs": [],
   "source": [
    "from tensorflow.keras.layers import Embedding, Flatten, Dense, Dropout\n",
    "from tensorflow.keras.layers import Dot\n",
    "from tensorflow.keras.models import Model"
   ]
  },
  {
   "cell_type": "code",
   "execution_count": 120,
   "metadata": {},
   "outputs": [],
   "source": [
    "# For each sample we input the integer identifiers\n",
    "# of a single user and a single item\n",
    "class RegressionModel(Model):\n",
    "    def __init__(self, embedding_size, max_user_id, max_item_id):\n",
    "        super().__init__()\n",
    "        \n",
    "        self.user_embedding = Embedding(output_dim=embedding_size,\n",
    "                                        input_dim=max_user_id + 1,\n",
    "                                        input_length=1,\n",
    "                                        name='user_embedding')\n",
    "        self.item_embedding = Embedding(output_dim=embedding_size,\n",
    "                                        input_dim=max_item_id + 1,\n",
    "                                        input_length=1,\n",
    "                                        name='item_embedding')\n",
    "        \n",
    "        # The following two layers don't have parameters.\n",
    "        self.flatten = Flatten()\n",
    "        self.dot = Dot(axes=1)\n",
    "        \n",
    "    def call(self, inputs):\n",
    "        user_inputs = inputs[0]\n",
    "        item_inputs = inputs[1]\n",
    "        \n",
    "        user_vecs = self.flatten(self.user_embedding(user_inputs))\n",
    "        item_vecs = self.flatten(self.item_embedding(item_inputs))\n",
    "        \n",
    "        y = self.dot([user_vecs, item_vecs])\n",
    "        return y\n",
    "\n",
    "\n",
    "model = RegressionModel(embedding_size=64, max_user_id=all_ratings['user_id'].max(), max_item_id=all_ratings['item_id'].max())\n",
    "model.compile(optimizer=\"adam\", loss='mae')"
   ]
  },
  {
   "cell_type": "markdown",
   "metadata": {},
   "source": [
    "### Monitoring runs\n",
    "\n",
    "When training a model with Keras, we get a `history` object back that contains lots of information about the training run. We can use this to plot the training and validation loss to see how the model has improved during training."
   ]
  },
  {
   "cell_type": "code",
   "execution_count": 121,
   "metadata": {},
   "outputs": [
    {
     "name": "stdout",
     "output_type": "stream",
     "text": [
      "Epoch 1/10\n",
      "1125/1125 [==============================] - 8s 6ms/step - loss: 2.6002 - val_loss: 1.0414\n",
      "Epoch 2/10\n",
      "1125/1125 [==============================] - 6s 6ms/step - loss: 0.8482 - val_loss: 0.7935\n",
      "Epoch 3/10\n",
      "1125/1125 [==============================] - 6s 5ms/step - loss: 0.7539 - val_loss: 0.7626\n",
      "Epoch 4/10\n",
      "1125/1125 [==============================] - 6s 5ms/step - loss: 0.7267 - val_loss: 0.7566\n",
      "Epoch 5/10\n",
      "1125/1125 [==============================] - 5s 5ms/step - loss: 0.7055 - val_loss: 0.7452\n",
      "Epoch 6/10\n",
      "1125/1125 [==============================] - 6s 5ms/step - loss: 0.6861 - val_loss: 0.7442\n",
      "Epoch 7/10\n",
      "1125/1125 [==============================] - 5s 5ms/step - loss: 0.6653 - val_loss: 0.7398\n",
      "Epoch 8/10\n",
      "1125/1125 [==============================] - 5s 5ms/step - loss: 0.6438 - val_loss: 0.7414\n",
      "Epoch 9/10\n",
      "1125/1125 [==============================] - 6s 5ms/step - loss: 0.6217 - val_loss: 0.7401\n",
      "Epoch 10/10\n",
      "1125/1125 [==============================] - 6s 5ms/step - loss: 0.5964 - val_loss: 0.7423\n",
      "CPU times: total: 3min 32s\n",
      "Wall time: 59.5 s\n"
     ]
    }
   ],
   "source": [
    "%%time\n",
    "\n",
    "# Training the model\n",
    "history = model.fit([user_id_train, item_id_train], rating_train,\n",
    "                    batch_size=64, epochs=10, validation_split=0.1,\n",
    "                    shuffle=True)"
   ]
  },
  {
   "cell_type": "code",
   "execution_count": 20,
   "metadata": {},
   "outputs": [
    {
     "data": {
      "image/png": "[encoded data removed]",
      "text/plain": [
       "<Figure size 640x480 with 1 Axes>"
      ]
     },
     "metadata": {},
     "output_type": "display_data"
    }
   ],
   "source": [
    "plt.plot(history.history['loss'], label='train')\n",
    "plt.plot(history.history['val_loss'], label='validation')\n",
    "plt.ylim(0, 2)\n",
    "plt.legend(loc='best')\n",
    "plt.title('Loss');"
   ]
  },
  {
   "cell_type": "markdown",
   "metadata": {},
   "source": [
    "**Questions**:\n",
    "\n",
    "- Does it look like our model has overfit? Why or why not?\n",
    "- Suggest something we could do to prevent overfitting.\n",
    "\n",
    "\n",
    "Now that the model is trained, let's check out the quality of predictions:"
   ]
  },
  {
   "cell_type": "code",
   "execution_count": 141,
   "metadata": {},
   "outputs": [],
   "source": [
    "def plot_predictions(y_true, y_pred):\n",
    "    plt.figure(figsize=(4, 4))\n",
    "    plt.xlim(-1, 6)\n",
    "    plt.xlabel(\"True rating\")\n",
    "    plt.ylim(-1, 6)\n",
    "    plt.ylabel(\"Predicted rating\")\n",
    "    plt.scatter(y_true, y_pred, s=60, alpha=0.01)"
   ]
  },
  {
   "cell_type": "code",
   "execution_count": 142,
   "metadata": {},
   "outputs": [
    {
     "name": "stdout",
     "output_type": "stream",
     "text": [
      "625/625 [==============================] - 2s 3ms/step\n",
      "Final test MSE: 0.905\n",
      "Final test MAE: 0.734\n"
     ]
    },
    {
     "data": {
      "image/png": "[encoded data removed]",
      "text/plain": [
       "<Figure size 400x400 with 1 Axes>"
      ]
     },
     "metadata": {},
     "output_type": "display_data"
    }
   ],
   "source": [
    "from sklearn.metrics import mean_squared_error\n",
    "from sklearn.metrics import mean_absolute_error\n",
    "\n",
    "test_preds = model.predict([user_id_test, item_id_test])\n",
    "print(\"Final test MSE: %0.3f\" % mean_squared_error(test_preds, rating_test))\n",
    "print(\"Final test MAE: %0.3f\" % mean_absolute_error(test_preds, rating_test))\n",
    "plot_predictions(rating_test, test_preds)"
   ]
  },
  {
   "cell_type": "markdown",
   "metadata": {
    "collapsed": false
   },
   "source": [
    "This graph shows us the range of predicted ratings our model gives, organized by the true rating. We can see that generally, the higher the true rating the higher the predicted rating, although there is quite a range of predictions for each instance. That's okay - our model is very simple, and human preferences are very complex!\n",
    "\n",
    "Taking a look at the Mean Absolute Error, hopefully you got something around 0.75. This means that, on average, our predicted ratings are about 0.75 stars off from the true ratings. This is a pretty good result for a first attempt. We could probably do better with a more complex model, but we'll leave that for another time."
   ]
  },
  {
   "cell_type": "markdown",
   "metadata": {},
   "source": [
    "### Model Embeddings\n",
    "\n",
    "Our model was built with two embedding layers. These layers have learned a representation of both the users and the movies in our dataset. We can extract these representations and use them to find similar movies or users. We can also do interesting exploratory analysis, like finding the most popular movies among our users, or finding the users that are most interested in a given movie."
   ]
  },
  {
   "cell_type": "code",
   "execution_count": 143,
   "metadata": {},
   "outputs": [
    {
     "data": {
      "text/plain": [
       "[(944, 64), (1683, 64)]"
      ]
     },
     "execution_count": 143,
     "metadata": {},
     "output_type": "execute_result"
    }
   ],
   "source": [
    "# weights and shape\n",
    "weights = model.get_weights()\n",
    "[w.shape for w in weights]"
   ]
  },
  {
   "cell_type": "code",
   "execution_count": 144,
   "metadata": {},
   "outputs": [],
   "source": [
    "user_embeddings = weights[0]\n",
    "item_embeddings = weights[1]"
   ]
  },
  {
   "cell_type": "code",
   "execution_count": 124,
   "metadata": {},
   "outputs": [
    {
     "name": "stdout",
     "output_type": "stream",
     "text": [
      "Title for item_id=181: Return of the Jedi (1983)\n"
     ]
    }
   ],
   "source": [
    "item_id = 181\n",
    "print(f\"Title for item_id={item_id}: {indexed_items['title'][item_id]}\")"
   ]
  },
  {
   "cell_type": "code",
   "execution_count": 125,
   "metadata": {},
   "outputs": [
    {
     "name": "stdout",
     "output_type": "stream",
     "text": [
      "Embedding vector for item_id=181\n",
      "[ 0.34738192  0.3062225   0.53582835  0.42624626 -0.25093427  0.24423073\n",
      " -0.298515   -0.04747987  0.12858385 -0.59536576  0.14977482  0.4051364\n",
      " -0.44675824  0.20632058 -0.3589873   0.3564209  -0.43015766 -0.09979878\n",
      " -0.13966936  0.23426291  0.7584241   0.23449826  0.3459949  -0.34864017\n",
      " -0.3574575  -0.27261278 -0.36954388  0.11665276  0.5728821  -0.43837786\n",
      " -0.36571795  0.02531334 -0.39279127 -0.41194737  0.04300463 -0.47137707\n",
      " -0.07969294  0.42359048  0.38752356  0.36115357  0.41498584  0.08707152\n",
      "  0.2031874  -0.01116261  0.22559562 -0.19395374  0.00788017  0.4044497\n",
      "  0.2615343   0.20158577  0.50444835  0.17853068  0.44555426 -0.38036525\n",
      "  0.39868802 -0.08968801 -0.4571984  -0.28410822 -0.07928711 -0.18458678\n",
      " -0.30798876  0.20580828  0.27286357  0.32000625]\n",
      "shape: (64,)\n"
     ]
    }
   ],
   "source": [
    "print(f\"Embedding vector for item_id={item_id}\")\n",
    "print(item_embeddings[item_id])\n",
    "print(\"shape:\", item_embeddings[item_id].shape)"
   ]
  },
  {
   "cell_type": "markdown",
   "metadata": {
    "collapsed": false
   },
   "source": [
    "As we discussed in lecture, our embeddings are not directly interpretable - we can't look at, say, a value of 0.297 in the embedding vector and say \"this means that the movie is a drama\". As an aside, there is a field of research dedicated to making _interpretable_ embeddings, but it's not something we'll cover in this course. "
   ]
  },
  {
   "cell_type": "markdown",
   "metadata": {},
   "source": [
    "### Finding our most similar items\n",
    "\n",
    "Now we can have some fun, investigating the embeddings we've learned. We can start by finding the most similar items to a given item. We can do this by computing the cosine similarity between the item's embedding and the embedding of every other item. We can use the `cosine_similarity` function from `sklearn` to do this."
   ]
  },
  {
   "cell_type": "code",
   "execution_count": 126,
   "metadata": {
    "collapsed": false
   },
   "outputs": [],
   "source": [
    "from sklearn.metrics.pairwise import cosine_similarity\n",
    "\n",
    "def cosine(a, b):\n",
    "    # Reshape to the shape our function expects\n",
    "    a = a.reshape(1, -1)\n",
    "    b = b.reshape(1, -1)\n",
    "    return cosine_similarity(a, b)[0, 0]"
   ]
  },
  {
   "cell_type": "code",
   "execution_count": 182,
   "metadata": {},
   "outputs": [
    {
     "name": "stdout",
     "output_type": "stream",
     "text": [
      "Star Wars (1977)\n",
      "Return of the Jedi (1983)\n",
      "Cosine similarity: 0.923\n"
     ]
    }
   ],
   "source": [
    "def print_similarity(item_a, item_b, item_embeddings, titles):\n",
    "    print(titles[item_a])\n",
    "    print(titles[item_b])\n",
    "    similarity = cosine(item_embeddings[item_a],\n",
    "                        item_embeddings[item_b])\n",
    "    print(f\"Cosine similarity: {similarity:.3}\")\n",
    "    \n",
    "print_similarity(50, 181, item_embeddings, indexed_items[\"title\"])"
   ]
  },
  {
   "cell_type": "markdown",
   "metadata": {
    "collapsed": false
   },
   "source": [
    "It makes sense that the original Star Wars, and its later sequel Return of the Jedi have a high similarity. Let's try some other examples:"
   ]
  },
  {
   "cell_type": "code",
   "execution_count": 129,
   "metadata": {},
   "outputs": [
    {
     "name": "stdout",
     "output_type": "stream",
     "text": [
      "Return of the Jedi (1983)\n",
      "Scream (1996)\n",
      "Cosine similarity: 0.727\n"
     ]
    }
   ],
   "source": [
    "print_similarity(181, 288, item_embeddings, indexed_items[\"title\"])"
   ]
  },
  {
   "cell_type": "code",
   "execution_count": 130,
   "metadata": {},
   "outputs": [
    {
     "name": "stdout",
     "output_type": "stream",
     "text": [
      "Return of the Jedi (1983)\n",
      "Toy Story (1995)\n",
      "Cosine similarity: 0.851\n"
     ]
    }
   ],
   "source": [
    "print_similarity(181, 1, item_embeddings, indexed_items[\"title\"])"
   ]
  },
  {
   "cell_type": "code",
   "execution_count": 183,
   "metadata": {},
   "outputs": [
    {
     "name": "stdout",
     "output_type": "stream",
     "text": [
      "Return of the Jedi (1983)\n",
      "Return of the Jedi (1983)\n",
      "Cosine similarity: 1.0\n"
     ]
    }
   ],
   "source": [
    "print_similarity(181, 181, item_embeddings, indexed_items[\"title\"])"
   ]
  },
  {
   "cell_type": "markdown",
   "metadata": {
    "collapsed": false
   },
   "source": [
    "*Quick Exercise*:\n",
    "\n",
    "- Find some other films and compare their similarity. Do the results make sense to you? Can you find a pair of films that are very _dissimilar_?"
   ]
  },
  {
   "cell_type": "code",
   "execution_count": 196,
   "metadata": {
    "collapsed": false
   },
   "outputs": [
    {
     "data": {
      "text/html": [
       "<div>\n",
       "<style scoped>\n",
       "    .dataframe tbody tr th:only-of-type {\n",
       "        vertical-align: middle;\n",
       "    }\n",
       "\n",
       "    .dataframe tbody tr th {\n",
       "        vertical-align: top;\n",
       "    }\n",
       "\n",
       "    .dataframe thead th {\n",
       "        text-align: right;\n",
       "    }\n",
       "</style>\n",
       "<table border=\"1\" class=\"dataframe\">\n",
       "  <thead>\n",
       "    <tr style=\"text-align: right;\">\n",
       "      <th></th>\n",
       "      <th>popularity</th>\n",
       "      <th>title</th>\n",
       "      <th>release_date</th>\n",
       "      <th>video_release_date</th>\n",
       "      <th>imdb_url</th>\n",
       "      <th>release_year</th>\n",
       "    </tr>\n",
       "    <tr>\n",
       "      <th>item_id</th>\n",
       "      <th></th>\n",
       "      <th></th>\n",
       "      <th></th>\n",
       "      <th></th>\n",
       "      <th></th>\n",
       "      <th></th>\n",
       "    </tr>\n",
       "  </thead>\n",
       "  <tbody>\n",
       "    <tr>\n",
       "      <th>36</th>\n",
       "      <td>13</td>\n",
       "      <td>Mad Love (1995)</td>\n",
       "      <td>1995-01-01</td>\n",
       "      <td>NaN</td>\n",
       "      <td>http://us.imdb.com/M/title-exact?Mad%20Love%20...</td>\n",
       "      <td>1995.0</td>\n",
       "    </tr>\n",
       "    <tr>\n",
       "      <th>139</th>\n",
       "      <td>50</td>\n",
       "      <td>Love Bug, The (1969)</td>\n",
       "      <td>1969-01-01</td>\n",
       "      <td>NaN</td>\n",
       "      <td>http://us.imdb.com/M/title-exact?Love%20Bug,%2...</td>\n",
       "      <td>1969.0</td>\n",
       "    </tr>\n",
       "    <tr>\n",
       "      <th>319</th>\n",
       "      <td>168</td>\n",
       "      <td>Everyone Says I Love You (1996)</td>\n",
       "      <td>1996-12-06</td>\n",
       "      <td>NaN</td>\n",
       "      <td>http://us.imdb.com/M/title-exact?Everyone%20Sa...</td>\n",
       "      <td>1996.0</td>\n",
       "    </tr>\n",
       "    <tr>\n",
       "      <th>474</th>\n",
       "      <td>194</td>\n",
       "      <td>Dr. Strangelove or: How I Learned to Stop Worr...</td>\n",
       "      <td>1963-01-01</td>\n",
       "      <td>NaN</td>\n",
       "      <td>http://us.imdb.com/M/title-exact?Dr.%20Strange...</td>\n",
       "      <td>1963.0</td>\n",
       "    </tr>\n",
       "    <tr>\n",
       "      <th>532</th>\n",
       "      <td>22</td>\n",
       "      <td>Kama Sutra: A Tale of Love (1996)</td>\n",
       "      <td>1997-03-07</td>\n",
       "      <td>NaN</td>\n",
       "      <td>http://us.imdb.com/M/title-exact?Kama%20Sutra%...</td>\n",
       "      <td>1997.0</td>\n",
       "    </tr>\n",
       "    <tr>\n",
       "      <th>535</th>\n",
       "      <td>54</td>\n",
       "      <td>Addicted to Love (1997)</td>\n",
       "      <td>1997-05-23</td>\n",
       "      <td>NaN</td>\n",
       "      <td>http://us.imdb.com/M/title-exact?Addicted%20to...</td>\n",
       "      <td>1997.0</td>\n",
       "    </tr>\n",
       "    <tr>\n",
       "      <th>640</th>\n",
       "      <td>82</td>\n",
       "      <td>Cook the Thief His Wife &amp; Her Lover, The (1989)</td>\n",
       "      <td>1989-01-01</td>\n",
       "      <td>NaN</td>\n",
       "      <td>http://us.imdb.com/M/title-exact?Cook%20the%20...</td>\n",
       "      <td>1989.0</td>\n",
       "    </tr>\n",
       "    <tr>\n",
       "      <th>872</th>\n",
       "      <td>42</td>\n",
       "      <td>Love Jones (1997)</td>\n",
       "      <td>1997-03-14</td>\n",
       "      <td>NaN</td>\n",
       "      <td>http://us.imdb.com/M/title-exact?Love%20Jones%...</td>\n",
       "      <td>1997.0</td>\n",
       "    </tr>\n",
       "    <tr>\n",
       "      <th>875</th>\n",
       "      <td>53</td>\n",
       "      <td>She's So Lovely (1997)</td>\n",
       "      <td>1997-08-22</td>\n",
       "      <td>NaN</td>\n",
       "      <td>http://us.imdb.com/M/title-exact?She%27s+So+Lo...</td>\n",
       "      <td>1997.0</td>\n",
       "    </tr>\n",
       "    <tr>\n",
       "      <th>913</th>\n",
       "      <td>2</td>\n",
       "      <td>Love and Death on Long Island (1997)</td>\n",
       "      <td>1998-03-10</td>\n",
       "      <td>NaN</td>\n",
       "      <td>http://us.imdb.com/Title?Love+and+Death+on+Lon...</td>\n",
       "      <td>1998.0</td>\n",
       "    </tr>\n",
       "    <tr>\n",
       "      <th>942</th>\n",
       "      <td>45</td>\n",
       "      <td>What's Love Got to Do with It (1993)</td>\n",
       "      <td>1993-01-01</td>\n",
       "      <td>NaN</td>\n",
       "      <td>http://us.imdb.com/M/title-exact?What's%20Love...</td>\n",
       "      <td>1993.0</td>\n",
       "    </tr>\n",
       "    <tr>\n",
       "      <th>1072</th>\n",
       "      <td>7</td>\n",
       "      <td>Pyromaniac's Love Story, A (1995)</td>\n",
       "      <td>1995-01-01</td>\n",
       "      <td>NaN</td>\n",
       "      <td>http://us.imdb.com/M/title-exact?Pyromaniac's%...</td>\n",
       "      <td>1995.0</td>\n",
       "    </tr>\n",
       "    <tr>\n",
       "      <th>1077</th>\n",
       "      <td>8</td>\n",
       "      <td>Love and a .45 (1994)</td>\n",
       "      <td>1994-01-01</td>\n",
       "      <td>NaN</td>\n",
       "      <td>http://us.imdb.com/M/title-exact?Love%20and%20...</td>\n",
       "      <td>1994.0</td>\n",
       "    </tr>\n",
       "    <tr>\n",
       "      <th>1094</th>\n",
       "      <td>12</td>\n",
       "      <td>Thin Line Between Love and Hate, A (1996)</td>\n",
       "      <td>1996-04-03</td>\n",
       "      <td>NaN</td>\n",
       "      <td>http://us.imdb.com/M/title-exact?Thin%20Line%2...</td>\n",
       "      <td>1996.0</td>\n",
       "    </tr>\n",
       "    <tr>\n",
       "      <th>1152</th>\n",
       "      <td>28</td>\n",
       "      <td>In Love and War (1996)</td>\n",
       "      <td>1997-01-24</td>\n",
       "      <td>NaN</td>\n",
       "      <td>http://us.imdb.com/M/title-exact?In%20Love%20a...</td>\n",
       "      <td>1997.0</td>\n",
       "    </tr>\n",
       "    <tr>\n",
       "      <th>1160</th>\n",
       "      <td>26</td>\n",
       "      <td>Love! Valour! Compassion! (1997)</td>\n",
       "      <td>1997-05-16</td>\n",
       "      <td>NaN</td>\n",
       "      <td>http://us.imdb.com/Title?Love%21+Valour%21+Com...</td>\n",
       "      <td>1997.0</td>\n",
       "    </tr>\n",
       "    <tr>\n",
       "      <th>1166</th>\n",
       "      <td>12</td>\n",
       "      <td>Love &amp; Human Remains (1993)</td>\n",
       "      <td>1993-01-01</td>\n",
       "      <td>NaN</td>\n",
       "      <td>http://us.imdb.com/M/title-exact?Love%20&amp;%20Hu...</td>\n",
       "      <td>1993.0</td>\n",
       "    </tr>\n",
       "    <tr>\n",
       "      <th>1180</th>\n",
       "      <td>10</td>\n",
       "      <td>I Love Trouble (1994)</td>\n",
       "      <td>1994-01-01</td>\n",
       "      <td>NaN</td>\n",
       "      <td>http://us.imdb.com/M/title-exact?I%20Love%20Tr...</td>\n",
       "      <td>1994.0</td>\n",
       "    </tr>\n",
       "    <tr>\n",
       "      <th>1221</th>\n",
       "      <td>39</td>\n",
       "      <td>When a Man Loves a Woman (1994)</td>\n",
       "      <td>1994-01-01</td>\n",
       "      <td>NaN</td>\n",
       "      <td>http://us.imdb.com/M/title-exact?When%20a%20Ma...</td>\n",
       "      <td>1994.0</td>\n",
       "    </tr>\n",
       "    <tr>\n",
       "      <th>1249</th>\n",
       "      <td>12</td>\n",
       "      <td>For Love or Money (1993)</td>\n",
       "      <td>1993-01-01</td>\n",
       "      <td>NaN</td>\n",
       "      <td>http://us.imdb.com/M/title-exact?For%20Love%20...</td>\n",
       "      <td>1993.0</td>\n",
       "    </tr>\n",
       "    <tr>\n",
       "      <th>1251</th>\n",
       "      <td>8</td>\n",
       "      <td>A Chef in Love (1996)</td>\n",
       "      <td>1997-04-25</td>\n",
       "      <td>NaN</td>\n",
       "      <td>http://us.imdb.com/M/title-exact?Mille%20et%20...</td>\n",
       "      <td>1997.0</td>\n",
       "    </tr>\n",
       "    <tr>\n",
       "      <th>1269</th>\n",
       "      <td>10</td>\n",
       "      <td>Love in the Afternoon (1957)</td>\n",
       "      <td>1957-01-01</td>\n",
       "      <td>NaN</td>\n",
       "      <td>http://us.imdb.com/M/title-exact?Love%20in%20t...</td>\n",
       "      <td>1957.0</td>\n",
       "    </tr>\n",
       "    <tr>\n",
       "      <th>1297</th>\n",
       "      <td>12</td>\n",
       "      <td>Love Affair (1994)</td>\n",
       "      <td>1994-01-01</td>\n",
       "      <td>NaN</td>\n",
       "      <td>http://us.imdb.com/M/title-exact?Love%20Affair...</td>\n",
       "      <td>1994.0</td>\n",
       "    </tr>\n",
       "    <tr>\n",
       "      <th>1312</th>\n",
       "      <td>7</td>\n",
       "      <td>Pompatus of Love, The (1996)</td>\n",
       "      <td>1996-07-26</td>\n",
       "      <td>NaN</td>\n",
       "      <td>http://us.imdb.com/M/title-exact?Pompatus%20of...</td>\n",
       "      <td>1996.0</td>\n",
       "    </tr>\n",
       "    <tr>\n",
       "      <th>1328</th>\n",
       "      <td>6</td>\n",
       "      <td>Of Love and Shadows (1994)</td>\n",
       "      <td>1996-05-10</td>\n",
       "      <td>NaN</td>\n",
       "      <td>http://us.imdb.com/M/title-exact?Of%20Love%20a...</td>\n",
       "      <td>1996.0</td>\n",
       "    </tr>\n",
       "    <tr>\n",
       "      <th>1334</th>\n",
       "      <td>2</td>\n",
       "      <td>Somebody to Love (1994)</td>\n",
       "      <td>1996-06-14</td>\n",
       "      <td>NaN</td>\n",
       "      <td>http://us.imdb.com/Title?Somebody+to+Love+(1996)</td>\n",
       "      <td>1996.0</td>\n",
       "    </tr>\n",
       "    <tr>\n",
       "      <th>1351</th>\n",
       "      <td>3</td>\n",
       "      <td>Lover's Knot (1996)</td>\n",
       "      <td>1996-07-12</td>\n",
       "      <td>NaN</td>\n",
       "      <td>http://us.imdb.com/M/title-exact?Lover's%20Kno...</td>\n",
       "      <td>1996.0</td>\n",
       "    </tr>\n",
       "    <tr>\n",
       "      <th>1374</th>\n",
       "      <td>2</td>\n",
       "      <td>Falling in Love Again (1980)</td>\n",
       "      <td>1980-01-01</td>\n",
       "      <td>NaN</td>\n",
       "      <td>http://us.imdb.com/M/title-exact?Falling%20in%...</td>\n",
       "      <td>1980.0</td>\n",
       "    </tr>\n",
       "    <tr>\n",
       "      <th>1377</th>\n",
       "      <td>4</td>\n",
       "      <td>Hotel de Love (1996)</td>\n",
       "      <td>1997-02-07</td>\n",
       "      <td>NaN</td>\n",
       "      <td>http://us.imdb.com/M/title-exact?Hotel%20de%20...</td>\n",
       "      <td>1997.0</td>\n",
       "    </tr>\n",
       "    <tr>\n",
       "      <th>1379</th>\n",
       "      <td>7</td>\n",
       "      <td>Love and Other Catastrophes (1996)</td>\n",
       "      <td>1997-03-28</td>\n",
       "      <td>NaN</td>\n",
       "      <td>http://us.imdb.com/M/title-exact?Love%20and%20...</td>\n",
       "      <td>1997.0</td>\n",
       "    </tr>\n",
       "    <tr>\n",
       "      <th>1446</th>\n",
       "      <td>15</td>\n",
       "      <td>Bye Bye, Love (1995)</td>\n",
       "      <td>1995-01-01</td>\n",
       "      <td>NaN</td>\n",
       "      <td>http://us.imdb.com/M/title-exact?Bye%20Bye,%20...</td>\n",
       "      <td>1995.0</td>\n",
       "    </tr>\n",
       "    <tr>\n",
       "      <th>1457</th>\n",
       "      <td>1</td>\n",
       "      <td>Love Is All There Is (1996)</td>\n",
       "      <td>1996-10-11</td>\n",
       "      <td>NaN</td>\n",
       "      <td>http://us.imdb.com/M/title-exact?Love%20Is%20A...</td>\n",
       "      <td>1996.0</td>\n",
       "    </tr>\n",
       "    <tr>\n",
       "      <th>1474</th>\n",
       "      <td>6</td>\n",
       "      <td>Nina Takes a Lover (1994)</td>\n",
       "      <td>1994-01-01</td>\n",
       "      <td>NaN</td>\n",
       "      <td>http://us.imdb.com/M/title-exact?Nina%20Takes%...</td>\n",
       "      <td>1994.0</td>\n",
       "    </tr>\n",
       "    <tr>\n",
       "      <th>1568</th>\n",
       "      <td>1</td>\n",
       "      <td>Vermont Is For Lovers (1992)</td>\n",
       "      <td>1992-01-01</td>\n",
       "      <td>NaN</td>\n",
       "      <td>http://us.imdb.com/M/title-exact?Vermont%20Is%...</td>\n",
       "      <td>1992.0</td>\n",
       "    </tr>\n",
       "    <tr>\n",
       "      <th>1605</th>\n",
       "      <td>4</td>\n",
       "      <td>Love Serenade (1996)</td>\n",
       "      <td>1997-07-11</td>\n",
       "      <td>NaN</td>\n",
       "      <td>http://us.imdb.com/M/title-exact?Love+Serenade...</td>\n",
       "      <td>1997.0</td>\n",
       "    </tr>\n",
       "    <tr>\n",
       "      <th>1626</th>\n",
       "      <td>1</td>\n",
       "      <td>Nobody Loves Me (Keiner liebt mich) (1994)</td>\n",
       "      <td>1996-02-09</td>\n",
       "      <td>NaN</td>\n",
       "      <td>http://us.imdb.com/M/title-exact?Keiner%20lieb...</td>\n",
       "      <td>1996.0</td>\n",
       "    </tr>\n",
       "  </tbody>\n",
       "</table>\n",
       "</div>"
      ],
      "text/plain": [
       "         popularity                                              title  \\\n",
       "item_id                                                                  \n",
       "36               13                                    Mad Love (1995)   \n",
       "139              50                               Love Bug, The (1969)   \n",
       "319             168                    Everyone Says I Love You (1996)   \n",
       "474             194  Dr. Strangelove or: How I Learned to Stop Worr...   \n",
       "532              22                  Kama Sutra: A Tale of Love (1996)   \n",
       "535              54                            Addicted to Love (1997)   \n",
       "640              82    Cook the Thief His Wife & Her Lover, The (1989)   \n",
       "872              42                                  Love Jones (1997)   \n",
       "875              53                             She's So Lovely (1997)   \n",
       "913               2               Love and Death on Long Island (1997)   \n",
       "942              45               What's Love Got to Do with It (1993)   \n",
       "1072              7                  Pyromaniac's Love Story, A (1995)   \n",
       "1077              8                              Love and a .45 (1994)   \n",
       "1094             12          Thin Line Between Love and Hate, A (1996)   \n",
       "1152             28                             In Love and War (1996)   \n",
       "1160             26                   Love! Valour! Compassion! (1997)   \n",
       "1166             12                        Love & Human Remains (1993)   \n",
       "1180             10                              I Love Trouble (1994)   \n",
       "1221             39                    When a Man Loves a Woman (1994)   \n",
       "1249             12                           For Love or Money (1993)   \n",
       "1251              8                              A Chef in Love (1996)   \n",
       "1269             10                       Love in the Afternoon (1957)   \n",
       "1297             12                                 Love Affair (1994)   \n",
       "1312              7                       Pompatus of Love, The (1996)   \n",
       "1328              6                         Of Love and Shadows (1994)   \n",
       "1334              2                            Somebody to Love (1994)   \n",
       "1351              3                                Lover's Knot (1996)   \n",
       "1374              2                       Falling in Love Again (1980)   \n",
       "1377              4                               Hotel de Love (1996)   \n",
       "1379              7                 Love and Other Catastrophes (1996)   \n",
       "1446             15                               Bye Bye, Love (1995)   \n",
       "1457              1                        Love Is All There Is (1996)   \n",
       "1474              6                          Nina Takes a Lover (1994)   \n",
       "1568              1                       Vermont Is For Lovers (1992)   \n",
       "1605              4                               Love Serenade (1996)   \n",
       "1626              1         Nobody Loves Me (Keiner liebt mich) (1994)   \n",
       "\n",
       "        release_date  video_release_date  \\\n",
       "item_id                                    \n",
       "36        1995-01-01                 NaN   \n",
       "139       1969-01-01                 NaN   \n",
       "319       1996-12-06                 NaN   \n",
       "474       1963-01-01                 NaN   \n",
       "532       1997-03-07                 NaN   \n",
       "535       1997-05-23                 NaN   \n",
       "640       1989-01-01                 NaN   \n",
       "872       1997-03-14                 NaN   \n",
       "875       1997-08-22                 NaN   \n",
       "913       1998-03-10                 NaN   \n",
       "942       1993-01-01                 NaN   \n",
       "1072      1995-01-01                 NaN   \n",
       "1077      1994-01-01                 NaN   \n",
       "1094      1996-04-03                 NaN   \n",
       "1152      1997-01-24                 NaN   \n",
       "1160      1997-05-16                 NaN   \n",
       "1166      1993-01-01                 NaN   \n",
       "1180      1994-01-01                 NaN   \n",
       "1221      1994-01-01                 NaN   \n",
       "1249      1993-01-01                 NaN   \n",
       "1251      1997-04-25                 NaN   \n",
       "1269      1957-01-01                 NaN   \n",
       "1297      1994-01-01                 NaN   \n",
       "1312      1996-07-26                 NaN   \n",
       "1328      1996-05-10                 NaN   \n",
       "1334      1996-06-14                 NaN   \n",
       "1351      1996-07-12                 NaN   \n",
       "1374      1980-01-01                 NaN   \n",
       "1377      1997-02-07                 NaN   \n",
       "1379      1997-03-28                 NaN   \n",
       "1446      1995-01-01                 NaN   \n",
       "1457      1996-10-11                 NaN   \n",
       "1474      1994-01-01                 NaN   \n",
       "1568      1992-01-01                 NaN   \n",
       "1605      1997-07-11                 NaN   \n",
       "1626      1996-02-09                 NaN   \n",
       "\n",
       "                                                  imdb_url  release_year  \n",
       "item_id                                                                   \n",
       "36       http://us.imdb.com/M/title-exact?Mad%20Love%20...        1995.0  \n",
       "139      http://us.imdb.com/M/title-exact?Love%20Bug,%2...        1969.0  \n",
       "319      http://us.imdb.com/M/title-exact?Everyone%20Sa...        1996.0  \n",
       "474      http://us.imdb.com/M/title-exact?Dr.%20Strange...        1963.0  \n",
       "532      http://us.imdb.com/M/title-exact?Kama%20Sutra%...        1997.0  \n",
       "535      http://us.imdb.com/M/title-exact?Addicted%20to...        1997.0  \n",
       "640      http://us.imdb.com/M/title-exact?Cook%20the%20...        1989.0  \n",
       "872      http://us.imdb.com/M/title-exact?Love%20Jones%...        1997.0  \n",
       "875      http://us.imdb.com/M/title-exact?She%27s+So+Lo...        1997.0  \n",
       "913      http://us.imdb.com/Title?Love+and+Death+on+Lon...        1998.0  \n",
       "942      http://us.imdb.com/M/title-exact?What's%20Love...        1993.0  \n",
       "1072     http://us.imdb.com/M/title-exact?Pyromaniac's%...        1995.0  \n",
       "1077     http://us.imdb.com/M/title-exact?Love%20and%20...        1994.0  \n",
       "1094     http://us.imdb.com/M/title-exact?Thin%20Line%2...        1996.0  \n",
       "1152     http://us.imdb.com/M/title-exact?In%20Love%20a...        1997.0  \n",
       "1160     http://us.imdb.com/Title?Love%21+Valour%21+Com...        1997.0  \n",
       "1166     http://us.imdb.com/M/title-exact?Love%20&%20Hu...        1993.0  \n",
       "1180     http://us.imdb.com/M/title-exact?I%20Love%20Tr...        1994.0  \n",
       "1221     http://us.imdb.com/M/title-exact?When%20a%20Ma...        1994.0  \n",
       "1249     http://us.imdb.com/M/title-exact?For%20Love%20...        1993.0  \n",
       "1251     http://us.imdb.com/M/title-exact?Mille%20et%20...        1997.0  \n",
       "1269     http://us.imdb.com/M/title-exact?Love%20in%20t...        1957.0  \n",
       "1297     http://us.imdb.com/M/title-exact?Love%20Affair...        1994.0  \n",
       "1312     http://us.imdb.com/M/title-exact?Pompatus%20of...        1996.0  \n",
       "1328     http://us.imdb.com/M/title-exact?Of%20Love%20a...        1996.0  \n",
       "1334      http://us.imdb.com/Title?Somebody+to+Love+(1996)        1996.0  \n",
       "1351     http://us.imdb.com/M/title-exact?Lover's%20Kno...        1996.0  \n",
       "1374     http://us.imdb.com/M/title-exact?Falling%20in%...        1980.0  \n",
       "1377     http://us.imdb.com/M/title-exact?Hotel%20de%20...        1997.0  \n",
       "1379     http://us.imdb.com/M/title-exact?Love%20and%20...        1997.0  \n",
       "1446     http://us.imdb.com/M/title-exact?Bye%20Bye,%20...        1995.0  \n",
       "1457     http://us.imdb.com/M/title-exact?Love%20Is%20A...        1996.0  \n",
       "1474     http://us.imdb.com/M/title-exact?Nina%20Takes%...        1994.0  \n",
       "1568     http://us.imdb.com/M/title-exact?Vermont%20Is%...        1992.0  \n",
       "1605     http://us.imdb.com/M/title-exact?Love+Serenade...        1997.0  \n",
       "1626     http://us.imdb.com/M/title-exact?Keiner%20lieb...        1996.0  "
      ]
     },
     "execution_count": 196,
     "metadata": {},
     "output_type": "execute_result"
    }
   ],
   "source": [
    "# Code to help you search for a movie title\n",
    "partial_title = \"Jedi\"\n",
    "indexed_items[indexed_items['title'].str.contains(partial_title)]\n",
    "\n",
    "partial_title = \"Love\"\n",
    "indexed_items[indexed_items['title'].str.contains(partial_title)]\n"
   ]
  },
  {
   "cell_type": "code",
   "execution_count": 181,
   "metadata": {},
   "outputs": [
    {
     "name": "stdout",
     "output_type": "stream",
     "text": [
      "Mad Love (1995)\n",
      "Star Wars (1977)\n",
      "Cosine similarity: 0.435\n"
     ]
    },
    {
     "data": {
      "text/plain": [
       "0.4349098"
      ]
     },
     "execution_count": 181,
     "metadata": {},
     "output_type": "execute_result"
    }
   ],
   "source": [
    "\n",
    "print_similarity(36, 50, item_embeddings, indexed_items[\"title\"])\n",
    "\n"
   ]
  },
  {
   "cell_type": "markdown",
   "metadata": {},
   "source": [
    "The two films \"Mad Love\" and \"Star Wars\" are very dissimilar. The cosine similarity is very small 0.435"
   ]
  },
  {
   "cell_type": "code",
   "execution_count": 185,
   "metadata": {},
   "outputs": [
    {
     "name": "stdout",
     "output_type": "stream",
     "text": [
      "Mad Love (1995)\n",
      "Scream (1996)\n",
      "Cosine similarity: 0.545\n"
     ]
    }
   ],
   "source": [
    "print_similarity(36, 288, item_embeddings, indexed_items[\"title\"])"
   ]
  },
  {
   "cell_type": "code",
   "execution_count": 195,
   "metadata": {},
   "outputs": [
    {
     "name": "stdout",
     "output_type": "stream",
     "text": [
      "Star Trek: First Contact (1996)\n",
      "Star Trek: The Wrath of Khan (1982)\n",
      "Cosine similarity: 0.837\n"
     ]
    }
   ],
   "source": [
    "print_similarity(222, 228, item_embeddings, indexed_items[\"title\"])"
   ]
  },
  {
   "cell_type": "markdown",
   "metadata": {
    "collapsed": false
   },
   "source": [
    "Sometimes, even without knowing anything about a user, we can recommend films by asking them about a film that they do like. The code below compares the similarity of a given film to all others, and returns the most similar films."
   ]
  },
  {
   "cell_type": "code",
   "execution_count": 33,
   "metadata": {},
   "outputs": [
    {
     "data": {
      "text/plain": [
       "[(50, 'Star Wars (1977)', 0.9999999),\n",
       " (181, 'Return of the Jedi (1983)', 0.93810964),\n",
       " (172, 'Empire Strikes Back, The (1980)', 0.9251667),\n",
       " (168, 'Monty Python and the Holy Grail (1974)', 0.898077),\n",
       " (183, 'Alien (1979)', 0.86889297),\n",
       " (176, 'Aliens (1986)', 0.86711144),\n",
       " (228, 'Star Trek: The Wrath of Khan (1982)', 0.8630786),\n",
       " (144, 'Die Hard (1988)', 0.8627147),\n",
       " (174, 'Raiders of the Lost Ark (1981)', 0.86237276),\n",
       " (12, 'Usual Suspects, The (1995)', 0.86201453)]"
      ]
     },
     "execution_count": 33,
     "metadata": {},
     "output_type": "execute_result"
    }
   ],
   "source": [
    "def most_similar(item_id, item_embeddings, titles,\n",
    "                 top_n=30):\n",
    "    # Compute the cosine similarity between the item and all other items\n",
    "    sims = cosine_similarity(item_embeddings[item_id].reshape(1, -1),\n",
    "                             item_embeddings).ravel()\n",
    "    \n",
    "    # [::-1] makes it possible to reverse the order of a numpy\n",
    "    # array, this is required because most similar items have\n",
    "    # a larger cosine similarity value\n",
    "    sorted_indexes = np.argsort(sims)[::-1]\n",
    "    idxs = sorted_indexes[0:top_n]\n",
    "    return list(zip(idxs, titles[idxs], sims[idxs]))\n",
    "\n",
    "# Find the most similar films to \"Star Wars\"\n",
    "most_similar(50, item_embeddings, indexed_items[\"title\"], top_n=10)"
   ]
  },
  {
   "cell_type": "code",
   "execution_count": 34,
   "metadata": {},
   "outputs": [
    {
     "data": {
      "text/plain": [
       "[(227, 'Star Trek VI: The Undiscovered Country (1991)', 1.0),\n",
       " (228, 'Star Trek: The Wrath of Khan (1982)', 0.8977387),\n",
       " (230, 'Star Trek IV: The Voyage Home (1986)', 0.88957155),\n",
       " (129, 'Bound (1996)', 0.87673384),\n",
       " (183, 'Alien (1979)', 0.8767317),\n",
       " (163, 'Return of the Pink Panther, The (1974)', 0.8744339),\n",
       " (1540, 'Amazing Panda Adventure, The (1995)', 0.873061),\n",
       " (651, 'Glory (1989)', 0.86619866),\n",
       " (918, 'City of Angels (1998)', 0.8633139),\n",
       " (222, 'Star Trek: First Contact (1996)', 0.8622876)]"
      ]
     },
     "execution_count": 34,
     "metadata": {},
     "output_type": "execute_result"
    }
   ],
   "source": [
    "# Find the most similar films to \"Star Trek VI: The Undiscovered Country\"\n",
    "most_similar(227, item_embeddings, indexed_items[\"title\"], top_n=10)"
   ]
  },
  {
   "cell_type": "markdown",
   "metadata": {},
   "source": [
    "The similarities do not always make sense: the number of ratings is low and the embedding  does not automatically capture semantic relationships in that context. Better representations arise with higher number of ratings, and less overfitting  in models or maybe better loss function, such as those based on implicit feedback."
   ]
  },
  {
   "cell_type": "markdown",
   "metadata": {},
   "source": [
    "### Visualizing embeddings using TSNE\n",
    "\n",
    "The [t-SNE](https://en.wikipedia.org/wiki/T-distributed_stochastic_neighbor_embedding) algorithm enables us to visualize high dimensional vectors in a 2D space by preserving local neighborhoods. We can use it to get a 2D visualization of the item embeddings and see if similar items are close in the embedding space."
   ]
  },
  {
   "cell_type": "code",
   "execution_count": 199,
   "metadata": {},
   "outputs": [],
   "source": [
    "from sklearn.manifold import TSNE\n",
    "\n",
    "item_tsne = TSNE(learning_rate=\"auto\", init=\"pca\", perplexity=30).fit_transform(item_embeddings)"
   ]
  },
  {
   "cell_type": "code",
   "execution_count": 135,
   "metadata": {},
   "outputs": [
    {
     "data": {
      "image/png": "[encoded data removed]",
      "text/plain": [
       "<Figure size 1000x1000 with 1 Axes>"
      ]
     },
     "metadata": {},
     "output_type": "display_data"
    }
   ],
   "source": [
    "import matplotlib.pyplot as plt\n",
    "\n",
    "plt.figure(figsize=(10, 10))\n",
    "plt.scatter(item_tsne[:, 0], item_tsne[:, 1]);\n",
    "plt.xticks(()); plt.yticks(());\n",
    "plt.show()"
   ]
  },
  {
   "cell_type": "code",
   "execution_count": 136,
   "metadata": {
    "tags": []
   },
   "outputs": [
    {
     "data": {
      "application/vnd.plotly.v1+json": {
       "config": {
        "plotlyServerURL": "https://plot.ly"
       },
       "data": [
        {
         "customdata": [
          [
           1,
           "Toy Story (1995)",
           452
          ],
          [
           2,
           "GoldenEye (1995)",
           131
          ],
          [
           3,
           "Four Rooms (1995)",
           90
          ],
          [
           4,
           "Get Shorty (1995)",
           209
          ],
          [
           5,
           "Copycat (1995)",
           86
          ],
          [
           6,
           "Shanghai Triad (Yao a yao yao dao waipo qiao) (1995)",
           26
          ],
          [
           7,
           "Twelve Monkeys (1995)",
           392
          ],
          [
           8,
           "Babe (1995)",
           219
          ],
          [
           9,
           "Dead Man Walking (1995)",
           299
          ],
          [
           10,
           "Richard III (1995)",
           89
          ],
          [
           11,
           "Seven (Se7en) (1995)",
           236
          ],
          [
           12,
           "Usual Suspects, The (1995)",
           267
          ],
          [
           13,
           "Mighty Aphrodite (1995)",
           184
          ],
          [
           14,
           "Postino, Il (1994)",
           183
          ],
          [
           15,
           "Mr. Holland's Opus (1995)",
           293
          ],
          [
           16,
           "French Twist (Gazon maudit) (1995)",
           39
          ],
          [
           17,
           "From Dusk Till Dawn (1996)",
           92
          ],
          [
           18,
           "White Balloon, The (1995)",
           10
          ],
          [
           19,
           "Antonia's Line (1995)",
           69
          ],
          [
           20,
           "Angels and Insects (1995)",
           72
          ],
          [
           21,
           "Muppet Treasure Island (1996)",
           84
          ],
          [
           22,
           "Braveheart (1995)",
           297
          ],
          [
           23,
           "Taxi Driver (1976)",
           182
          ],
          [
           24,
           "Rumble in the Bronx (1995)",
           174
          ],
          [
           25,
           "Birdcage, The (1996)",
           293
          ],
          [
           26,
           "Brothers McMullen, The (1995)",
           73
          ],
          [
           27,
           "Bad Boys (1995)",
           57
          ],
          [
           28,
           "Apollo 13 (1995)",
           276
          ],
          [
           29,
           "Batman Forever (1995)",
           114
          ],
          [
           30,
           "Belle de jour (1967)",
           37
          ],
          [
           31,
           "Crimson Tide (1995)",
           154
          ],
          [
           32,
           "Crumb (1994)",
           81
          ],
          [
           33,
           "Desperado (1995)",
           97
          ],
          [
           34,
           "Doom Generation, The (1995)",
           7
          ],
          [
           35,
           "Free Willy 2: The Adventure Home (1995)",
           11
          ],
          [
           36,
           "Mad Love (1995)",
           13
          ],
          [
           37,
           "Nadja (1994)",
           8
          ],
          [
           38,
           "Net, The (1995)",
           120
          ],
          [
           39,
           "Strange Days (1995)",
           87
          ],
          [
           40,
           "To Wong Foo, Thanks for Everything! Julie Newmar (1995)",
           57
          ],
          [
           41,
           "Billy Madison (1995)",
           37
          ],
          [
           42,
           "Clerks (1994)",
           148
          ],
          [
           43,
           "Disclosure (1994)",
           40
          ],
          [
           44,
           "Dolores Claiborne (1994)",
           79
          ],
          [
           45,
           "Eat Drink Man Woman (1994)",
           80
          ],
          [
           46,
           "Exotica (1994)",
           27
          ],
          [
           47,
           "Ed Wood (1994)",
           133
          ],
          [
           48,
           "Hoop Dreams (1994)",
           117
          ],
          [
           49,
           "I.Q. (1994)",
           81
          ],
          [
           50,
           "Star Wars (1977)",
           583
          ],
          [
           51,
           "Legends of the Fall (1994)",
           81
          ],
          [
           52,
           "Madness of King George, The (1994)",
           91
          ],
          [
           53,
           "Natural Born Killers (1994)",
           128
          ],
          [
           54,
           "Outbreak (1995)",
           104
          ],
          [
           55,
           "Professional, The (1994)",
           149
          ],
          [
           56,
           "Pulp Fiction (1994)",
           394
          ],
          [
           57,
           "Priest (1994)",
           40
          ],
          [
           58,
           "Quiz Show (1994)",
           175
          ],
          [
           59,
           "Three Colors: Red (1994)",
           83
          ],
          [
           60,
           "Three Colors: Blue (1993)",
           64
          ],
          [
           61,
           "Three Colors: White (1994)",
           59
          ],
          [
           62,
           "Stargate (1994)",
           127
          ],
          [
           63,
           "Santa Clause, The (1994)",
           82
          ],
          [
           64,
           "Shawshank Redemption, The (1994)",
           283
          ],
          [
           65,
           "What's Eating Gilbert Grape (1993)",
           115
          ],
          [
           66,
           "While You Were Sleeping (1995)",
           162
          ],
          [
           67,
           "Ace Ventura: Pet Detective (1994)",
           103
          ],
          [
           68,
           "Crow, The (1994)",
           134
          ],
          [
           69,
           "Forrest Gump (1994)",
           321
          ],
          [
           70,
           "Four Weddings and a Funeral (1994)",
           251
          ],
          [
           71,
           "Lion King, The (1994)",
           220
          ],
          [
           72,
           "Mask, The (1994)",
           129
          ],
          [
           73,
           "Maverick (1994)",
           128
          ],
          [
           74,
           "Faster Pussycat! Kill! Kill! (1965)",
           7
          ],
          [
           75,
           "Brother Minister: The Assassination of Malcolm X (1994)",
           5
          ],
          [
           76,
           "Carlito's Way (1993)",
           54
          ],
          [
           77,
           "Firm, The (1993)",
           151
          ],
          [
           78,
           "Free Willy (1993)",
           33
          ],
          [
           79,
           "Fugitive, The (1993)",
           336
          ],
          [
           80,
           "Hot Shots! Part Deux (1993)",
           68
          ],
          [
           81,
           "Hudsucker Proxy, The (1994)",
           110
          ],
          [
           82,
           "Jurassic Park (1993)",
           261
          ],
          [
           83,
           "Much Ado About Nothing (1993)",
           176
          ],
          [
           84,
           "Robert A. Heinlein's The Puppet Masters (1994)",
           18
          ],
          [
           85,
           "Ref, The (1994)",
           58
          ],
          [
           86,
           "Remains of the Day, The (1993)",
           150
          ],
          [
           87,
           "Searching for Bobby Fischer (1993)",
           138
          ],
          [
           88,
           "Sleepless in Seattle (1993)",
           213
          ],
          [
           89,
           "Blade Runner (1982)",
           275
          ],
          [
           90,
           "So I Married an Axe Murderer (1993)",
           95
          ],
          [
           91,
           "Nightmare Before Christmas, The (1993)",
           143
          ],
          [
           92,
           "True Romance (1993)",
           104
          ],
          [
           93,
           "Welcome to the Dollhouse (1995)",
           112
          ],
          [
           94,
           "Home Alone (1990)",
           137
          ],
          [
           95,
           "Aladdin (1992)",
           219
          ],
          [
           96,
           "Terminator 2: Judgment Day (1991)",
           295
          ],
          [
           97,
           "Dances with Wolves (1990)",
           256
          ],
          [
           98,
           "Silence of the Lambs, The (1991)",
           390
          ],
          [
           99,
           "Snow White and the Seven Dwarfs (1937)",
           172
          ],
          [
           100,
           "Fargo (1996)",
           508
          ],
          [
           101,
           "Heavy Metal (1981)",
           73
          ],
          [
           102,
           "Aristocats, The (1970)",
           54
          ],
          [
           103,
           "All Dogs Go to Heaven 2 (1996)",
           15
          ],
          [
           104,
           "Theodore Rex (1995)",
           5
          ],
          [
           105,
           "Sgt. Bilko (1996)",
           74
          ],
          [
           106,
           "Diabolique (1996)",
           71
          ],
          [
           107,
           "Moll Flanders (1996)",
           42
          ],
          [
           108,
           "Kids in the Hall: Brain Candy (1996)",
           65
          ],
          [
           109,
           "Mystery Science Theater 3000: The Movie (1996)",
           130
          ],
          [
           110,
           "Operation Dumbo Drop (1995)",
           31
          ],
          [
           111,
           "Truth About Cats & Dogs, The (1996)",
           272
          ],
          [
           112,
           "Flipper (1996)",
           20
          ],
          [
           113,
           "Horseman on the Roof, The (Hussard sur le toit, Le) (1995)",
           9
          ],
          [
           114,
           "Wallace & Gromit: The Best of Aardman Animation (1996)",
           67
          ],
          [
           115,
           "Haunted World of Edward D. Wood Jr., The (1995)",
           15
          ],
          [
           116,
           "Cold Comfort Farm (1995)",
           125
          ],
          [
           117,
           "Rock, The (1996)",
           378
          ],
          [
           118,
           "Twister (1996)",
           293
          ],
          [
           119,
           "Maya Lin: A Strong Clear Vision (1994)",
           4
          ],
          [
           120,
           "Striptease (1996)",
           67
          ],
          [
           121,
           "Independence Day (ID4) (1996)",
           429
          ],
          [
           122,
           "Cable Guy, The (1996)",
           106
          ],
          [
           123,
           "Frighteners, The (1996)",
           115
          ],
          [
           124,
           "Lone Star (1996)",
           187
          ],
          [
           125,
           "Phenomenon (1996)",
           244
          ],
          [
           126,
           "Spitfire Grill, The (1996)",
           97
          ],
          [
           127,
           "Godfather, The (1972)",
           413
          ],
          [
           128,
           "Supercop (1992)",
           65
          ],
          [
           129,
           "Bound (1996)",
           129
          ],
          [
           130,
           "Kansas City (1996)",
           23
          ],
          [
           131,
           "Breakfast at Tiffany's (1961)",
           95
          ],
          [
           132,
           "Wizard of Oz, The (1939)",
           246
          ],
          [
           133,
           "Gone with the Wind (1939)",
           171
          ],
          [
           134,
           "Citizen Kane (1941)",
           198
          ],
          [
           135,
           "2001: A Space Odyssey (1968)",
           259
          ],
          [
           136,
           "Mr. Smith Goes to Washington (1939)",
           105
          ],
          [
           137,
           "Big Night (1996)",
           171
          ],
          [
           138,
           "D3: The Mighty Ducks (1996)",
           19
          ],
          [
           139,
           "Love Bug, The (1969)",
           50
          ],
          [
           140,
           "Homeward Bound: The Incredible Journey (1993)",
           61
          ],
          [
           141,
           "20,000 Leagues Under the Sea (1954)",
           72
          ],
          [
           142,
           "Bedknobs and Broomsticks (1971)",
           57
          ],
          [
           143,
           "Sound of Music, The (1965)",
           222
          ],
          [
           144,
           "Die Hard (1988)",
           243
          ],
          [
           145,
           "Lawnmower Man, The (1992)",
           65
          ],
          [
           146,
           "Unhook the Stars (1996)",
           10
          ],
          [
           147,
           "Long Kiss Goodnight, The (1996)",
           185
          ],
          [
           148,
           "Ghost and the Darkness, The (1996)",
           128
          ],
          [
           149,
           "Jude (1996)",
           23
          ],
          [
           150,
           "Swingers (1996)",
           157
          ],
          [
           151,
           "Willy Wonka and the Chocolate Factory (1971)",
           326
          ],
          [
           152,
           "Sleeper (1973)",
           82
          ],
          [
           153,
           "Fish Called Wanda, A (1988)",
           247
          ],
          [
           154,
           "Monty Python's Life of Brian (1979)",
           174
          ],
          [
           155,
           "Dirty Dancing (1987)",
           98
          ],
          [
           156,
           "Reservoir Dogs (1992)",
           148
          ],
          [
           157,
           "Platoon (1986)",
           127
          ],
          [
           158,
           "Weekend at Bernie's (1989)",
           60
          ],
          [
           159,
           "Basic Instinct (1992)",
           101
          ],
          [
           160,
           "Glengarry Glen Ross (1992)",
           69
          ],
          [
           161,
           "Top Gun (1986)",
           220
          ],
          [
           162,
           "On Golden Pond (1981)",
           106
          ],
          [
           163,
           "Return of the Pink Panther, The (1974)",
           92
          ],
          [
           164,
           "Abyss, The (1989)",
           151
          ],
          [
           165,
           "Jean de Florette (1986)",
           64
          ],
          [
           166,
           "Manon of the Spring (Manon des sources) (1986)",
           58
          ],
          [
           167,
           "Private Benjamin (1980)",
           67
          ],
          [
           168,
           "Monty Python and the Holy Grail (1974)",
           316
          ],
          [
           169,
           "Wrong Trousers, The (1993)",
           118
          ],
          [
           170,
           "Cinema Paradiso (1988)",
           121
          ],
          [
           171,
           "Delicatessen (1991)",
           65
          ],
          [
           172,
           "Empire Strikes Back, The (1980)",
           367
          ],
          [
           173,
           "Princess Bride, The (1987)",
           324
          ],
          [
           174,
           "Raiders of the Lost Ark (1981)",
           420
          ],
          [
           175,
           "Brazil (1985)",
           208
          ],
          [
           176,
           "Aliens (1986)",
           284
          ],
          [
           177,
           "Good, The Bad and The Ugly, The (1966)",
           137
          ],
          [
           178,
           "12 Angry Men (1957)",
           125
          ],
          [
           179,
           "Clockwork Orange, A (1971)",
           221
          ],
          [
           180,
           "Apocalypse Now (1979)",
           221
          ],
          [
           181,
           "Return of the Jedi (1983)",
           507
          ],
          [
           182,
           "GoodFellas (1990)",
           226
          ],
          [
           183,
           "Alien (1979)",
           291
          ],
          [
           184,
           "Army of Darkness (1993)",
           116
          ],
          [
           185,
           "Psycho (1960)",
           239
          ],
          [
           186,
           "Blues Brothers, The (1980)",
           251
          ],
          [
           187,
           "Godfather: Part II, The (1974)",
           209
          ],
          [
           188,
           "Full Metal Jacket (1987)",
           170
          ],
          [
           189,
           "Grand Day Out, A (1992)",
           66
          ],
          [
           190,
           "Henry V (1989)",
           124
          ],
          [
           191,
           "Amadeus (1984)",
           276
          ],
          [
           192,
           "Raging Bull (1980)",
           116
          ],
          [
           193,
           "Right Stuff, The (1983)",
           157
          ],
          [
           194,
           "Sting, The (1973)",
           241
          ],
          [
           195,
           "Terminator, The (1984)",
           301
          ],
          [
           196,
           "Dead Poets Society (1989)",
           251
          ],
          [
           197,
           "Graduate, The (1967)",
           239
          ],
          [
           198,
           "Nikita (La Femme Nikita) (1990)",
           127
          ],
          [
           199,
           "Bridge on the River Kwai, The (1957)",
           165
          ],
          [
           200,
           "Shining, The (1980)",
           206
          ],
          [
           201,
           "Evil Dead II (1987)",
           89
          ],
          [
           202,
           "Groundhog Day (1993)",
           280
          ],
          [
           203,
           "Unforgiven (1992)",
           182
          ],
          [
           204,
           "Back to the Future (1985)",
           350
          ],
          [
           205,
           "Patton (1970)",
           136
          ],
          [
           206,
           "Akira (1988)",
           50
          ],
          [
           207,
           "Cyrano de Bergerac (1990)",
           66
          ],
          [
           208,
           "Young Frankenstein (1974)",
           200
          ],
          [
           209,
           "This Is Spinal Tap (1984)",
           191
          ],
          [
           210,
           "Indiana Jones and the Last Crusade (1989)",
           331
          ],
          [
           211,
           "M*A*S*H (1970)",
           206
          ],
          [
           212,
           "Unbearable Lightness of Being, The (1988)",
           92
          ],
          [
           213,
           "Room with a View, A (1986)",
           134
          ],
          [
           214,
           "Pink Floyd - The Wall (1982)",
           114
          ],
          [
           215,
           "Field of Dreams (1989)",
           212
          ],
          [
           216,
           "When Harry Met Sally... (1989)",
           290
          ],
          [
           217,
           "Bram Stoker's Dracula (1992)",
           120
          ],
          [
           218,
           "Cape Fear (1991)",
           171
          ],
          [
           219,
           "Nightmare on Elm Street, A (1984)",
           111
          ],
          [
           220,
           "Mirror Has Two Faces, The (1996)",
           66
          ],
          [
           221,
           "Breaking the Waves (1996)",
           74
          ],
          [
           222,
           "Star Trek: First Contact (1996)",
           365
          ],
          [
           223,
           "Sling Blade (1996)",
           136
          ],
          [
           224,
           "Ridicule (1996)",
           44
          ],
          [
           225,
           "101 Dalmatians (1996)",
           109
          ],
          [
           226,
           "Die Hard 2 (1990)",
           166
          ],
          [
           227,
           "Star Trek VI: The Undiscovered Country (1991)",
           161
          ],
          [
           228,
           "Star Trek: The Wrath of Khan (1982)",
           244
          ],
          [
           229,
           "Star Trek III: The Search for Spock (1984)",
           171
          ],
          [
           230,
           "Star Trek IV: The Voyage Home (1986)",
           199
          ],
          [
           231,
           "Batman Returns (1992)",
           142
          ],
          [
           232,
           "Young Guns (1988)",
           101
          ],
          [
           233,
           "Under Siege (1992)",
           124
          ],
          [
           234,
           "Jaws (1975)",
           280
          ],
          [
           235,
           "Mars Attacks! (1996)",
           217
          ],
          [
           236,
           "Citizen Ruth (1996)",
           45
          ],
          [
           237,
           "Jerry Maguire (1996)",
           384
          ],
          [
           238,
           "Raising Arizona (1987)",
           256
          ],
          [
           239,
           "Sneakers (1992)",
           150
          ],
          [
           240,
           "Beavis and Butt-head Do America (1996)",
           156
          ],
          [
           241,
           "Last of the Mohicans, The (1992)",
           128
          ],
          [
           242,
           "Kolya (1996)",
           117
          ],
          [
           243,
           "Jungle2Jungle (1997)",
           132
          ],
          [
           244,
           "Smilla's Sense of Snow (1997)",
           48
          ],
          [
           245,
           "Devil's Own, The (1997)",
           240
          ],
          [
           246,
           "Chasing Amy (1997)",
           124
          ],
          [
           247,
           "Turbo: A Power Rangers Movie (1997)",
           5
          ],
          [
           248,
           "Grosse Pointe Blank (1997)",
           160
          ],
          [
           249,
           "Austin Powers: International Man of Mystery (1997)",
           130
          ],
          [
           250,
           "Fifth Element, The (1997)",
           197
          ],
          [
           251,
           "Shall We Dance? (1996)",
           46
          ],
          [
           252,
           "Lost World: Jurassic Park, The (1997)",
           158
          ],
          [
           253,
           "Pillow Book, The (1995)",
           26
          ],
          [
           254,
           "Batman & Robin (1997)",
           62
          ],
          [
           255,
           "My Best Friend's Wedding (1997)",
           172
          ],
          [
           256,
           "When the Cats Away (Chacun cherche son chat) (1996)",
           16
          ],
          [
           257,
           "Men in Black (1997)",
           303
          ],
          [
           258,
           "Contact (1997)",
           509
          ],
          [
           259,
           "George of the Jungle (1997)",
           162
          ],
          [
           260,
           "Event Horizon (1997)",
           127
          ],
          [
           261,
           "Air Bud (1997)",
           43
          ],
          [
           262,
           "In the Company of Men (1997)",
           66
          ],
          [
           263,
           "Steel (1997)",
           19
          ],
          [
           264,
           "Mimic (1997)",
           101
          ],
          [
           265,
           "Hunt for Red October, The (1990)",
           227
          ],
          [
           266,
           "Kull the Conqueror (1997)",
           35
          ],
          [
           267,
           "unknown",
           9
          ],
          [
           268,
           "Chasing Amy (1997)",
           255
          ],
          [
           269,
           "Full Monty, The (1997)",
           315
          ],
          [
           270,
           "Gattaca (1997)",
           136
          ],
          [
           271,
           "Starship Troopers (1997)",
           211
          ],
          [
           272,
           "Good Will Hunting (1997)",
           198
          ],
          [
           273,
           "Heat (1995)",
           223
          ],
          [
           274,
           "Sabrina (1995)",
           190
          ],
          [
           275,
           "Sense and Sensibility (1995)",
           268
          ],
          [
           276,
           "Leaving Las Vegas (1995)",
           298
          ],
          [
           277,
           "Restoration (1995)",
           71
          ],
          [
           278,
           "Bed of Roses (1996)",
           60
          ],
          [
           279,
           "Once Upon a Time... When We Were Colored (1995)",
           28
          ],
          [
           280,
           "Up Close and Personal (1996)",
           85
          ],
          [
           281,
           "River Wild, The (1994)",
           146
          ],
          [
           282,
           "Time to Kill, A (1996)",
           232
          ],
          [
           283,
           "Emma (1996)",
           177
          ],
          [
           284,
           "Tin Cup (1996)",
           193
          ],
          [
           285,
           "Secrets & Lies (1996)",
           162
          ],
          [
           286,
           "English Patient, The (1996)",
           481
          ],
          [
           287,
           "Marvin's Room (1996)",
           78
          ],
          [
           288,
           "Scream (1996)",
           478
          ],
          [
           289,
           "Evita (1996)",
           259
          ],
          [
           290,
           "Fierce Creatures (1997)",
           96
          ],
          [
           291,
           "Absolute Power (1997)",
           127
          ],
          [
           292,
           "Rosewood (1997)",
           114
          ],
          [
           293,
           "Donnie Brasco (1997)",
           147
          ],
          [
           294,
           "Liar Liar (1997)",
           485
          ],
          [
           295,
           "Breakdown (1997)",
           77
          ],
          [
           296,
           "Promesse, La (1996)",
           6
          ],
          [
           297,
           "Ulee's Gold (1997)",
           50
          ],
          [
           298,
           "Face/Off (1997)",
           194
          ],
          [
           299,
           "Hoodlum (1997)",
           73
          ],
          [
           300,
           "Air Force One (1997)",
           431
          ],
          [
           301,
           "In & Out (1997)",
           230
          ],
          [
           302,
           "L.A. Confidential (1997)",
           297
          ],
          [
           303,
           "Ulee's Gold (1997)",
           134
          ],
          [
           304,
           "Fly Away Home (1996)",
           149
          ],
          [
           305,
           "Ice Storm, The (1997)",
           87
          ],
          [
           306,
           "Mrs. Brown (Her Majesty, Mrs. Brown) (1997)",
           96
          ],
          [
           307,
           "Devil's Advocate, The (1997)",
           188
          ],
          [
           308,
           "FairyTale: A True Story (1997)",
           30
          ],
          [
           309,
           "Deceiver (1997)",
           28
          ],
          [
           310,
           "Rainmaker, The (1997)",
           145
          ],
          [
           311,
           "Wings of the Dove, The (1997)",
           75
          ],
          [
           312,
           "Midnight in the Garden of Good and Evil (1997)",
           80
          ],
          [
           313,
           "Titanic (1997)",
           350
          ],
          [
           314,
           "3 Ninjas: High Noon At Mega Mountain (1998)",
           5
          ],
          [
           315,
           "Apt Pupil (1998)",
           160
          ],
          [
           316,
           "As Good As It Gets (1997)",
           112
          ],
          [
           317,
           "In the Name of the Father (1993)",
           102
          ],
          [
           318,
           "Schindler's List (1993)",
           298
          ],
          [
           319,
           "Everyone Says I Love You (1996)",
           168
          ],
          [
           320,
           "Paradise Lost: The Child Murders at Robin Hood Hills (1996)",
           20
          ],
          [
           321,
           "Mother (1996)",
           169
          ],
          [
           322,
           "Murder at 1600 (1997)",
           218
          ],
          [
           323,
           "Dante's Peak (1997)",
           240
          ],
          [
           324,
           "Lost Highway (1997)",
           125
          ],
          [
           325,
           "Crash (1996)",
           128
          ],
          [
           326,
           "G.I. Jane (1997)",
           175
          ],
          [
           327,
           "Cop Land (1997)",
           175
          ],
          [
           328,
           "Conspiracy Theory (1997)",
           295
          ],
          [
           329,
           "Desperate Measures (1998)",
           45
          ],
          [
           330,
           "187 (1997)",
           41
          ],
          [
           331,
           "Edge, The (1997)",
           113
          ],
          [
           332,
           "Kiss the Girls (1997)",
           143
          ],
          [
           333,
           "Game, The (1997)",
           251
          ],
          [
           334,
           "U Turn (1997)",
           64
          ],
          [
           335,
           "How to Be a Player (1997)",
           21
          ],
          [
           336,
           "Playing God (1997)",
           43
          ],
          [
           337,
           "House of Yes, The (1997)",
           18
          ],
          [
           338,
           "Bean (1997)",
           91
          ],
          [
           339,
           "Mad City (1997)",
           47
          ],
          [
           340,
           "Boogie Nights (1997)",
           189
          ],
          [
           341,
           "Critical Care (1997)",
           11
          ],
          [
           342,
           "Man Who Knew Too Little, The (1997)",
           52
          ],
          [
           343,
           "Alien: Resurrection (1997)",
           124
          ],
          [
           344,
           "Apostle, The (1997)",
           55
          ],
          [
           345,
           "Deconstructing Harry (1997)",
           65
          ],
          [
           346,
           "Jackie Brown (1997)",
           126
          ],
          [
           347,
           "Wag the Dog (1997)",
           137
          ],
          [
           348,
           "Desperate Measures (1998)",
           27
          ],
          [
           349,
           "Hard Rain (1998)",
           31
          ],
          [
           350,
           "Fallen (1998)",
           41
          ],
          [
           351,
           "Prophecy II, The (1998)",
           20
          ],
          [
           352,
           "Spice World (1997)",
           26
          ],
          [
           353,
           "Deep Rising (1998)",
           14
          ],
          [
           354,
           "Wedding Singer, The (1998)",
           72
          ],
          [
           355,
           "Sphere (1998)",
           41
          ],
          [
           356,
           "Client, The (1994)",
           97
          ],
          [
           357,
           "One Flew Over the Cuckoo's Nest (1975)",
           264
          ],
          [
           358,
           "Spawn (1997)",
           143
          ],
          [
           359,
           "Assignment, The (1997)",
           18
          ],
          [
           360,
           "Wonderland (1997)",
           10
          ],
          [
           361,
           "Incognito (1997)",
           10
          ],
          [
           362,
           "Blues Brothers 2000 (1998)",
           28
          ],
          [
           363,
           "Sudden Death (1995)",
           47
          ],
          [
           364,
           "Ace Ventura: When Nature Calls (1995)",
           37
          ],
          [
           365,
           "Powder (1995)",
           48
          ],
          [
           366,
           "Dangerous Minds (1995)",
           47
          ],
          [
           367,
           "Clueless (1995)",
           170
          ],
          [
           368,
           "Bio-Dome (1996)",
           31
          ],
          [
           369,
           "Black Sheep (1996)",
           55
          ],
          [
           370,
           "Mary Reilly (1996)",
           39
          ],
          [
           371,
           "Bridges of Madison County, The (1995)",
           67
          ],
          [
           372,
           "Jeffrey (1995)",
           34
          ],
          [
           373,
           "Judge Dredd (1995)",
           39
          ],
          [
           374,
           "Mighty Morphin Power Rangers: The Movie (1995)",
           11
          ],
          [
           375,
           "Showgirls (1995)",
           23
          ],
          [
           376,
           "Houseguest (1994)",
           24
          ],
          [
           377,
           "Heavyweights (1994)",
           13
          ],
          [
           378,
           "Miracle on 34th Street (1994)",
           101
          ],
          [
           379,
           "Tales From the Crypt Presents: Demon Knight (1995)",
           43
          ],
          [
           380,
           "Star Trek: Generations (1994)",
           116
          ],
          [
           381,
           "Muriel's Wedding (1994)",
           100
          ],
          [
           382,
           "Adventures of Priscilla, Queen of the Desert, The (1994)",
           111
          ],
          [
           383,
           "Flintstones, The (1994)",
           31
          ],
          [
           384,
           "Naked Gun 33 1/3: The Final Insult (1994)",
           69
          ],
          [
           385,
           "True Lies (1994)",
           208
          ],
          [
           386,
           "Addams Family Values (1993)",
           87
          ],
          [
           387,
           "Age of Innocence, The (1993)",
           65
          ],
          [
           388,
           "Beverly Hills Cop III (1994)",
           28
          ],
          [
           389,
           "Black Beauty (1994)",
           27
          ],
          [
           390,
           "Fear of a Black Hat (1993)",
           10
          ],
          [
           391,
           "Last Action Hero (1993)",
           59
          ],
          [
           392,
           "Man Without a Face, The (1993)",
           68
          ],
          [
           393,
           "Mrs. Doubtfire (1993)",
           192
          ],
          [
           394,
           "Radioland Murders (1994)",
           12
          ],
          [
           395,
           "Robin Hood: Men in Tights (1993)",
           56
          ],
          [
           396,
           "Serial Mom (1994)",
           54
          ],
          [
           397,
           "Striking Distance (1993)",
           12
          ],
          [
           398,
           "Super Mario Bros. (1993)",
           26
          ],
          [
           399,
           "Three Musketeers, The (1993)",
           89
          ],
          [
           400,
           "Little Rascals, The (1994)",
           18
          ],
          [
           401,
           "Brady Bunch Movie, The (1995)",
           76
          ],
          [
           402,
           "Ghost (1990)",
           170
          ],
          [
           403,
           "Batman (1989)",
           201
          ],
          [
           404,
           "Pinocchio (1940)",
           101
          ],
          [
           405,
           "Mission: Impossible (1996)",
           344
          ],
          [
           406,
           "Thinner (1996)",
           49
          ],
          [
           407,
           "Spy Hard (1996)",
           43
          ],
          [
           408,
           "Close Shave, A (1995)",
           112
          ],
          [
           409,
           "Jack (1996)",
           70
          ],
          [
           410,
           "Kingpin (1996)",
           162
          ],
          [
           411,
           "Nutty Professor, The (1996)",
           163
          ],
          [
           412,
           "Very Brady Sequel, A (1996)",
           93
          ],
          [
           413,
           "Tales from the Crypt Presents: Bordello of Blood (1996)",
           55
          ],
          [
           414,
           "My Favorite Year (1982)",
           62
          ],
          [
           415,
           "Apple Dumpling Gang, The (1975)",
           25
          ],
          [
           416,
           "Old Yeller (1957)",
           64
          ],
          [
           417,
           "Parent Trap, The (1961)",
           73
          ],
          [
           418,
           "Cinderella (1950)",
           129
          ],
          [
           419,
           "Mary Poppins (1964)",
           178
          ],
          [
           420,
           "Alice in Wonderland (1951)",
           81
          ],
          [
           421,
           "William Shakespeare's Romeo and Juliet (1996)",
           106
          ],
          [
           422,
           "Aladdin and the King of Thieves (1996)",
           26
          ],
          [
           423,
           "E.T. the Extra-Terrestrial (1982)",
           300
          ],
          [
           424,
           "Children of the Corn: The Gathering (1996)",
           19
          ],
          [
           425,
           "Bob Roberts (1992)",
           85
          ],
          [
           426,
           "Transformers: The Movie, The (1986)",
           32
          ],
          [
           427,
           "To Kill a Mockingbird (1962)",
           219
          ],
          [
           428,
           "Harold and Maude (1971)",
           121
          ],
          [
           429,
           "Day the Earth Stood Still, The (1951)",
           97
          ],
          [
           430,
           "Duck Soup (1933)",
           93
          ],
          [
           431,
           "Highlander (1986)",
           153
          ],
          [
           432,
           "Fantasia (1940)",
           174
          ],
          [
           433,
           "Heathers (1989)",
           171
          ],
          [
           434,
           "Forbidden Planet (1956)",
           67
          ],
          [
           435,
           "Butch Cassidy and the Sundance Kid (1969)",
           216
          ],
          [
           436,
           "American Werewolf in London, An (1981)",
           99
          ],
          [
           437,
           "Amityville 1992: It's About Time (1992)",
           5
          ],
          [
           438,
           "Amityville 3-D (1983)",
           6
          ],
          [
           439,
           "Amityville: A New Generation (1993)",
           5
          ],
          [
           440,
           "Amityville II: The Possession (1982)",
           14
          ],
          [
           441,
           "Amityville Horror, The (1979)",
           53
          ],
          [
           442,
           "Amityville Curse, The (1990)",
           4
          ],
          [
           443,
           "Birds, The (1963)",
           162
          ],
          [
           444,
           "Blob, The (1958)",
           46
          ],
          [
           445,
           "Body Snatcher, The (1945)",
           22
          ],
          [
           446,
           "Burnt Offerings (1976)",
           9
          ],
          [
           447,
           "Carrie (1976)",
           121
          ],
          [
           448,
           "Omen, The (1976)",
           85
          ],
          [
           449,
           "Star Trek: The Motion Picture (1979)",
           117
          ],
          [
           450,
           "Star Trek V: The Final Frontier (1989)",
           63
          ],
          [
           451,
           "Grease (1978)",
           170
          ],
          [
           452,
           "Jaws 2 (1978)",
           66
          ],
          [
           453,
           "Jaws 3-D (1983)",
           16
          ],
          [
           454,
           "Bastard Out of Carolina (1996)",
           16
          ],
          [
           455,
           "Jackie Chan's First Strike (1996)",
           145
          ],
          [
           456,
           "Beverly Hills Ninja (1997)",
           48
          ],
          [
           457,
           "Free Willy 3: The Rescue (1997)",
           27
          ],
          [
           458,
           "Nixon (1995)",
           90
          ],
          [
           459,
           "Cry, the Beloved Country (1995)",
           24
          ],
          [
           460,
           "Crossing Guard, The (1995)",
           28
          ],
          [
           461,
           "Smoke (1995)",
           74
          ],
          [
           462,
           "Like Water For Chocolate (Como agua para chocolate) (1992)",
           148
          ],
          [
           463,
           "Secret of Roan Inish, The (1994)",
           71
          ],
          [
           464,
           "Vanya on 42nd Street (1994)",
           27
          ],
          [
           465,
           "Jungle Book, The (1994)",
           85
          ],
          [
           466,
           "Red Rock West (1992)",
           52
          ],
          [
           467,
           "Bronx Tale, A (1993)",
           48
          ],
          [
           468,
           "Rudy (1993)",
           64
          ],
          [
           469,
           "Short Cuts (1993)",
           67
          ],
          [
           470,
           "Tombstone (1993)",
           108
          ],
          [
           471,
           "Courage Under Fire (1996)",
           221
          ],
          [
           472,
           "Dragonheart (1996)",
           158
          ],
          [
           473,
           "James and the Giant Peach (1996)",
           126
          ],
          [
           474,
           "Dr. Strangelove or: How I Learned to Stop Worrying and Love the Bomb (1963)",
           194
          ],
          [
           475,
           "Trainspotting (1996)",
           250
          ],
          [
           476,
           "First Wives Club, The (1996)",
           160
          ],
          [
           477,
           "Matilda (1996)",
           95
          ],
          [
           478,
           "Philadelphia Story, The (1940)",
           104
          ],
          [
           479,
           "Vertigo (1958)",
           179
          ],
          [
           480,
           "North by Northwest (1959)",
           179
          ],
          [
           481,
           "Apartment, The (1960)",
           63
          ],
          [
           482,
           "Some Like It Hot (1959)",
           128
          ],
          [
           483,
           "Casablanca (1942)",
           243
          ],
          [
           484,
           "Maltese Falcon, The (1941)",
           138
          ],
          [
           485,
           "My Fair Lady (1964)",
           125
          ],
          [
           486,
           "Sabrina (1954)",
           64
          ],
          [
           487,
           "Roman Holiday (1953)",
           68
          ],
          [
           488,
           "Sunset Blvd. (1950)",
           65
          ],
          [
           489,
           "Notorious (1946)",
           52
          ],
          [
           490,
           "To Catch a Thief (1955)",
           50
          ],
          [
           491,
           "Adventures of Robin Hood, The (1938)",
           67
          ],
          [
           492,
           "East of Eden (1955)",
           59
          ],
          [
           493,
           "Thin Man, The (1934)",
           60
          ],
          [
           494,
           "His Girl Friday (1940)",
           56
          ],
          [
           495,
           "Around the World in 80 Days (1956)",
           59
          ],
          [
           496,
           "It's a Wonderful Life (1946)",
           231
          ],
          [
           497,
           "Bringing Up Baby (1938)",
           68
          ],
          [
           498,
           "African Queen, The (1951)",
           152
          ],
          [
           499,
           "Cat on a Hot Tin Roof (1958)",
           62
          ],
          [
           500,
           "Fly Away Home (1996)",
           31
          ],
          [
           501,
           "Dumbo (1941)",
           123
          ],
          [
           502,
           "Bananas (1971)",
           57
          ],
          [
           503,
           "Candidate, The (1972)",
           39
          ],
          [
           504,
           "Bonnie and Clyde (1967)",
           122
          ],
          [
           505,
           "Dial M for Murder (1954)",
           68
          ],
          [
           506,
           "Rebel Without a Cause (1955)",
           90
          ],
          [
           507,
           "Streetcar Named Desire, A (1951)",
           98
          ],
          [
           508,
           "People vs. Larry Flynt, The (1996)",
           215
          ],
          [
           509,
           "My Left Foot (1989)",
           121
          ],
          [
           510,
           "Magnificent Seven, The (1954)",
           121
          ],
          [
           511,
           "Lawrence of Arabia (1962)",
           173
          ],
          [
           512,
           "Wings of Desire (1987)",
           57
          ],
          [
           513,
           "Third Man, The (1949)",
           72
          ],
          [
           514,
           "Annie Hall (1977)",
           180
          ],
          [
           515,
           "Boot, Das (1981)",
           201
          ],
          [
           516,
           "Local Hero (1983)",
           63
          ],
          [
           517,
           "Manhattan (1979)",
           91
          ],
          [
           518,
           "Miller's Crossing (1990)",
           89
          ],
          [
           519,
           "Treasure of the Sierra Madre, The (1948)",
           80
          ],
          [
           520,
           "Great Escape, The (1963)",
           124
          ],
          [
           521,
           "Deer Hunter, The (1978)",
           120
          ],
          [
           522,
           "Down by Law (1986)",
           35
          ],
          [
           523,
           "Cool Hand Luke (1967)",
           164
          ],
          [
           524,
           "Great Dictator, The (1940)",
           46
          ],
          [
           525,
           "Big Sleep, The (1946)",
           73
          ],
          [
           526,
           "Ben-Hur (1959)",
           124
          ],
          [
           527,
           "Gandhi (1982)",
           195
          ],
          [
           528,
           "Killing Fields, The (1984)",
           121
          ],
          [
           529,
           "My Life as a Dog (Mitt liv som hund) (1985)",
           93
          ],
          [
           530,
           "Man Who Would Be King, The (1975)",
           80
          ],
          [
           531,
           "Shine (1996)",
           129
          ],
          [
           532,
           "Kama Sutra: A Tale of Love (1996)",
           22
          ],
          [
           533,
           "Daytrippers, The (1996)",
           15
          ],
          [
           534,
           "Traveller (1997)",
           13
          ],
          [
           535,
           "Addicted to Love (1997)",
           54
          ],
          [
           536,
           "Ponette (1996)",
           10
          ],
          [
           537,
           "My Own Private Idaho (1991)",
           30
          ],
          [
           538,
           "Anastasia (1997)",
           66
          ],
          [
           539,
           "Mouse Hunt (1997)",
           44
          ],
          [
           540,
           "Money Train (1995)",
           43
          ],
          [
           541,
           "Mortal Kombat (1995)",
           49
          ],
          [
           542,
           "Pocahontas (1995)",
           51
          ],
          [
           543,
           "Misérables, Les (1995)",
           21
          ],
          [
           544,
           "Things to Do in Denver when You're Dead (1995)",
           71
          ],
          [
           545,
           "Vampire in Brooklyn (1995)",
           12
          ],
          [
           546,
           "Broken Arrow (1996)",
           254
          ],
          [
           547,
           "Young Poisoner's Handbook, The (1995)",
           41
          ],
          [
           548,
           "NeverEnding Story III, The (1994)",
           12
          ],
          [
           549,
           "Rob Roy (1995)",
           92
          ],
          [
           550,
           "Die Hard: With a Vengeance (1995)",
           151
          ],
          [
           551,
           "Lord of Illusions (1995)",
           24
          ],
          [
           552,
           "Species (1995)",
           45
          ],
          [
           553,
           "Walk in the Clouds, A (1995)",
           63
          ],
          [
           554,
           "Waterworld (1995)",
           102
          ],
          [
           555,
           "White Man's Burden (1995)",
           10
          ],
          [
           556,
           "Wild Bill (1995)",
           12
          ],
          [
           557,
           "Farinelli: il castrato (1994)",
           17
          ],
          [
           558,
           "Heavenly Creatures (1994)",
           70
          ],
          [
           559,
           "Interview with the Vampire (1994)",
           137
          ],
          [
           560,
           "Kid in King Arthur's Court, A (1995)",
           22
          ],
          [
           561,
           "Mary Shelley's Frankenstein (1994)",
           59
          ],
          [
           562,
           "Quick and the Dead, The (1995)",
           48
          ],
          [
           563,
           "Stephen King's The Langoliers (1995)",
           29
          ],
          [
           564,
           "Tales from the Hood (1995)",
           27
          ],
          [
           565,
           "Village of the Damned (1995)",
           22
          ],
          [
           566,
           "Clear and Present Danger (1994)",
           179
          ],
          [
           567,
           "Wes Craven's New Nightmare (1994)",
           35
          ],
          [
           568,
           "Speed (1994)",
           230
          ],
          [
           569,
           "Wolf (1994)",
           67
          ],
          [
           570,
           "Wyatt Earp (1994)",
           50
          ],
          [
           571,
           "Another Stakeout (1993)",
           28
          ],
          [
           572,
           "Blown Away (1994)",
           29
          ],
          [
           573,
           "Body Snatchers (1993)",
           33
          ],
          [
           574,
           "Boxing Helena (1993)",
           15
          ],
          [
           575,
           "City Slickers II: The Legend of Curly's Gold (1994)",
           44
          ],
          [
           576,
           "Cliffhanger (1993)",
           93
          ],
          [
           577,
           "Coneheads (1993)",
           41
          ],
          [
           578,
           "Demolition Man (1993)",
           92
          ],
          [
           579,
           "Fatal Instinct (1993)",
           19
          ],
          [
           580,
           "Englishman Who Went Up a Hill, But Came Down a Mountain, The (1995)",
           32
          ],
          [
           581,
           "Kalifornia (1993)",
           59
          ],
          [
           582,
           "Piano, The (1993)",
           168
          ],
          [
           583,
           "Romeo Is Bleeding (1993)",
           37
          ],
          [
           584,
           "Secret Garden, The (1993)",
           79
          ],
          [
           585,
           "Son in Law (1993)",
           39
          ],
          [
           586,
           "Terminal Velocity (1994)",
           34
          ],
          [
           587,
           "Hour of the Pig, The (1993)",
           14
          ],
          [
           588,
           "Beauty and the Beast (1991)",
           202
          ],
          [
           589,
           "Wild Bunch, The (1969)",
           43
          ],
          [
           590,
           "Hellraiser: Bloodline (1996)",
           18
          ],
          [
           591,
           "Primal Fear (1996)",
           178
          ],
          [
           592,
           "True Crime (1995)",
           9
          ],
          [
           593,
           "Stalingrad (1993)",
           12
          ],
          [
           594,
           "Heavy (1995)",
           5
          ],
          [
           595,
           "Fan, The (1996)",
           64
          ],
          [
           596,
           "Hunchback of Notre Dame, The (1996)",
           127
          ],
          [
           597,
           "Eraser (1996)",
           206
          ],
          [
           598,
           "Big Squeeze, The (1996)",
           4
          ],
          [
           599,
           "Police Story 4: Project S (Chao ji ji hua) (1993)",
           1
          ],
          [
           600,
           "Daniel Defoe's Robinson Crusoe (1996)",
           2
          ],
          [
           601,
           "For Whom the Bell Tolls (1943)",
           20
          ],
          [
           602,
           "American in Paris, An (1951)",
           50
          ],
          [
           603,
           "Rear Window (1954)",
           209
          ],
          [
           604,
           "It Happened One Night (1934)",
           81
          ],
          [
           605,
           "Meet Me in St. Louis (1944)",
           31
          ],
          [
           606,
           "All About Eve (1950)",
           66
          ],
          [
           607,
           "Rebecca (1940)",
           66
          ],
          [
           608,
           "Spellbound (1945)",
           30
          ],
          [
           609,
           "Father of the Bride (1950)",
           60
          ],
          [
           610,
           "Gigi (1958)",
           41
          ],
          [
           611,
           "Laura (1944)",
           40
          ],
          [
           612,
           "Lost Horizon (1937)",
           34
          ],
          [
           613,
           "My Man Godfrey (1936)",
           27
          ],
          [
           614,
           "Giant (1956)",
           51
          ],
          [
           615,
           "39 Steps, The (1935)",
           59
          ],
          [
           616,
           "Night of the Living Dead (1968)",
           64
          ],
          [
           617,
           "Blue Angel, The (Blaue Engel, Der) (1930)",
           18
          ],
          [
           618,
           "Picnic (1955)",
           18
          ],
          [
           619,
           "Extreme Measures (1996)",
           64
          ],
          [
           620,
           "Chamber, The (1996)",
           43
          ],
          [
           621,
           "Davy Crockett, King of the Wild Frontier (1955)",
           11
          ],
          [
           622,
           "Swiss Family Robinson (1960)",
           39
          ],
          [
           623,
           "Angels in the Outfield (1994)",
           39
          ],
          [
           624,
           "Three Caballeros, The (1945)",
           22
          ],
          [
           625,
           "Sword in the Stone, The (1963)",
           82
          ],
          [
           626,
           "So Dear to My Heart (1949)",
           4
          ],
          [
           627,
           "Robin Hood: Prince of Thieves (1991)",
           75
          ],
          [
           628,
           "Sleepers (1996)",
           169
          ],
          [
           629,
           "Victor/Victoria (1982)",
           77
          ],
          [
           630,
           "Great Race, The (1965)",
           31
          ],
          [
           631,
           "Crying Game, The (1992)",
           119
          ],
          [
           632,
           "Sophie's Choice (1982)",
           58
          ],
          [
           633,
           "Christmas Carol, A (1938)",
           69
          ],
          [
           634,
           "Microcosmos: Le peuple de l'herbe (1996)",
           24
          ],
          [
           635,
           "Fog, The (1980)",
           23
          ],
          [
           636,
           "Escape from New York (1981)",
           91
          ],
          [
           637,
           "Howling, The (1981)",
           38
          ],
          [
           638,
           "Return of Martin Guerre, The (Retour de Martin Guerre, Le) (1982)",
           44
          ],
          [
           639,
           "Tin Drum, The (Blechtrommel, Die) (1979)",
           40
          ],
          [
           640,
           "Cook the Thief His Wife & Her Lover, The (1989)",
           82
          ],
          [
           641,
           "Paths of Glory (1957)",
           33
          ],
          [
           642,
           "Grifters, The (1990)",
           89
          ],
          [
           643,
           "The Innocent (1994)",
           4
          ],
          [
           644,
           "Thin Blue Line, The (1988)",
           35
          ],
          [
           645,
           "Paris Is Burning (1990)",
           27
          ],
          [
           646,
           "Once Upon a Time in the West (1969)",
           38
          ],
          [
           647,
           "Ran (1985)",
           70
          ],
          [
           648,
           "Quiet Man, The (1952)",
           67
          ],
          [
           649,
           "Once Upon a Time in America (1984)",
           50
          ],
          [
           650,
           "Seventh Seal, The (Sjunde inseglet, Det) (1957)",
           72
          ],
          [
           651,
           "Glory (1989)",
           171
          ],
          [
           652,
           "Rosencrantz and Guildenstern Are Dead (1990)",
           90
          ],
          [
           653,
           "Touch of Evil (1958)",
           34
          ],
          [
           654,
           "Chinatown (1974)",
           147
          ],
          [
           655,
           "Stand by Me (1986)",
           227
          ],
          [
           656,
           "M (1931)",
           44
          ],
          [
           657,
           "Manchurian Candidate, The (1962)",
           131
          ],
          [
           658,
           "Pump Up the Volume (1990)",
           79
          ],
          [
           659,
           "Arsenic and Old Lace (1944)",
           115
          ],
          [
           660,
           "Fried Green Tomatoes (1991)",
           153
          ],
          [
           661,
           "High Noon (1952)",
           88
          ],
          [
           662,
           "Somewhere in Time (1980)",
           82
          ],
          [
           663,
           "Being There (1979)",
           116
          ],
          [
           664,
           "Paris, Texas (1984)",
           46
          ],
          [
           665,
           "Alien 3 (1992)",
           100
          ],
          [
           666,
           "Blood For Dracula (Andy Warhol's Dracula) (1974)",
           5
          ],
          [
           667,
           "Audrey Rose (1977)",
           12
          ],
          [
           668,
           "Blood Beach (1981)",
           6
          ],
          [
           669,
           "Body Parts (1991)",
           13
          ],
          [
           670,
           "Body Snatchers (1993)",
           36
          ],
          [
           671,
           "Bride of Frankenstein (1935)",
           46
          ],
          [
           672,
           "Candyman (1992)",
           65
          ],
          [
           673,
           "Cape Fear (1962)",
           86
          ],
          [
           674,
           "Cat People (1982)",
           48
          ],
          [
           675,
           "Nosferatu (Nosferatu, eine Symphonie des Grauens) (1922)",
           54
          ],
          [
           676,
           "Crucible, The (1996)",
           77
          ],
          [
           677,
           "Fire on the Mountain (1996)",
           1
          ],
          [
           678,
           "Volcano (1997)",
           219
          ],
          [
           679,
           "Conan the Barbarian (1981)",
           107
          ],
          [
           680,
           "Kull the Conqueror (1997)",
           34
          ],
          [
           681,
           "Wishmaster (1997)",
           27
          ],
          [
           682,
           "I Know What You Did Last Summer (1997)",
           100
          ],
          [
           683,
           "Rocket Man (1997)",
           49
          ],
          [
           684,
           "In the Line of Fire (1993)",
           169
          ],
          [
           685,
           "Executive Decision (1996)",
           157
          ],
          [
           686,
           "Perfect World, A (1993)",
           50
          ],
          [
           687,
           "McHale's Navy (1997)",
           69
          ],
          [
           688,
           "Leave It to Beaver (1997)",
           44
          ],
          [
           689,
           "Jackal, The (1997)",
           87
          ],
          [
           690,
           "Seven Years in Tibet (1997)",
           155
          ],
          [
           691,
           "Dark City (1998)",
           16
          ],
          [
           692,
           "American President, The (1995)",
           164
          ],
          [
           693,
           "Casino (1995)",
           91
          ],
          [
           694,
           "Persuasion (1995)",
           44
          ],
          [
           695,
           "Kicking and Screaming (1995)",
           13
          ],
          [
           696,
           "City Hall (1996)",
           79
          ],
          [
           697,
           "Basketball Diaries, The (1995)",
           40
          ],
          [
           698,
           "Browning Version, The (1994)",
           10
          ],
          [
           699,
           "Little Women (1994)",
           102
          ],
          [
           700,
           "Miami Rhapsody (1995)",
           15
          ],
          [
           701,
           "Wonderful, Horrible Life of Leni Riefenstahl, The (1993)",
           10
          ],
          [
           702,
           "Barcelona (1994)",
           53
          ],
          [
           703,
           "Widows' Peak (1994)",
           19
          ],
          [
           704,
           "House of the Spirits, The (1993)",
           24
          ],
          [
           705,
           "Singin' in the Rain (1952)",
           137
          ],
          [
           706,
           "Bad Moon (1996)",
           6
          ],
          [
           707,
           "Enchanted April (1991)",
           70
          ],
          [
           708,
           "Sex, Lies, and Videotape (1989)",
           101
          ],
          [
           709,
           "Strictly Ballroom (1992)",
           104
          ],
          [
           710,
           "Better Off Dead... (1985)",
           79
          ],
          [
           711,
           "Substance of Fire, The (1996)",
           1
          ],
          [
           712,
           "Tin Men (1987)",
           51
          ],
          [
           713,
           "Othello (1995)",
           72
          ],
          [
           714,
           "Carrington (1995)",
           13
          ],
          [
           715,
           "To Die For (1995)",
           87
          ],
          [
           716,
           "Home for the Holidays (1995)",
           58
          ],
          [
           717,
           "Juror, The (1996)",
           82
          ],
          [
           718,
           "In the Bleak Midwinter (1995)",
           16
          ],
          [
           719,
           "Canadian Bacon (1994)",
           29
          ],
          [
           720,
           "First Knight (1995)",
           86
          ],
          [
           721,
           "Mallrats (1995)",
           54
          ],
          [
           722,
           "Nine Months (1995)",
           58
          ],
          [
           723,
           "Boys on the Side (1995)",
           34
          ],
          [
           724,
           "Circle of Friends (1995)",
           76
          ],
          [
           725,
           "Exit to Eden (1994)",
           16
          ],
          [
           726,
           "Fluke (1995)",
           14
          ],
          [
           727,
           "Immortal Beloved (1994)",
           63
          ],
          [
           728,
           "Junior (1994)",
           45
          ],
          [
           729,
           "Nell (1994)",
           81
          ],
          [
           730,
           "Queen Margot (Reine Margot, La) (1994)",
           24
          ],
          [
           731,
           "Corrina, Corrina (1994)",
           39
          ],
          [
           732,
           "Dave (1993)",
           180
          ],
          [
           733,
           "Go Fish (1994)",
           15
          ],
          [
           734,
           "Made in America (1993)",
           27
          ],
          [
           735,
           "Philadelphia (1993)",
           137
          ],
          [
           736,
           "Shadowlands (1993)",
           78
          ],
          [
           737,
           "Sirens (1994)",
           59
          ],
          [
           738,
           "Threesome (1994)",
           31
          ],
          [
           739,
           "Pretty Woman (1990)",
           164
          ],
          [
           740,
           "Jane Eyre (1996)",
           63
          ],
          [
           741,
           "Last Supper, The (1995)",
           58
          ],
          [
           742,
           "Ransom (1996)",
           267
          ],
          [
           743,
           "Crow: City of Angels, The (1996)",
           39
          ],
          [
           744,
           "Michael Collins (1996)",
           92
          ],
          [
           745,
           "Ruling Class, The (1972)",
           16
          ],
          [
           746,
           "Real Genius (1985)",
           119
          ],
          [
           747,
           "Benny & Joon (1993)",
           102
          ],
          [
           748,
           "Saint, The (1997)",
           316
          ],
          [
           749,
           "MatchMaker, The (1997)",
           51
          ],
          [
           750,
           "Amistad (1997)",
           124
          ],
          [
           751,
           "Tomorrow Never Dies (1997)",
           180
          ],
          [
           752,
           "Replacement Killers, The (1998)",
           39
          ],
          [
           753,
           "Burnt By the Sun (1994)",
           24
          ],
          [
           754,
           "Red Corner (1997)",
           57
          ],
          [
           755,
           "Jumanji (1995)",
           96
          ],
          [
           756,
           "Father of the Bride Part II (1995)",
           128
          ],
          [
           757,
           "Across the Sea of Time (1995)",
           4
          ],
          [
           758,
           "Lawnmower Man 2: Beyond Cyberspace (1996)",
           21
          ],
          [
           759,
           "Fair Game (1995)",
           11
          ],
          [
           760,
           "Screamers (1995)",
           46
          ],
          [
           761,
           "Nick of Time (1995)",
           44
          ],
          [
           762,
           "Beautiful Girls (1996)",
           115
          ],
          [
           763,
           "Happy Gilmore (1996)",
           149
          ],
          [
           764,
           "If Lucy Fell (1996)",
           29
          ],
          [
           765,
           "Boomerang (1992)",
           32
          ],
          [
           766,
           "Man of the Year (1995)",
           9
          ],
          [
           767,
           "Addiction, The (1995)",
           11
          ],
          [
           768,
           "Casper (1995)",
           52
          ],
          [
           769,
           "Congo (1995)",
           42
          ],
          [
           770,
           "Devil in a Blue Dress (1995)",
           57
          ],
          [
           771,
           "Johnny Mnemonic (1995)",
           41
          ],
          [
           772,
           "Kids (1995)",
           49
          ],
          [
           773,
           "Mute Witness (1994)",
           17
          ],
          [
           774,
           "Prophecy, The (1995)",
           32
          ],
          [
           775,
           "Something to Talk About (1995)",
           26
          ],
          [
           776,
           "Three Wishes (1995)",
           9
          ],
          [
           777,
           "Castle Freak (1995)",
           4
          ],
          [
           778,
           "Don Juan DeMarco (1995)",
           76
          ],
          [
           779,
           "Drop Zone (1994)",
           31
          ],
          [
           780,
           "Dumb & Dumber (1994)",
           69
          ],
          [
           781,
           "French Kiss (1995)",
           84
          ],
          [
           782,
           "Little Odessa (1994)",
           10
          ],
          [
           783,
           "Milk Money (1994)",
           37
          ],
          [
           784,
           "Beyond Bedlam (1993)",
           2
          ],
          [
           785,
           "Only You (1994)",
           39
          ],
          [
           786,
           "Perez Family, The (1995)",
           14
          ],
          [
           787,
           "Roommates (1995)",
           13
          ],
          [
           788,
           "Relative Fear (1994)",
           3
          ],
          [
           789,
           "Swimming with Sharks (1995)",
           47
          ],
          [
           790,
           "Tommy Boy (1995)",
           66
          ],
          [
           791,
           "Baby-Sitters Club, The (1995)",
           10
          ],
          [
           792,
           "Bullets Over Broadway (1994)",
           86
          ],
          [
           793,
           "Crooklyn (1994)",
           10
          ],
          [
           794,
           "It Could Happen to You (1994)",
           46
          ],
          [
           795,
           "Richie Rich (1994)",
           21
          ],
          [
           796,
           "Speechless (1994)",
           36
          ],
          [
           797,
           "Timecop (1994)",
           31
          ],
          [
           798,
           "Bad Company (1995)",
           9
          ],
          [
           799,
           "Boys Life (1995)",
           5
          ],
          [
           800,
           "In the Mouth of Madness (1995)",
           26
          ],
          [
           801,
           "Air Up There, The (1994)",
           16
          ],
          [
           802,
           "Hard Target (1993)",
           40
          ],
          [
           803,
           "Heaven & Earth (1993)",
           9
          ],
          [
           804,
           "Jimmy Hollywood (1994)",
           8
          ],
          [
           805,
           "Manhattan Murder Mystery (1993)",
           27
          ],
          [
           806,
           "Menace II Society (1993)",
           50
          ],
          [
           807,
           "Poetic Justice (1993)",
           9
          ],
          [
           808,
           "Program, The (1993)",
           31
          ],
          [
           809,
           "Rising Sun (1993)",
           43
          ],
          [
           810,
           "Shadow, The (1994)",
           45
          ],
          [
           811,
           "Thirty-Two Short Films About Glenn Gould (1993)",
           18
          ],
          [
           812,
           "Andre (1994)",
           18
          ],
          [
           813,
           "Celluloid Closet, The (1995)",
           56
          ],
          [
           814,
           "Great Day in Harlem, A (1994)",
           1
          ],
          [
           815,
           "One Fine Day (1996)",
           112
          ],
          [
           816,
           "Candyman: Farewell to the Flesh (1995)",
           21
          ],
          [
           817,
           "Frisk (1995)",
           3
          ],
          [
           818,
           "Girl 6 (1996)",
           25
          ],
          [
           819,
           "Eddie (1996)",
           40
          ],
          [
           820,
           "Space Jam (1996)",
           93
          ],
          [
           821,
           "Mrs. Winterbourne (1996)",
           22
          ],
          [
           822,
           "Faces (1968)",
           4
          ],
          [
           823,
           "Mulholland Falls (1996)",
           82
          ],
          [
           824,
           "Great White Hype, The (1996)",
           49
          ],
          [
           825,
           "Arrival, The (1996)",
           83
          ],
          [
           826,
           "Phantom, The (1996)",
           80
          ],
          [
           827,
           "Daylight (1996)",
           57
          ],
          [
           828,
           "Alaska (1996)",
           13
          ],
          [
           829,
           "Fled (1996)",
           34
          ],
          [
           830,
           "Power 98 (1995)",
           1
          ],
          [
           831,
           "Escape from L.A. (1996)",
           91
          ],
          [
           832,
           "Bogus (1996)",
           22
          ],
          [
           833,
           "Bulletproof (1996)",
           49
          ],
          [
           834,
           "Halloween: The Curse of Michael Myers (1995)",
           25
          ],
          [
           835,
           "Gay Divorcee, The (1934)",
           15
          ],
          [
           836,
           "Ninotchka (1939)",
           26
          ],
          [
           837,
           "Meet John Doe (1941)",
           25
          ],
          [
           838,
           "In the Line of Duty 2 (1987)",
           4
          ],
          [
           839,
           "Loch Ness (1995)",
           4
          ],
          [
           840,
           "Last Man Standing (1996)",
           53
          ],
          [
           841,
           "Glimmer Man, The (1996)",
           48
          ],
          [
           842,
           "Pollyanna (1960)",
           27
          ],
          [
           843,
           "Shaggy Dog, The (1959)",
           30
          ],
          [
           844,
           "Freeway (1996)",
           42
          ],
          [
           845,
           "That Thing You Do! (1996)",
           176
          ],
          [
           846,
           "To Gillian on Her 37th Birthday (1996)",
           44
          ],
          [
           847,
           "Looking for Richard (1996)",
           55
          ],
          [
           848,
           "Murder, My Sweet (1944)",
           9
          ],
          [
           849,
           "Days of Thunder (1990)",
           53
          ],
          [
           850,
           "Perfect Candidate, A (1996)",
           4
          ],
          [
           851,
           "Two or Three Things I Know About Her (1966)",
           4
          ],
          [
           852,
           "Bloody Child, The (1996)",
           1
          ],
          [
           853,
           "Braindead (1992)",
           14
          ],
          [
           854,
           "Bad Taste (1987)",
           16
          ],
          [
           855,
           "Diva (1981)",
           66
          ],
          [
           856,
           "Night on Earth (1991)",
           36
          ],
          [
           857,
           "Paris Was a Woman (1995)",
           1
          ],
          [
           858,
           "Amityville: Dollhouse (1996)",
           3
          ],
          [
           859,
           "April Fool's Day (1986)",
           15
          ],
          [
           860,
           "Believers, The (1987)",
           16
          ],
          [
           861,
           "Nosferatu a Venezia (1986)",
           3
          ],
          [
           862,
           "Jingle All the Way (1996)",
           18
          ],
          [
           863,
           "Garden of Finzi-Contini, The (Giardino dei Finzi-Contini, Il) (1970)",
           24
          ],
          [
           864,
           "My Fellow Americans (1996)",
           86
          ],
          [
           865,
           "Ice Storm, The (1997)",
           21
          ],
          [
           866,
           "Michael (1996)",
           119
          ],
          [
           867,
           "Whole Wide World, The (1996)",
           6
          ],
          [
           868,
           "Hearts and Minds (1996)",
           5
          ],
          [
           869,
           "Fools Rush In (1997)",
           24
          ],
          [
           870,
           "Touch (1997)",
           9
          ],
          [
           871,
           "Vegas Vacation (1997)",
           75
          ],
          [
           872,
           "Love Jones (1997)",
           42
          ],
          [
           873,
           "Picture Perfect (1997)",
           81
          ],
          [
           874,
           "Career Girls (1997)",
           39
          ],
          [
           875,
           "She's So Lovely (1997)",
           53
          ],
          [
           876,
           "Money Talks (1997)",
           47
          ],
          [
           877,
           "Excess Baggage (1997)",
           52
          ],
          [
           878,
           "That Darn Cat! (1997)",
           33
          ],
          [
           879,
           "Peacemaker, The (1997)",
           136
          ],
          [
           880,
           "Soul Food (1997)",
           59
          ],
          [
           881,
           "Money Talks (1997)",
           45
          ],
          [
           882,
           "Washington Square (1997)",
           34
          ],
          [
           883,
           "Telling Lies in America (1997)",
           13
          ],
          [
           884,
           "Year of the Horse (1997)",
           7
          ],
          [
           885,
           "Phantoms (1998)",
           13
          ],
          [
           886,
           "Life Less Ordinary, A (1997)",
           53
          ],
          [
           887,
           "Eve's Bayou (1997)",
           64
          ],
          [
           888,
           "One Night Stand (1997)",
           15
          ],
          [
           889,
           "Tango Lesson, The (1997)",
           13
          ],
          [
           890,
           "Mortal Kombat: Annihilation (1997)",
           43
          ],
          [
           891,
           "Bent (1997)",
           6
          ],
          [
           892,
           "Flubber (1997)",
           53
          ],
          [
           893,
           "For Richer or Poorer (1997)",
           14
          ],
          [
           894,
           "Home Alone 3 (1997)",
           19
          ],
          [
           895,
           "Scream 2 (1997)",
           106
          ],
          [
           896,
           "Sweet Hereafter, The (1997)",
           44
          ],
          [
           897,
           "Time Tracers (1995)",
           2
          ],
          [
           898,
           "Postman, The (1997)",
           58
          ],
          [
           899,
           "Winter Guest, The (1997)",
           9
          ],
          [
           900,
           "Kundun (1997)",
           42
          ],
          [
           901,
           "Mr. Magoo (1997)",
           12
          ],
          [
           902,
           "Big Lebowski, The (1998)",
           42
          ],
          [
           903,
           "Afterglow (1997)",
           18
          ],
          [
           904,
           "Ma vie en rose (My Life in Pink) (1997)",
           20
          ],
          [
           905,
           "Great Expectations (1998)",
           27
          ],
          [
           906,
           "Oscar & Lucinda (1997)",
           21
          ],
          [
           907,
           "Vermin (1998)",
           2
          ],
          [
           908,
           "Half Baked (1998)",
           20
          ],
          [
           909,
           "Dangerous Beauty (1998)",
           13
          ],
          [
           910,
           "Nil By Mouth (1997)",
           4
          ],
          [
           911,
           "Twilight (1998)",
           4
          ],
          [
           912,
           "U.S. Marshalls (1998)",
           9
          ],
          [
           913,
           "Love and Death on Long Island (1997)",
           2
          ],
          [
           914,
           "Wild Things (1998)",
           11
          ],
          [
           915,
           "Primary Colors (1998)",
           13
          ],
          [
           916,
           "Lost in Space (1998)",
           18
          ],
          [
           917,
           "Mercury Rising (1998)",
           7
          ],
          [
           918,
           "City of Angels (1998)",
           8
          ],
          [
           919,
           "City of Lost Children, The (1995)",
           96
          ],
          [
           920,
           "Two Bits (1995)",
           5
          ],
          [
           921,
           "Farewell My Concubine (1993)",
           46
          ],
          [
           922,
           "Dead Man (1995)",
           34
          ],
          [
           923,
           "Raise the Red Lantern (1991)",
           58
          ],
          [
           924,
           "White Squall (1996)",
           85
          ],
          [
           925,
           "Unforgettable (1996)",
           34
          ],
          [
           926,
           "Down Periscope (1996)",
           101
          ],
          [
           927,
           "Flower of My Secret, The (Flor de mi secreto, La) (1995)",
           6
          ],
          [
           928,
           "Craft, The (1996)",
           104
          ],
          [
           929,
           "Harriet the Spy (1996)",
           40
          ],
          [
           930,
           "Chain Reaction (1996)",
           80
          ],
          [
           931,
           "Island of Dr. Moreau, The (1996)",
           57
          ],
          [
           932,
           "First Kid (1996)",
           40
          ],
          [
           933,
           "Funeral, The (1996)",
           21
          ],
          [
           934,
           "Preacher's Wife, The (1996)",
           68
          ],
          [
           935,
           "Paradise Road (1997)",
           7
          ],
          [
           936,
           "Brassed Off (1996)",
           32
          ],
          [
           937,
           "Thousand Acres, A (1997)",
           37
          ],
          [
           938,
           "Smile Like Yours, A (1997)",
           25
          ],
          [
           939,
           "Murder in the First (1995)",
           60
          ],
          [
           940,
           "Airheads (1994)",
           32
          ],
          [
           941,
           "With Honors (1994)",
           46
          ],
          [
           942,
           "What's Love Got to Do with It (1993)",
           45
          ],
          [
           943,
           "Killing Zoe (1994)",
           40
          ],
          [
           944,
           "Renaissance Man (1994)",
           43
          ],
          [
           945,
           "Charade (1963)",
           40
          ],
          [
           946,
           "Fox and the Hound, The (1981)",
           61
          ],
          [
           947,
           "Big Blue, The (Grand bleu, Le) (1988)",
           17
          ],
          [
           948,
           "Booty Call (1997)",
           48
          ],
          [
           949,
           "How to Make an American Quilt (1995)",
           71
          ],
          [
           950,
           "Georgia (1995)",
           30
          ],
          [
           951,
           "Indian in the Cupboard, The (1995)",
           39
          ],
          [
           952,
           "Blue in the Face (1995)",
           45
          ],
          [
           953,
           "Unstrung Heroes (1995)",
           22
          ],
          [
           954,
           "Unzipped (1995)",
           11
          ],
          [
           955,
           "Before Sunrise (1995)",
           49
          ],
          [
           956,
           "Nobody's Fool (1994)",
           46
          ],
          [
           957,
           "Pushing Hands (1992)",
           2
          ],
          [
           958,
           "To Live (Huozhe) (1994)",
           14
          ],
          [
           959,
           "Dazed and Confused (1993)",
           64
          ],
          [
           960,
           "Naked (1993)",
           25
          ],
          [
           961,
           "Orlando (1993)",
           34
          ],
          [
           962,
           "Ruby in Paradise (1993)",
           23
          ],
          [
           963,
           "Some Folks Call It a Sling Blade (1993)",
           41
          ],
          [
           964,
           "Month by the Lake, A (1995)",
           9
          ],
          [
           965,
           "Funny Face (1957)",
           21
          ],
          [
           966,
           "Affair to Remember, An (1957)",
           26
          ],
          [
           967,
           "Little Lord Fauntleroy (1936)",
           12
          ],
          [
           968,
           "Inspector General, The (1949)",
           18
          ],
          [
           969,
           "Winnie the Pooh and the Blustery Day (1968)",
           75
          ],
          [
           970,
           "Hear My Song (1991)",
           8
          ],
          [
           971,
           "Mediterraneo (1991)",
           34
          ],
          [
           972,
           "Passion Fish (1992)",
           28
          ],
          [
           973,
           "Grateful Dead (1995)",
           4
          ],
          [
           974,
           "Eye for an Eye (1996)",
           32
          ],
          [
           975,
           "Fear (1996)",
           44
          ],
          [
           976,
           "Solo (1996)",
           12
          ],
          [
           977,
           "Substitute, The (1996)",
           49
          ],
          [
           978,
           "Heaven's Prisoners (1996)",
           27
          ],
          [
           979,
           "Trigger Effect, The (1996)",
           35
          ],
          [
           980,
           "Mother Night (1996)",
           22
          ],
          [
           981,
           "Dangerous Ground (1997)",
           8
          ],
          [
           982,
           "Maximum Risk (1996)",
           20
          ],
          [
           983,
           "Rich Man's Wife, The (1996)",
           15
          ],
          [
           984,
           "Shadow Conspiracy (1997)",
           44
          ],
          [
           985,
           "Blood & Wine (1997)",
           22
          ],
          [
           986,
           "Turbulence (1997)",
           23
          ],
          [
           987,
           "Underworld (1997)",
           4
          ],
          [
           988,
           "Beautician and the Beast, The (1997)",
           86
          ],
          [
           989,
           "Cats Don't Dance (1997)",
           32
          ],
          [
           990,
           "Anna Karenina (1997)",
           33
          ],
          [
           991,
           "Keys to Tulsa (1997)",
           25
          ],
          [
           992,
           "Head Above Water (1996)",
           4
          ],
          [
           993,
           "Hercules (1997)",
           66
          ],
          [
           994,
           "Last Time I Committed Suicide, The (1997)",
           7
          ],
          [
           995,
           "Kiss Me, Guido (1997)",
           31
          ],
          [
           996,
           "Big Green, The (1995)",
           14
          ],
          [
           997,
           "Stuart Saves His Family (1995)",
           16
          ],
          [
           998,
           "Cabin Boy (1994)",
           16
          ],
          [
           999,
           "Clean Slate (1994)",
           10
          ],
          [
           1000,
           "Lightning Jack (1994)",
           10
          ],
          [
           1001,
           "Stupids, The (1996)",
           17
          ],
          [
           1002,
           "Pest, The (1997)",
           8
          ],
          [
           1003,
           "That Darn Cat! (1997)",
           8
          ],
          [
           1004,
           "Geronimo: An American Legend (1993)",
           9
          ],
          [
           1005,
           "Double vie de Véronique, La (Double Life of Veronique, The) (1991)",
           22
          ],
          [
           1006,
           "Until the End of the World (Bis ans Ende der Welt) (1991)",
           23
          ],
          [
           1007,
           "Waiting for Guffman (1996)",
           47
          ],
          [
           1008,
           "I Shot Andy Warhol (1996)",
           37
          ],
          [
           1009,
           "Stealing Beauty (1996)",
           64
          ],
          [
           1010,
           "Basquiat (1996)",
           44
          ],
          [
           1011,
           "2 Days in the Valley (1996)",
           93
          ],
          [
           1012,
           "Private Parts (1997)",
           100
          ],
          [
           1013,
           "Anaconda (1997)",
           38
          ],
          [
           1014,
           "Romy and Michele's High School Reunion (1997)",
           98
          ],
          [
           1015,
           "Shiloh (1997)",
           12
          ],
          [
           1016,
           "Con Air (1997)",
           137
          ],
          [
           1017,
           "Trees Lounge (1996)",
           50
          ],
          [
           1018,
           "Tie Me Up! Tie Me Down! (1990)",
           32
          ],
          [
           1019,
           "Die xue shuang xiong (Killer, The) (1989)",
           31
          ],
          [
           1020,
           "Gaslight (1944)",
           35
          ],
          [
           1021,
           "8 1/2 (1963)",
           38
          ],
          [
           1022,
           "Fast, Cheap & Out of Control (1997)",
           32
          ],
          [
           1023,
           "Fathers' Day (1997)",
           31
          ],
          [
           1024,
           "Mrs. Dalloway (1997)",
           15
          ],
          [
           1025,
           "Fire Down Below (1997)",
           44
          ],
          [
           1026,
           "Lay of the Land, The (1997)",
           4
          ],
          [
           1027,
           "Shooter, The (1995)",
           3
          ],
          [
           1028,
           "Grumpier Old Men (1995)",
           148
          ],
          [
           1029,
           "Jury Duty (1995)",
           14
          ],
          [
           1030,
           "Beverly Hillbillies, The (1993)",
           20
          ],
          [
           1031,
           "Lassie (1994)",
           7
          ],
          [
           1032,
           "Little Big League (1994)",
           16
          ],
          [
           1033,
           "Homeward Bound II: Lost in San Francisco (1996)",
           32
          ],
          [
           1034,
           "Quest, The (1996)",
           27
          ],
          [
           1035,
           "Cool Runnings (1993)",
           68
          ],
          [
           1036,
           "Drop Dead Fred (1991)",
           24
          ],
          [
           1037,
           "Grease 2 (1982)",
           24
          ],
          [
           1038,
           "Switchback (1997)",
           17
          ],
          [
           1039,
           "Hamlet (1996)",
           90
          ],
          [
           1040,
           "Two if by Sea (1996)",
           25
          ],
          [
           1041,
           "Forget Paris (1995)",
           62
          ],
          [
           1042,
           "Just Cause (1995)",
           28
          ],
          [
           1043,
           "Rent-a-Kid (1995)",
           8
          ],
          [
           1044,
           "Paper, The (1994)",
           40
          ],
          [
           1045,
           "Fearless (1993)",
           25
          ],
          [
           1046,
           "Malice (1993)",
           46
          ],
          [
           1047,
           "Multiplicity (1996)",
           134
          ],
          [
           1048,
           "She's the One (1996)",
           73
          ],
          [
           1049,
           "House Arrest (1996)",
           25
          ],
          [
           1050,
           "Ghost and Mrs. Muir, The (1947)",
           43
          ],
          [
           1051,
           "Associate, The (1996)",
           41
          ],
          [
           1052,
           "Dracula: Dead and Loving It (1995)",
           25
          ],
          [
           1053,
           "Now and Then (1995)",
           24
          ],
          [
           1054,
           "Mr. Wrong (1996)",
           23
          ],
          [
           1055,
           "Simple Twist of Fate, A (1994)",
           10
          ],
          [
           1056,
           "Cronos (1992)",
           10
          ],
          [
           1057,
           "Pallbearer, The (1996)",
           22
          ],
          [
           1058,
           "War, The (1994)",
           15
          ],
          [
           1059,
           "Don't Be a Menace to South Central While Drinking Your Juice in the Hood (1996)",
           35
          ],
          [
           1060,
           "Adventures of Pinocchio, The (1996)",
           39
          ],
          [
           1061,
           "Evening Star, The (1996)",
           29
          ],
          [
           1062,
           "Four Days in September (1997)",
           12
          ],
          [
           1063,
           "Little Princess, A (1995)",
           41
          ],
          [
           1064,
           "Crossfire (1947)",
           4
          ],
          [
           1065,
           "Koyaanisqatsi (1983)",
           53
          ],
          [
           1066,
           "Balto (1995)",
           16
          ],
          [
           1067,
           "Bottle Rocket (1996)",
           44
          ],
          [
           1068,
           "Star Maker, The (Uomo delle stelle, L') (1995)",
           12
          ],
          [
           1069,
           "Amateur (1994)",
           18
          ],
          [
           1070,
           "Living in Oblivion (1995)",
           27
          ],
          [
           1071,
           "Party Girl (1995)",
           16
          ],
          [
           1072,
           "Pyromaniac's Love Story, A (1995)",
           7
          ],
          [
           1073,
           "Shallow Grave (1994)",
           66
          ],
          [
           1074,
           "Reality Bites (1994)",
           77
          ],
          [
           1075,
           "Man of No Importance, A (1994)",
           7
          ],
          [
           1076,
           "Pagemaster, The (1994)",
           12
          ],
          [
           1077,
           "Love and a .45 (1994)",
           8
          ],
          [
           1078,
           "Oliver & Company (1988)",
           22
          ],
          [
           1079,
           "Joe's Apartment (1996)",
           45
          ],
          [
           1080,
           "Celestial Clockwork (1994)",
           2
          ],
          [
           1081,
           "Curdled (1996)",
           8
          ],
          [
           1082,
           "Female Perversions (1996)",
           8
          ],
          [
           1083,
           "Albino Alligator (1996)",
           6
          ],
          [
           1084,
           "Anne Frank Remembered (1995)",
           21
          ],
          [
           1085,
           "Carried Away (1996)",
           11
          ],
          [
           1086,
           "It's My Party (1995)",
           21
          ],
          [
           1087,
           "Bloodsport 2 (1995)",
           10
          ],
          [
           1088,
           "Double Team (1997)",
           13
          ],
          [
           1089,
           "Speed 2: Cruise Control (1997)",
           38
          ],
          [
           1090,
           "Sliver (1993)",
           37
          ],
          [
           1091,
           "Pete's Dragon (1977)",
           43
          ],
          [
           1092,
           "Dear God (1996)",
           12
          ],
          [
           1093,
           "Live Nude Girls (1995)",
           23
          ],
          [
           1094,
           "Thin Line Between Love and Hate, A (1996)",
           12
          ],
          [
           1095,
           "High School High (1996)",
           29
          ],
          [
           1096,
           "Commandments (1997)",
           3
          ],
          [
           1097,
           "Hate (Haine, La) (1995)",
           18
          ],
          [
           1098,
           "Flirting With Disaster (1996)",
           42
          ],
          [
           1099,
           "Red Firecracker, Green Firecracker (1994)",
           13
          ],
          [
           1100,
           "What Happened Was... (1994)",
           8
          ],
          [
           1101,
           "Six Degrees of Separation (1993)",
           74
          ],
          [
           1102,
           "Two Much (1996)",
           7
          ],
          [
           1103,
           "Trust (1990)",
           19
          ],
          [
           1104,
           "C'est arrivé près de chez vous (1992)",
           4
          ],
          [
           1105,
           "Firestorm (1998)",
           18
          ],
          [
           1106,
           "Newton Boys, The (1998)",
           4
          ],
          [
           1107,
           "Beyond Rangoon (1995)",
           18
          ],
          [
           1108,
           "Feast of July (1995)",
           5
          ],
          [
           1109,
           "Death and the Maiden (1994)",
           28
          ],
          [
           1110,
           "Tank Girl (1995)",
           41
          ],
          [
           1111,
           "Double Happiness (1994)",
           7
          ],
          [
           1112,
           "Cobb (1994)",
           15
          ],
          [
           1113,
           "Mrs. Parker and the Vicious Circle (1994)",
           22
          ],
          [
           1114,
           "Faithful (1996)",
           10
          ],
          [
           1115,
           "Twelfth Night (1996)",
           29
          ],
          [
           1116,
           "Mark of Zorro, The (1940)",
           13
          ],
          [
           1117,
           "Surviving Picasso (1996)",
           19
          ],
          [
           1118,
           "Up in Smoke (1978)",
           47
          ],
          [
           1119,
           "Some Kind of Wonderful (1987)",
           59
          ],
          [
           1120,
           "I'm Not Rappaport (1996)",
           17
          ],
          [
           1121,
           "Umbrellas of Cherbourg, The (Parapluies de Cherbourg, Les) (1964)",
           21
          ],
          [
           1122,
           "They Made Me a Criminal (1939)",
           1
          ],
          [
           1123,
           "Last Time I Saw Paris, The (1954)",
           3
          ],
          [
           1124,
           "Farewell to Arms, A (1932)",
           12
          ],
          [
           1125,
           "Innocents, The (1961)",
           4
          ],
          [
           1126,
           "Old Man and the Sea, The (1958)",
           32
          ],
          [
           1127,
           "Truman Show, The (1998)",
           11
          ],
          [
           1128,
           "Heidi Fleiss: Hollywood Madam (1995) ",
           13
          ],
          [
           1129,
           "Chungking Express (1994)",
           28
          ],
          [
           1130,
           "Jupiter's Wife (1994)",
           1
          ],
          [
           1131,
           "Safe (1995)",
           13
          ],
          [
           1132,
           "Feeling Minnesota (1996)",
           32
          ],
          [
           1133,
           "Escape to Witch Mountain (1975)",
           30
          ],
          [
           1134,
           "Get on the Bus (1996)",
           38
          ],
          [
           1135,
           "Doors, The (1991)",
           46
          ],
          [
           1136,
           "Ghosts of Mississippi (1996)",
           29
          ],
          [
           1137,
           "Beautiful Thing (1996)",
           29
          ],
          [
           1138,
           "Best Men (1997)",
           5
          ],
          [
           1139,
           "Hackers (1995)",
           33
          ],
          [
           1140,
           "Road to Wellville, The (1994)",
           17
          ],
          [
           1141,
           "War Room, The (1993)",
           9
          ],
          [
           1142,
           "When We Were Kings (1996)",
           44
          ],
          [
           1143,
           "Hard Eight (1996)",
           15
          ],
          [
           1144,
           "Quiet Room, The (1996)",
           3
          ],
          [
           1145,
           "Blue Chips (1994)",
           9
          ],
          [
           1146,
           "Calendar Girl (1993)",
           3
          ],
          [
           1147,
           "My Family (1995)",
           21
          ],
          [
           1148,
           "Tom & Viv (1994)",
           9
          ],
          [
           1149,
           "Walkabout (1971)",
           26
          ],
          [
           1150,
           "Last Dance (1996)",
           9
          ],
          [
           1151,
           "Original Gangstas (1996)",
           7
          ],
          [
           1152,
           "In Love and War (1996)",
           28
          ],
          [
           1153,
           "Backbeat (1993)",
           19
          ],
          [
           1154,
           "Alphaville (1965)",
           12
          ],
          [
           1155,
           "Rendezvous in Paris (Rendez-vous de Paris, Les) (1995)",
           3
          ],
          [
           1156,
           "Cyclo (1995)",
           1
          ],
          [
           1157,
           "Relic, The (1997)",
           25
          ],
          [
           1158,
           "Fille seule, La (A Single Girl) (1995)",
           4
          ],
          [
           1159,
           "Stalker (1979)",
           11
          ],
          [
           1160,
           "Love! Valour! Compassion! (1997)",
           26
          ],
          [
           1161,
           "Palookaville (1996)",
           13
          ],
          [
           1162,
           "Phat Beach (1996)",
           5
          ],
          [
           1163,
           "Portrait of a Lady, The (1996)",
           25
          ],
          [
           1164,
           "Zeus and Roxanne (1997)",
           6
          ],
          [
           1165,
           "Big Bully (1996)",
           14
          ],
          [
           1166,
           "Love & Human Remains (1993)",
           12
          ],
          [
           1167,
           "Sum of Us, The (1994)",
           11
          ],
          [
           1168,
           "Little Buddha (1993)",
           22
          ],
          [
           1169,
           "Fresh (1994)",
           10
          ],
          [
           1170,
           "Spanking the Monkey (1994)",
           27
          ],
          [
           1171,
           "Wild Reeds (1994)",
           14
          ],
          [
           1172,
           "Women, The (1939)",
           15
          ],
          [
           1173,
           "Bliss (1997)",
           7
          ],
          [
           1174,
           "Caught (1996)",
           8
          ],
          [
           1175,
           "Hugo Pool (1997)",
           5
          ],
          [
           1176,
           "Welcome To Sarajevo (1997)",
           22
          ],
          [
           1177,
           "Dunston Checks In (1996)",
           7
          ],
          [
           1178,
           "Major Payne (1994)",
           19
          ],
          [
           1179,
           "Man of the House (1995)",
           9
          ],
          [
           1180,
           "I Love Trouble (1994)",
           10
          ],
          [
           1181,
           "Low Down Dirty Shame, A (1994)",
           10
          ],
          [
           1182,
           "Cops and Robbersons (1994)",
           13
          ],
          [
           1183,
           "Cowboy Way, The (1994)",
           19
          ],
          [
           1184,
           "Endless Summer 2, The (1994)",
           10
          ],
          [
           1185,
           "In the Army Now (1994)",
           18
          ],
          [
           1186,
           "Inkwell, The (1994)",
           3
          ],
          [
           1187,
           "Switchblade Sisters (1975)",
           13
          ],
          [
           1188,
           "Young Guns II (1990)",
           44
          ],
          [
           1189,
           "Prefontaine (1997)",
           3
          ],
          [
           1190,
           "That Old Feeling (1997)",
           11
          ],
          [
           1191,
           "Letter From Death Row, A (1998)",
           3
          ],
          [
           1192,
           "Boys of St. Vincent, The (1993)",
           13
          ],
          [
           1193,
           "Before the Rain (Pred dozhdot) (1994)",
           10
          ],
          [
           1194,
           "Once Were Warriors (1994)",
           31
          ],
          [
           1195,
           "Strawberry and Chocolate (Fresa y chocolate) (1993)",
           11
          ],
          [
           1196,
           "Savage Nights (Nuits fauves, Les) (1992)",
           3
          ],
          [
           1197,
           "Family Thing, A (1996)",
           45
          ],
          [
           1198,
           "Purple Noon (1960)",
           7
          ],
          [
           1199,
           "Cemetery Man (Dellamorte Dellamore) (1994)",
           23
          ],
          [
           1200,
           "Kim (1950)",
           7
          ],
          [
           1201,
           "Marlene Dietrich: Shadow and Light (1996) ",
           1
          ],
          [
           1202,
           "Maybe, Maybe Not (Bewegte Mann, Der) (1994)",
           8
          ],
          [
           1203,
           "Top Hat (1935)",
           21
          ],
          [
           1204,
           "To Be or Not to Be (1942)",
           18
          ],
          [
           1205,
           "Secret Agent, The (1996)",
           6
          ],
          [
           1206,
           "Amos & Andrew (1993)",
           19
          ],
          [
           1207,
           "Jade (1995)",
           17
          ],
          [
           1208,
           "Kiss of Death (1995)",
           20
          ],
          [
           1209,
           "Mixed Nuts (1994)",
           15
          ],
          [
           1210,
           "Virtuosity (1995)",
           38
          ],
          [
           1211,
           "Blue Sky (1994)",
           12
          ],
          [
           1212,
           "Flesh and Bone (1993)",
           6
          ],
          [
           1213,
           "Guilty as Sin (1993)",
           6
          ],
          [
           1214,
           "In the Realm of the Senses (Ai no corrida) (1976)",
           9
          ],
          [
           1215,
           "Barb Wire (1996)",
           30
          ],
          [
           1216,
           "Kissed (1996)",
           6
          ],
          [
           1217,
           "Assassins (1995)",
           39
          ],
          [
           1218,
           "Friday (1995)",
           26
          ],
          [
           1219,
           "Goofy Movie, A (1995)",
           20
          ],
          [
           1220,
           "Higher Learning (1995)",
           30
          ],
          [
           1221,
           "When a Man Loves a Woman (1994)",
           39
          ],
          [
           1222,
           "Judgment Night (1993)",
           25
          ],
          [
           1223,
           "King of the Hill (1993)",
           4
          ],
          [
           1224,
           "Scout, The (1994)",
           12
          ],
          [
           1225,
           "Angus (1995)",
           14
          ],
          [
           1226,
           "Night Falls on Manhattan (1997)",
           32
          ],
          [
           1227,
           "Awfully Big Adventure, An (1995)",
           8
          ],
          [
           1228,
           "Under Siege 2: Dark Territory (1995)",
           48
          ],
          [
           1229,
           "Poison Ivy II (1995)",
           13
          ],
          [
           1230,
           "Ready to Wear (Pret-A-Porter) (1994)",
           18
          ],
          [
           1231,
           "Marked for Death (1990)",
           22
          ],
          [
           1232,
           "Madonna: Truth or Dare (1991)",
           17
          ],
          [
           1233,
           "Nénette et Boni (1996)",
           6
          ],
          [
           1234,
           "Chairman of the Board (1998)",
           8
          ],
          [
           1235,
           "Big Bang Theory, The (1994)",
           1
          ],
          [
           1236,
           "Other Voices, Other Rooms (1997)",
           1
          ],
          [
           1237,
           "Twisted (1996)",
           6
          ],
          [
           1238,
           "Full Speed (1996)",
           8
          ],
          [
           1239,
           "Cutthroat Island (1995)",
           18
          ],
          [
           1240,
           "Ghost in the Shell (Kokaku kidotai) (1995)",
           26
          ],
          [
           1241,
           "Van, The (1996)",
           6
          ],
          [
           1242,
           "Old Lady Who Walked in the Sea, The (Vieille qui marchait dans la mer, La) (1991)",
           5
          ],
          [
           1243,
           "Night Flier (1997)",
           7
          ],
          [
           1244,
           "Metro (1997)",
           36
          ],
          [
           1245,
           "Gridlock'd (1997)",
           19
          ],
          [
           1246,
           "Bushwhacked (1995)",
           7
          ],
          [
           1247,
           "Bad Girls (1994)",
           6
          ],
          [
           1248,
           "Blink (1994)",
           19
          ],
          [
           1249,
           "For Love or Money (1993)",
           12
          ],
          [
           1250,
           "Best of the Best 3: No Turning Back (1995)",
           6
          ],
          [
           1251,
           "A Chef in Love (1996)",
           8
          ],
          [
           1252,
           "Contempt (Mépris, Le) (1963)",
           9
          ],
          [
           1253,
           "Tie That Binds, The (1995)",
           7
          ],
          [
           1254,
           "Gone Fishin' (1997)",
           11
          ],
          [
           1255,
           "Broken English (1996)",
           8
          ],
          [
           1256,
           "Designated Mourner, The (1997)",
           3
          ],
          [
           1257,
           "Designated Mourner, The (1997)",
           4
          ],
          [
           1258,
           "Trial and Error (1997)",
           23
          ],
          [
           1259,
           "Pie in the Sky (1995)",
           4
          ],
          [
           1260,
           "Total Eclipse (1995)",
           4
          ],
          [
           1261,
           "Run of the Country, The (1995)",
           4
          ],
          [
           1262,
           "Walking and Talking (1996)",
           8
          ],
          [
           1263,
           "Foxfire (1996)",
           15
          ],
          [
           1264,
           "Nothing to Lose (1994)",
           7
          ],
          [
           1265,
           "Star Maps (1997)",
           19
          ],
          [
           1266,
           "Bread and Chocolate (Pane e cioccolata) (1973)",
           12
          ],
          [
           1267,
           "Clockers (1995)",
           33
          ],
          [
           1268,
           "Bitter Moon (1992)",
           10
          ],
          [
           1269,
           "Love in the Afternoon (1957)",
           10
          ],
          [
           1270,
           "Life with Mikey (1993)",
           7
          ],
          [
           1271,
           "North (1994)",
           7
          ],
          [
           1272,
           "Talking About Sex (1994)",
           5
          ],
          [
           1273,
           "Color of Night (1994)",
           15
          ],
          [
           1274,
           "Robocop 3 (1993)",
           11
          ],
          [
           1275,
           "Killer (Bulletproof Heart) (1994)",
           4
          ],
          [
           1276,
           "Sunset Park (1996)",
           8
          ],
          [
           1277,
           "Set It Off (1996)",
           19
          ],
          [
           1278,
           "Selena (1997)",
           16
          ],
          [
           1279,
           "Wild America (1997)",
           9
          ],
          [
           1280,
           "Gang Related (1997)",
           16
          ],
          [
           1281,
           "Manny & Lo (1996)",
           13
          ],
          [
           1282,
           "Grass Harp, The (1995)",
           9
          ],
          [
           1283,
           "Out to Sea (1997)",
           19
          ],
          [
           1284,
           "Before and After (1996)",
           26
          ],
          [
           1285,
           "Princess Caraboo (1994)",
           15
          ],
          [
           1286,
           "Shall We Dance? (1937)",
           17
          ],
          [
           1287,
           "Ed (1996)",
           6
          ],
          [
           1288,
           "Denise Calls Up (1995)",
           7
          ],
          [
           1289,
           "Jack and Sarah (1995)",
           7
          ],
          [
           1290,
           "Country Life (1994)",
           2
          ],
          [
           1291,
           "Celtic Pride (1996)",
           15
          ],
          [
           1292,
           "Simple Wish, A (1997)",
           3
          ],
          [
           1293,
           "Star Kid (1997)",
           3
          ],
          [
           1294,
           "Ayn Rand: A Sense of Life (1997)",
           7
          ],
          [
           1295,
           "Kicked in the Head (1997)",
           7
          ],
          [
           1296,
           "Indian Summer (1996)",
           20
          ],
          [
           1297,
           "Love Affair (1994)",
           12
          ],
          [
           1298,
           "Band Wagon, The (1953)",
           9
          ],
          [
           1299,
           "Penny Serenade (1941)",
           8
          ],
          [
           1300,
           "'Til There Was You (1997)",
           9
          ],
          [
           1301,
           "Stripes (1981)",
           5
          ],
          [
           1302,
           "Late Bloomers (1996)",
           5
          ],
          [
           1303,
           "Getaway, The (1994)",
           18
          ],
          [
           1304,
           "New York Cop (1996)",
           2
          ],
          [
           1305,
           "National Lampoon's Senior Trip (1995)",
           7
          ],
          [
           1306,
           "Delta of Venus (1994)",
           2
          ],
          [
           1307,
           "Carmen Miranda: Bananas Is My Business (1994)",
           2
          ],
          [
           1308,
           "Babyfever (1994)",
           2
          ],
          [
           1309,
           "Very Natural Thing, A (1974)",
           1
          ],
          [
           1310,
           "Walk in the Sun, A (1945)",
           1
          ],
          [
           1311,
           "Waiting to Exhale (1995)",
           16
          ],
          [
           1312,
           "Pompatus of Love, The (1996)",
           7
          ],
          [
           1313,
           "Palmetto (1998)",
           14
          ],
          [
           1314,
           "Surviving the Game (1994)",
           11
          ],
          [
           1315,
           "Inventing the Abbotts (1997)",
           23
          ],
          [
           1316,
           "Horse Whisperer, The (1998)",
           7
          ],
          [
           1317,
           "Journey of August King, The (1995)",
           4
          ],
          [
           1318,
           "Catwalk (1995)",
           3
          ],
          [
           1319,
           "Neon Bible, The (1995)",
           4
          ],
          [
           1320,
           "Homage (1995)",
           1
          ],
          [
           1321,
           "Open Season (1996)",
           2
          ],
          [
           1322,
           "Metisse (Café au Lait) (1993)",
           6
          ],
          [
           1323,
           "Wooden Man's Bride, The (Wu Kui) (1994)",
           3
          ],
          [
           1324,
           "Loaded (1994)",
           5
          ],
          [
           1325,
           "August (1996)",
           1
          ],
          [
           1326,
           "Boys (1996)",
           6
          ],
          [
           1327,
           "Captives (1994)",
           3
          ],
          [
           1328,
           "Of Love and Shadows (1994)",
           6
          ],
          [
           1329,
           "Low Life, The (1994)",
           1
          ],
          [
           1330,
           "An Unforgettable Summer (1994)",
           4
          ],
          [
           1331,
           "Last Klezmer: Leopold Kozlowski, His Life and Music, The (1995)",
           4
          ],
          [
           1332,
           "My Life and Times With Antonin Artaud (En compagnie d'Antonin Artaud) (1993)",
           2
          ],
          [
           1333,
           "Midnight Dancers (Sibak) (1994)",
           5
          ],
          [
           1334,
           "Somebody to Love (1994)",
           2
          ],
          [
           1335,
           "American Buffalo (1996)",
           11
          ],
          [
           1336,
           "Kazaam (1996)",
           10
          ],
          [
           1337,
           "Larger Than Life (1996)",
           9
          ],
          [
           1338,
           "Two Deaths (1995)",
           4
          ],
          [
           1339,
           "Stefano Quantestorie (1993)",
           1
          ],
          [
           1340,
           "Crude Oasis, The (1995)",
           1
          ],
          [
           1341,
           "Hedd Wyn (1992)",
           1
          ],
          [
           1342,
           "Convent, The (Convento, O) (1995)",
           2
          ],
          [
           1343,
           "Lotto Land (1995)",
           1
          ],
          [
           1344,
           "Story of Xinghua, The (1993)",
           5
          ],
          [
           1345,
           "Day the Sun Turned Cold, The (Tianguo niezi) (1994)",
           2
          ],
          [
           1346,
           "Dingo (1992)",
           5
          ],
          [
           1347,
           "Ballad of Narayama, The (Narayama Bushiko) (1958)",
           4
          ],
          [
           1348,
           "Every Other Weekend (1990)",
           1
          ],
          [
           1349,
           "Mille bolle blu (1993)",
           1
          ],
          [
           1350,
           "Crows and Sparrows (1949)",
           2
          ],
          [
           1351,
           "Lover's Knot (1996)",
           3
          ],
          [
           1352,
           "Shadow of Angels (Schatten der Engel) (1976)",
           1
          ],
          [
           1353,
           "1-900 (1994)",
           5
          ],
          [
           1354,
           "Venice/Venice (1992)",
           2
          ],
          [
           1355,
           "Infinity (1996)",
           6
          ],
          [
           1356,
           "Ed's Next Move (1996)",
           3
          ],
          [
           1357,
           "For the Moment (1994)",
           3
          ],
          [
           1358,
           "The Deadly Cure (1996)",
           2
          ],
          [
           1359,
           "Boys in Venice (1996)",
           2
          ],
          [
           1360,
           "Sexual Life of the Belgians, The (1994)",
           2
          ],
          [
           1361,
           "Search for One-eye Jimmy, The (1996)",
           3
          ],
          [
           1362,
           "American Strays (1996)",
           2
          ],
          [
           1363,
           "Leopard Son, The (1996)",
           1
          ],
          [
           1364,
           "Bird of Prey (1996)",
           1
          ],
          [
           1365,
           "Johnny 100 Pesos (1993)",
           2
          ],
          [
           1366,
           "JLG/JLG - autoportrait de décembre (1994)",
           1
          ],
          [
           1367,
           "Faust (1994)",
           5
          ],
          [
           1368,
           "Mina Tannenbaum (1994)",
           6
          ],
          [
           1369,
           "Forbidden Christ, The (Cristo proibito, Il) (1950)",
           4
          ],
          [
           1370,
           "I Can't Sleep (J'ai pas sommeil) (1994)",
           3
          ],
          [
           1371,
           "Machine, The (1994)",
           2
          ],
          [
           1372,
           "Stranger, The (1994)",
           3
          ],
          [
           1373,
           "Good Morning (1971)",
           1
          ],
          [
           1374,
           "Falling in Love Again (1980)",
           2
          ],
          [
           1375,
           "Cement Garden, The (1993)",
           10
          ],
          [
           1376,
           "Meet Wally Sparks (1997)",
           7
          ],
          [
           1377,
           "Hotel de Love (1996)",
           4
          ],
          [
           1378,
           "Rhyme & Reason (1997)",
           5
          ],
          [
           1379,
           "Love and Other Catastrophes (1996)",
           7
          ],
          [
           1380,
           "Hollow Reed (1996)",
           6
          ],
          [
           1381,
           "Losing Chase (1996)",
           8
          ],
          [
           1382,
           "Bonheur, Le (1965)",
           4
          ],
          [
           1383,
           "Second Jungle Book: Mowgli & Baloo, The (1997)",
           6
          ],
          [
           1384,
           "Squeeze (1996)",
           3
          ],
          [
           1385,
           "Roseanna's Grave (For Roseanna) (1997)",
           5
          ],
          [
           1386,
           "Tetsuo II: Body Hammer (1992)",
           6
          ],
          [
           1387,
           "Fall (1997)",
           3
          ],
          [
           1388,
           "Gabbeh (1996)",
           6
          ],
          [
           1389,
           "Mondo (1996)",
           3
          ],
          [
           1390,
           "Innocent Sleep, The (1995)",
           2
          ],
          [
           1391,
           "For Ever Mozart (1996)",
           3
          ],
          [
           1392,
           "Locusts, The (1997)",
           5
          ],
          [
           1393,
           "Stag (1997)",
           9
          ],
          [
           1394,
           "Swept from the Sea (1997)",
           7
          ],
          [
           1395,
           "Hurricane Streets (1998)",
           6
          ],
          [
           1396,
           "Stonewall (1995)",
           5
          ],
          [
           1397,
           "Of Human Bondage (1934)",
           5
          ],
          [
           1398,
           "Anna (1996)",
           2
          ],
          [
           1399,
           "Stranger in the House (1997)",
           7
          ],
          [
           1400,
           "Picture Bride (1995)",
           10
          ],
          [
           1401,
           "M. Butterfly (1993)",
           18
          ],
          [
           1402,
           "Ciao, Professore! (1993)",
           4
          ],
          [
           1403,
           "Caro Diario (Dear Diary) (1994)",
           4
          ],
          [
           1404,
           "Withnail and I (1987)",
           13
          ],
          [
           1405,
           "Boy's Life 2 (1997)",
           6
          ],
          [
           1406,
           "When Night Is Falling (1995)",
           5
          ],
          [
           1407,
           "Specialist, The (1994)",
           20
          ],
          [
           1408,
           "Gordy (1995)",
           3
          ],
          [
           1409,
           "Swan Princess, The (1994)",
           7
          ],
          [
           1410,
           "Harlem (1993)",
           4
          ],
          [
           1411,
           "Barbarella (1968)",
           28
          ],
          [
           1412,
           "Land Before Time III: The Time of the Great Giving (1995) (V)",
           6
          ],
          [
           1413,
           "Street Fighter (1994)",
           8
          ],
          [
           1414,
           "Coldblooded (1995)",
           1
          ],
          [
           1415,
           "Next Karate Kid, The (1994)",
           9
          ],
          [
           1416,
           "No Escape (1994)",
           5
          ],
          [
           1417,
           "Turning, The (1992)",
           2
          ],
          [
           1418,
           "Joy Luck Club, The (1993)",
           3
          ],
          [
           1419,
           "Highlander III: The Sorcerer (1994)",
           16
          ],
          [
           1420,
           "Gilligan's Island: The Movie (1998)",
           3
          ],
          [
           1421,
           "My Crazy Life (Mi vida loca) (1993)",
           11
          ],
          [
           1422,
           "Suture (1993)",
           4
          ],
          [
           1423,
           "Walking Dead, The (1995)",
           4
          ],
          [
           1424,
           "I Like It Like That (1994)",
           3
          ],
          [
           1425,
           "I'll Do Anything (1994)",
           10
          ],
          [
           1426,
           "Grace of My Heart (1996)",
           8
          ],
          [
           1427,
           "Drunks (1995)",
           5
          ],
          [
           1428,
           "SubUrbia (1997)",
           12
          ],
          [
           1429,
           "Sliding Doors (1998)",
           4
          ],
          [
           1430,
           "Ill Gotten Gains (1997)",
           3
          ],
          [
           1431,
           "Legal Deceit (1997)",
           5
          ],
          [
           1432,
           "Mighty, The (1998)",
           3
          ],
          [
           1433,
           "Men of Means (1998)",
           2
          ],
          [
           1434,
           "Shooting Fish (1997)",
           10
          ],
          [
           1435,
           "Steal Big, Steal Little (1995)",
           7
          ],
          [
           1436,
           "Mr. Jones (1993)",
           2
          ],
          [
           1437,
           "House Party 3 (1994)",
           9
          ],
          [
           1438,
           "Panther (1995)",
           5
          ],
          [
           1439,
           "Jason's Lyric (1994)",
           8
          ],
          [
           1440,
           "Above the Rim (1994)",
           5
          ],
          [
           1441,
           "Moonlight and Valentino (1995)",
           7
          ],
          [
           1442,
           "Scarlet Letter, The (1995)",
           5
          ],
          [
           1443,
           "8 Seconds (1994)",
           4
          ],
          [
           1444,
           "That Darn Cat! (1965)",
           19
          ],
          [
           1445,
           "Ladybird Ladybird (1994)",
           4
          ],
          [
           1446,
           "Bye Bye, Love (1995)",
           15
          ],
          [
           1447,
           "Century (1993)",
           1
          ],
          [
           1448,
           "My Favorite Season (1993)",
           3
          ],
          [
           1449,
           "Pather Panchali (1955)",
           8
          ],
          [
           1450,
           "Golden Earrings (1947)",
           2
          ],
          [
           1451,
           "Foreign Correspondent (1940)",
           15
          ],
          [
           1452,
           "Lady of Burlesque (1943)",
           1
          ],
          [
           1453,
           "Angel on My Shoulder (1946)",
           1
          ],
          [
           1454,
           "Angel and the Badman (1947)",
           6
          ],
          [
           1455,
           "Outlaw, The (1943)",
           2
          ],
          [
           1456,
           "Beat the Devil (1954)",
           7
          ],
          [
           1457,
           "Love Is All There Is (1996)",
           1
          ],
          [
           1458,
           "Damsel in Distress, A (1937)",
           1
          ],
          [
           1459,
           "Madame Butterfly (1995)",
           7
          ],
          [
           1460,
           "Sleepover (1995)",
           1
          ],
          [
           1461,
           "Here Comes Cookie (1935)",
           1
          ],
          [
           1462,
           "Thieves (Voleurs, Les) (1996)",
           7
          ],
          [
           1463,
           "Boys, Les (1997)",
           3
          ],
          [
           1464,
           "Stars Fell on Henrietta, The (1995)",
           3
          ],
          [
           1465,
           "Last Summer in the Hamptons (1995)",
           3
          ],
          [
           1466,
           "Margaret's Museum (1995)",
           6
          ],
          [
           1467,
           "Saint of Fort Washington, The (1993)",
           2
          ],
          [
           1468,
           "Cure, The (1995)",
           6
          ],
          [
           1469,
           "Tom and Huck (1995)",
           12
          ],
          [
           1470,
           "Gumby: The Movie (1995)",
           5
          ],
          [
           1471,
           "Hideaway (1995)",
           9
          ],
          [
           1472,
           "Visitors, The (Visiteurs, Les) (1993)",
           2
          ],
          [
           1473,
           "Little Princess, The (1939)",
           9
          ],
          [
           1474,
           "Nina Takes a Lover (1994)",
           6
          ],
          [
           1475,
           "Bhaji on the Beach (1993)",
           8
          ],
          [
           1476,
           "Raw Deal (1948)",
           1
          ],
          [
           1477,
           "Nightwatch (1997)",
           2
          ],
          [
           1478,
           "Dead Presidents (1995)",
           18
          ],
          [
           1479,
           "Reckless (1995)",
           8
          ],
          [
           1480,
           "Herbie Rides Again (1974)",
           11
          ],
          [
           1481,
           "S.F.W. (1994)",
           2
          ],
          [
           1482,
           "Gate of Heavenly Peace, The (1995)",
           1
          ],
          [
           1483,
           "Man in the Iron Mask, The (1998)",
           12
          ],
          [
           1484,
           "Jerky Boys, The (1994)",
           3
          ],
          [
           1485,
           "Colonel Chabert, Le (1994)",
           4
          ],
          [
           1486,
           "Girl in the Cadillac (1995)",
           1
          ],
          [
           1487,
           "Even Cowgirls Get the Blues (1993)",
           5
          ],
          [
           1488,
           "Germinal (1993)",
           4
          ],
          [
           1489,
           "Chasers (1994)",
           5
          ],
          [
           1490,
           "Fausto (1993)",
           3
          ],
          [
           1491,
           "Tough and Deadly (1995)",
           2
          ],
          [
           1492,
           "Window to Paris (1994)",
           1
          ],
          [
           1493,
           "Modern Affair, A (1995)",
           1
          ],
          [
           1494,
           "Mostro, Il (1994)",
           1
          ],
          [
           1495,
           "Flirt (1995)",
           5
          ],
          [
           1496,
           "Carpool (1996)",
           5
          ],
          [
           1497,
           "Line King: Al Hirschfeld, The (1996)",
           2
          ],
          [
           1498,
           "Farmer & Chase (1995)",
           1
          ],
          [
           1499,
           "Grosse Fatigue (1994)",
           4
          ],
          [
           1500,
           "Santa with Muscles (1996)",
           2
          ],
          [
           1501,
           "Prisoner of the Mountains (Kavkazsky Plennik) (1996)",
           5
          ],
          [
           1502,
           "Naked in New York (1994)",
           2
          ],
          [
           1503,
           "Gold Diggers: The Secret of Bear Mountain (1995)",
           10
          ],
          [
           1504,
           "Bewegte Mann, Der (1994)",
           3
          ],
          [
           1505,
           "Killer: A Journal of Murder (1995)",
           1
          ],
          [
           1506,
           "Nelly & Monsieur Arnaud (1995)",
           3
          ],
          [
           1507,
           "Three Lives and Only One Death (1996)",
           1
          ],
          [
           1508,
           "Babysitter, The (1995)",
           3
          ],
          [
           1509,
           "Getting Even with Dad (1994)",
           5
          ],
          [
           1510,
           "Mad Dog Time (1996)",
           1
          ],
          [
           1511,
           "Children of the Revolution (1996)",
           5
          ],
          [
           1512,
           "World of Apu, The (Apur Sansar) (1959)",
           6
          ],
          [
           1513,
           "Sprung (1997)",
           3
          ],
          [
           1514,
           "Dream With the Fishes (1997)",
           7
          ],
          [
           1515,
           "Wings of Courage (1995)",
           1
          ],
          [
           1516,
           "Wedding Gift, The (1994)",
           3
          ],
          [
           1517,
           "Race the Sun (1996)",
           5
          ],
          [
           1518,
           "Losing Isaiah (1995)",
           12
          ],
          [
           1519,
           "New Jersey Drive (1995)",
           2
          ],
          [
           1520,
           "Fear, The (1995)",
           1
          ],
          [
           1521,
           "Mr. Wonderful (1993)",
           4
          ],
          [
           1522,
           "Trial by Jury (1994)",
           7
          ],
          [
           1523,
           "Good Man in Africa, A (1994)",
           2
          ],
          [
           1524,
           "Kaspar Hauser (1993)",
           8
          ],
          [
           1525,
           "Object of My Affection, The (1998)",
           1
          ],
          [
           1526,
           "Witness (1985)",
           1
          ],
          [
           1527,
           "Senseless (1998)",
           7
          ],
          [
           1528,
           "Nowhere (1997)",
           3
          ],
          [
           1529,
           "Underground (1995)",
           5
          ],
          [
           1530,
           "Jefferson in Paris (1995)",
           5
          ],
          [
           1531,
           "Far From Home: The Adventures of Yellow Dog (1995)",
           7
          ],
          [
           1532,
           "Foreign Student (1994)",
           2
          ],
          [
           1533,
           "I Don't Want to Talk About It (De eso no se habla) (1993)",
           1
          ],
          [
           1534,
           "Twin Town (1997)",
           6
          ],
          [
           1535,
           "Enfer, L' (1994)",
           4
          ],
          [
           1536,
           "Aiqing wansui (1994)",
           1
          ],
          [
           1537,
           "Cosi (1996)",
           4
          ],
          [
           1538,
           "All Over Me (1997)",
           3
          ],
          [
           1539,
           "Being Human (1993)",
           4
          ],
          [
           1540,
           "Amazing Panda Adventure, The (1995)",
           10
          ],
          [
           1541,
           "Beans of Egypt, Maine, The (1994)",
           2
          ],
          [
           1542,
           "Scarlet Letter, The (1926)",
           2
          ],
          [
           1543,
           "Johns (1996)",
           1
          ],
          [
           1544,
           "It Takes Two (1995)",
           3
          ],
          [
           1545,
           "Frankie Starlight (1995)",
           4
          ],
          [
           1546,
           "Shadows (Cienie) (1988)",
           1
          ],
          [
           1547,
           "Show, The (1995)",
           2
          ],
          [
           1548,
           "The Courtyard (1995)",
           1
          ],
          [
           1549,
           "Dream Man (1995)",
           2
          ],
          [
           1550,
           "Destiny Turns on the Radio (1995)",
           2
          ],
          [
           1551,
           "Glass Shield, The (1994)",
           2
          ],
          [
           1552,
           "Hunted, The (1995)",
           3
          ],
          [
           1553,
           "Underneath, The (1995)",
           4
          ],
          [
           1554,
           "Safe Passage (1994)",
           2
          ],
          [
           1555,
           "Secret Adventures of Tom Thumb, The (1993)",
           5
          ],
          [
           1556,
           "Condition Red (1995)",
           2
          ],
          [
           1557,
           "Yankee Zulu (1994)",
           1
          ],
          [
           1558,
           "Aparajito (1956)",
           7
          ],
          [
           1559,
           "Hostile Intentions (1994)",
           1
          ],
          [
           1560,
           "Clean Slate (Coup de Torchon) (1981)",
           4
          ],
          [
           1561,
           "Tigrero: A Film That Was Never Made (1994)",
           1
          ],
          [
           1562,
           "Eye of Vichy, The (Oeil de Vichy, L') (1993)",
           1
          ],
          [
           1563,
           "Promise, The (Versprechen, Das) (1994)",
           1
          ],
          [
           1564,
           "To Cross the Rubicon (1991)",
           1
          ],
          [
           1565,
           "Daens (1992)",
           1
          ],
          [
           1566,
           "Man from Down Under, The (1943)",
           1
          ],
          [
           1567,
           "Careful (1992)",
           1
          ],
          [
           1568,
           "Vermont Is For Lovers (1992)",
           1
          ],
          [
           1569,
           "Vie est belle, La (Life is Rosey) (1987)",
           1
          ],
          [
           1570,
           "Quartier Mozart (1992)",
           1
          ],
          [
           1571,
           "Touki Bouki (Journey of the Hyena) (1973)",
           1
          ],
          [
           1572,
           "Wend Kuuni (God's Gift) (1982)",
           1
          ],
          [
           1573,
           "Spirits of the Dead (Tre passi nel delirio) (1968)",
           2
          ],
          [
           1574,
           "Pharaoh's Army (1995)",
           1
          ],
          [
           1575,
           "I, Worst of All (Yo, la peor de todas) (1990)",
           1
          ],
          [
           1576,
           "Hungarian Fairy Tale, A (1987)",
           1
          ],
          [
           1577,
           "Death in the Garden (Mort en ce jardin, La) (1956)",
           1
          ],
          [
           1578,
           "Collectionneuse, La (1967)",
           2
          ],
          [
           1579,
           "Baton Rouge (1988)",
           1
          ],
          [
           1580,
           "Liebelei (1933)",
           1
          ],
          [
           1581,
           "Woman in Question, The (1950)",
           1
          ],
          [
           1582,
           "T-Men (1947)",
           1
          ],
          [
           1583,
           "Invitation, The (Zaproszenie) (1986)",
           1
          ],
          [
           1584,
           "Symphonie pastorale, La (1946)",
           1
          ],
          [
           1585,
           "American Dream (1990)",
           2
          ],
          [
           1586,
           "Lashou shentan (1992)",
           1
          ],
          [
           1587,
           "Terror in a Texas Town (1958)",
           1
          ],
          [
           1588,
           "Salut cousin! (1996)",
           2
          ],
          [
           1589,
           "Schizopolis (1996)",
           4
          ],
          [
           1590,
           "To Have, or Not (1995)",
           2
          ],
          [
           1591,
           "Duoluo tianshi (1995)",
           6
          ],
          [
           1592,
           "Magic Hour, The (1998)",
           5
          ],
          [
           1593,
           "Death in Brunswick (1991)",
           1
          ],
          [
           1594,
           "Everest (1998)",
           2
          ],
          [
           1595,
           "Shopping (1994)",
           1
          ],
          [
           1596,
           "Nemesis 2: Nebula (1995)",
           1
          ],
          [
           1597,
           "Romper Stomper (1992)",
           5
          ],
          [
           1598,
           "City of Industry (1997)",
           6
          ],
          [
           1599,
           "Someone Else's America (1995)",
           1
          ],
          [
           1600,
           "Guantanamera (1994)",
           4
          ],
          [
           1601,
           "Office Killer (1997)",
           1
          ],
          [
           1602,
           "Price Above Rubies, A (1998)",
           3
          ],
          [
           1603,
           "Angela (1995)",
           1
          ],
          [
           1604,
           "He Walked by Night (1948)",
           1
          ],
          [
           1605,
           "Love Serenade (1996)",
           4
          ],
          [
           1606,
           "Deceiver (1997)",
           1
          ],
          [
           1607,
           "Hurricane Streets (1998)",
           3
          ],
          [
           1608,
           "Buddy (1997)",
           4
          ],
          [
           1609,
           "B*A*P*S (1997)",
           3
          ],
          [
           1610,
           "Truth or Consequences, N.M. (1997)",
           3
          ],
          [
           1611,
           "Intimate Relations (1996)",
           2
          ],
          [
           1612,
           "Leading Man, The (1996)",
           4
          ],
          [
           1613,
           "Tokyo Fist (1995)",
           1
          ],
          [
           1614,
           "Reluctant Debutante, The (1958)",
           1
          ],
          [
           1615,
           "Warriors of Virtue (1997)",
           10
          ],
          [
           1616,
           "Desert Winds (1995)",
           1
          ],
          [
           1617,
           "Hugo Pool (1997)",
           2
          ],
          [
           1618,
           "King of New York (1990)",
           1
          ],
          [
           1619,
           "All Things Fair (1996)",
           1
          ],
          [
           1620,
           "Sixth Man, The (1997)",
           9
          ],
          [
           1621,
           "Butterfly Kiss (1995)",
           1
          ],
          [
           1622,
           "Paris, France (1993)",
           3
          ],
          [
           1623,
           "Cérémonie, La (1995)",
           3
          ],
          [
           1624,
           "Hush (1998)",
           1
          ],
          [
           1625,
           "Nightwatch (1997)",
           1
          ],
          [
           1626,
           "Nobody Loves Me (Keiner liebt mich) (1994)",
           1
          ],
          [
           1627,
           "Wife, The (1995)",
           1
          ],
          [
           1628,
           "Lamerica (1994)",
           4
          ],
          [
           1629,
           "Nico Icon (1995)",
           2
          ],
          [
           1630,
           "Silence of the Palace, The (Saimt el Qusur) (1994)",
           1
          ],
          [
           1631,
           "Slingshot, The (1993)",
           2
          ],
          [
           1632,
           "Land and Freedom (Tierra y libertad) (1995)",
           1
          ],
          [
           1633,
           "Á köldum klaka (Cold Fever) (1994)",
           1
          ],
          [
           1634,
           "Etz Hadomim Tafus (Under the Domin Tree) (1994)",
           1
          ],
          [
           1635,
           "Two Friends (1986) ",
           1
          ],
          [
           1636,
           "Brothers in Trouble (1995)",
           1
          ],
          [
           1637,
           "Girls Town (1996)",
           1
          ],
          [
           1638,
           "Normal Life (1996)",
           1
          ],
          [
           1639,
           "Bitter Sugar (Azucar Amargo) (1996)",
           3
          ],
          [
           1640,
           "Eighth Day, The (1996)",
           1
          ],
          [
           1641,
           "Dadetown (1995)",
           1
          ],
          [
           1642,
           "Some Mother's Son (1996)",
           2
          ],
          [
           1643,
           "Angel Baby (1995)",
           4
          ],
          [
           1644,
           "Sudden Manhattan (1996)",
           2
          ],
          [
           1645,
           "Butcher Boy, The (1998)",
           1
          ],
          [
           1646,
           "Men With Guns (1997)",
           2
          ],
          [
           1647,
           "Hana-bi (1997)",
           1
          ],
          [
           1648,
           "Niagara, Niagara (1997)",
           1
          ],
          [
           1649,
           "Big One, The (1997)",
           1
          ],
          [
           1650,
           "Butcher Boy, The (1998)",
           1
          ],
          [
           1651,
           "Spanish Prisoner, The (1997)",
           1
          ],
          [
           1652,
           "Temptress Moon (Feng Yue) (1996)",
           3
          ],
          [
           1653,
           "Entertaining Angels: The Dorothy Day Story (1996)",
           1
          ],
          [
           1654,
           "Chairman of the Board (1998)",
           1
          ],
          [
           1655,
           "Favor, The (1994)",
           1
          ],
          [
           1656,
           "Little City (1998)",
           2
          ],
          [
           1657,
           "Target (1995)",
           1
          ],
          [
           1658,
           "Substance of Fire, The (1996)",
           3
          ],
          [
           1659,
           "Getting Away With Murder (1996)",
           1
          ],
          [
           1660,
           "Small Faces (1995)",
           1
          ],
          [
           1661,
           "New Age, The (1994)",
           1
          ],
          [
           1662,
           "Rough Magic (1995)",
           2
          ],
          [
           1663,
           "Nothing Personal (1995)",
           1
          ],
          [
           1664,
           "8 Heads in a Duffel Bag (1997)",
           4
          ],
          [
           1665,
           "Brother's Kiss, A (1997)",
           1
          ],
          [
           1666,
           "Ripe (1996)",
           1
          ],
          [
           1667,
           "Next Step, The (1995)",
           1
          ],
          [
           1668,
           "Wedding Bell Blues (1996)",
           1
          ],
          [
           1669,
           "MURDER and murder (1996)",
           1
          ],
          [
           1670,
           "Tainted (1998)",
           1
          ],
          [
           1671,
           "Further Gesture, A (1996)",
           1
          ],
          [
           1672,
           "Kika (1993)",
           2
          ],
          [
           1673,
           "Mirage (1995)",
           1
          ],
          [
           1674,
           "Mamma Roma (1962)",
           1
          ],
          [
           1675,
           "Sunchaser, The (1996)",
           1
          ],
          [
           1676,
           "War at Home, The (1996)",
           1
          ],
          [
           1677,
           "Sweet Nothing (1995)",
           1
          ],
          [
           1678,
           "Mat' i syn (1997)",
           1
          ],
          [
           1679,
           "B. Monkey (1998)",
           1
          ],
          [
           1680,
           "Sliding Doors (1998)",
           1
          ],
          [
           1681,
           "You So Crazy (1994)",
           1
          ],
          [
           1682,
           "Scream of Stone (Schrei aus Stein) (1991)",
           1
          ]
         ],
         "hovertemplate": "tsne_1=%{x}<br>tsne_2=%{y}<br>item_id=%{customdata[0]}<br>title=%{customdata[1]}<br>popularity=%{marker.color}<extra></extra>",
         "legendgroup": "",
         "marker": {
          "color": [
           452,
           131,
           90,
           209,
           86,
           26,
           392,
           219,
           299,
           89,
           236,
           267,
           184,
           183,
           293,
           39,
           92,
           10,
           69,
           72,
           84,
           297,
           182,
           174,
           293,
           73,
           57,
           276,
           114,
           37,
           154,
           81,
           97,
           7,
           11,
           13,
           8,
           120,
           87,
           57,
           37,
           148,
           40,
           79,
           80,
           27,
           133,
           117,
           81,
           583,
           81,
           91,
           128,
           104,
           149,
           394,
           40,
           175,
           83,
           64,
           59,
           127,
           82,
           283,
           115,
           162,
           103,
           134,
           321,
           251,
           220,
           129,
           128,
           7,
           5,
           54,
           151,
           33,
           336,
           68,
           110,
           261,
           176,
           18,
           58,
           150,
           138,
           213,
           275,
           95,
           143,
           104,
           112,
           137,
           219,
           295,
           256,
           390,
           172,
           508,
           73,
           54,
           15,
           5,
           74,
           71,
           42,
           65,
           130,
           31,
           272,
           20,
           9,
           67,
           15,
           125,
           378,
           293,
           4,
           67,
           429,
           106,
           115,
           187,
           244,
           97,
           413,
           65,
           129,
           23,
           95,
           246,
           171,
           198,
           259,
           105,
           171,
           19,
           50,
           61,
           72,
           57,
           222,
           243,
           65,
           10,
           185,
           128,
           23,
           157,
           326,
           82,
           247,
           174,
           98,
           148,
           127,
           60,
           101,
           69,
           220,
           106,
           92,
           151,
           64,
           58,
           67,
           316,
           118,
           121,
           65,
           367,
           324,
           420,
           208,
           284,
           137,
           125,
           221,
           221,
           507,
           226,
           291,
           116,
           239,
           251,
           209,
           170,
           66,
           124,
           276,
           116,
           157,
           241,
           301,
           251,
           239,
           127,
           165,
           206,
           89,
           280,
           182,
           350,
           136,
           50,
           66,
           200,
           191,
           331,
           206,
           92,
           134,
           114,
           212,
           290,
           120,
           171,
           111,
           66,
           74,
           365,
           136,
           44,
           109,
           166,
           161,
           244,
           171,
           199,
           142,
           101,
           124,
           280,
           217,
           45,
           384,
           256,
           150,
           156,
           128,
           117,
           132,
           48,
           240,
           124,
           5,
           160,
           130,
           197,
           46,
           158,
           26,
           62,
           172,
           16,
           303,
           509,
           162,
           127,
           43,
           66,
           19,
           101,
           227,
           35,
           9,
           255,
           315,
           136,
           211,
           198,
           223,
           190,
           268,
           298,
           71,
           60,
           28,
           85,
           146,
           232,
           177,
           193,
           162,
           481,
           78,
           478,
           259,
           96,
           127,
           114,
           147,
           485,
           77,
           6,
           50,
           194,
           73,
           431,
           230,
           297,
           134,
           149,
           87,
           96,
           188,
           30,
           28,
           145,
           75,
           80,
           350,
           5,
           160,
           112,
           102,
           298,
           168,
           20,
           169,
           218,
           240,
           125,
           128,
           175,
           175,
           295,
           45,
           41,
           113,
           143,
           251,
           64,
           21,
           43,
           18,
           91,
           47,
           189,
           11,
           52,
           124,
           55,
           65,
           126,
           137,
           27,
           31,
           41,
           20,
           26,
           14,
           72,
           41,
           97,
           264,
           143,
           18,
           10,
           10,
           28,
           47,
           37,
           48,
           47,
           170,
           31,
           55,
           39,
           67,
           34,
           39,
           11,
           23,
           24,
           13,
           101,
           43,
           116,
           100,
           111,
           31,
           69,
           208,
           87,
           65,
           28,
           27,
           10,
           59,
           68,
           192,
           12,
           56,
           54,
           12,
           26,
           89,
           18,
           76,
           170,
           201,
           101,
           344,
           49,
           43,
           112,
           70,
           162,
           163,
           93,
           55,
           62,
           25,
           64,
           73,
           129,
           178,
           81,
           106,
           26,
           300,
           19,
           85,
           32,
           219,
           121,
           97,
           93,
           153,
           174,
           171,
           67,
           216,
           99,
           5,
           6,
           5,
           14,
           53,
           4,
           162,
           46,
           22,
           9,
           121,
           85,
           117,
           63,
           170,
           66,
           16,
           16,
           145,
           48,
           27,
           90,
           24,
           28,
           74,
           148,
           71,
           27,
           85,
           52,
           48,
           64,
           67,
           108,
           221,
           158,
           126,
           194,
           250,
           160,
           95,
           104,
           179,
           179,
           63,
           128,
           243,
           138,
           125,
           64,
           68,
           65,
           52,
           50,
           67,
           59,
           60,
           56,
           59,
           231,
           68,
           152,
           62,
           31,
           123,
           57,
           39,
           122,
           68,
           90,
           98,
           215,
           121,
           121,
           173,
           57,
           72,
           180,
           201,
           63,
           91,
           89,
           80,
           124,
           120,
           35,
           164,
           46,
           73,
           124,
           195,
           121,
           93,
           80,
           129,
           22,
           15,
           13,
           54,
           10,
           30,
           66,
           44,
           43,
           49,
           51,
           21,
           71,
           12,
           254,
           41,
           12,
           92,
           151,
           24,
           45,
           63,
           102,
           10,
           12,
           17,
           70,
           137,
           22,
           59,
           48,
           29,
           27,
           22,
           179,
           35,
           230,
           67,
           50,
           28,
           29,
           33,
           15,
           44,
           93,
           41,
           92,
           19,
           32,
           59,
           168,
           37,
           79,
           39,
           34,
           14,
           202,
           43,
           18,
           178,
           9,
           12,
           5,
           64,
           127,
           206,
           4,
           1,
           2,
           20,
           50,
           209,
           81,
           31,
           66,
           66,
           30,
           60,
           41,
           40,
           34,
           27,
           51,
           59,
           64,
           18,
           18,
           64,
           43,
           11,
           39,
           39,
           22,
           82,
           4,
           75,
           169,
           77,
           31,
           119,
           58,
           69,
           24,
           23,
           91,
           38,
           44,
           40,
           82,
           33,
           89,
           4,
           35,
           27,
           38,
           70,
           67,
           50,
           72,
           171,
           90,
           34,
           147,
           227,
           44,
           131,
           79,
           115,
           153,
           88,
           82,
           116,
           46,
           100,
           5,
           12,
           6,
           13,
           36,
           46,
           65,
           86,
           48,
           54,
           77,
           1,
           219,
           107,
           34,
           27,
           100,
           49,
           169,
           157,
           50,
           69,
           44,
           87,
           155,
           16,
           164,
           91,
           44,
           13,
           79,
           40,
           10,
           102,
           15,
           10,
           53,
           19,
           24,
           137,
           6,
           70,
           101,
           104,
           79,
           1,
           51,
           72,
           13,
           87,
           58,
           82,
           16,
           29,
           86,
           54,
           58,
           34,
           76,
           16,
           14,
           63,
           45,
           81,
           24,
           39,
           180,
           15,
           27,
           137,
           78,
           59,
           31,
           164,
           63,
           58,
           267,
           39,
           92,
           16,
           119,
           102,
           316,
           51,
           124,
           180,
           39,
           24,
           57,
           96,
           128,
           4,
           21,
           11,
           46,
           44,
           115,
           149,
           29,
           32,
           9,
           11,
           52,
           42,
           57,
           41,
           49,
           17,
           32,
           26,
           9,
           4,
           76,
           31,
           69,
           84,
           10,
           37,
           2,
           39,
           14,
           13,
           3,
           47,
           66,
           10,
           86,
           10,
           46,
           21,
           36,
           31,
           9,
           5,
           26,
           16,
           40,
           9,
           8,
           27,
           50,
           9,
           31,
           43,
           45,
           18,
           18,
           56,
           1,
           112,
           21,
           3,
           25,
           40,
           93,
           22,
           4,
           82,
           49,
           83,
           80,
           57,
           13,
           34,
           1,
           91,
           22,
           49,
           25,
           15,
           26,
           25,
           4,
           4,
           53,
           48,
           27,
           30,
           42,
           176,
           44,
           55,
           9,
           53,
           4,
           4,
           1,
           14,
           16,
           66,
           36,
           1,
           3,
           15,
           16,
           3,
           18,
           24,
           86,
           21,
           119,
           6,
           5,
           24,
           9,
           75,
           42,
           81,
           39,
           53,
           47,
           52,
           33,
           136,
           59,
           45,
           34,
           13,
           7,
           13,
           53,
           64,
           15,
           13,
           43,
           6,
           53,
           14,
           19,
           106,
           44,
           2,
           58,
           9,
           42,
           12,
           42,
           18,
           20,
           27,
           21,
           2,
           20,
           13,
           4,
           4,
           9,
           2,
           11,
           13,
           18,
           7,
           8,
           96,
           5,
           46,
           34,
           58,
           85,
           34,
           101,
           6,
           104,
           40,
           80,
           57,
           40,
           21,
           68,
           7,
           32,
           37,
           25,
           60,
           32,
           46,
           45,
           40,
           43,
           40,
           61,
           17,
           48,
           71,
           30,
           39,
           45,
           22,
           11,
           49,
           46,
           2,
           14,
           64,
           25,
           34,
           23,
           41,
           9,
           21,
           26,
           12,
           18,
           75,
           8,
           34,
           28,
           4,
           32,
           44,
           12,
           49,
           27,
           35,
           22,
           8,
           20,
           15,
           44,
           22,
           23,
           4,
           86,
           32,
           33,
           25,
           4,
           66,
           7,
           31,
           14,
           16,
           16,
           10,
           10,
           17,
           8,
           8,
           9,
           22,
           23,
           47,
           37,
           64,
           44,
           93,
           100,
           38,
           98,
           12,
           137,
           50,
           32,
           31,
           35,
           38,
           32,
           31,
           15,
           44,
           4,
           3,
           148,
           14,
           20,
           7,
           16,
           32,
           27,
           68,
           24,
           24,
           17,
           90,
           25,
           62,
           28,
           8,
           40,
           25,
           46,
           134,
           73,
           25,
           43,
           41,
           25,
           24,
           23,
           10,
           10,
           22,
           15,
           35,
           39,
           29,
           12,
           41,
           4,
           53,
           16,
           44,
           12,
           18,
           27,
           16,
           7,
           66,
           77,
           7,
           12,
           8,
           22,
           45,
           2,
           8,
           8,
           6,
           21,
           11,
           21,
           10,
           13,
           38,
           37,
           43,
           12,
           23,
           12,
           29,
           3,
           18,
           42,
           13,
           8,
           74,
           7,
           19,
           4,
           18,
           4,
           18,
           5,
           28,
           41,
           7,
           15,
           22,
           10,
           29,
           13,
           19,
           47,
           59,
           17,
           21,
           1,
           3,
           12,
           4,
           32,
           11,
           13,
           28,
           1,
           13,
           32,
           30,
           38,
           46,
           29,
           29,
           5,
           33,
           17,
           9,
           44,
           15,
           3,
           9,
           3,
           21,
           9,
           26,
           9,
           7,
           28,
           19,
           12,
           3,
           1,
           25,
           4,
           11,
           26,
           13,
           5,
           25,
           6,
           14,
           12,
           11,
           22,
           10,
           27,
           14,
           15,
           7,
           8,
           5,
           22,
           7,
           19,
           9,
           10,
           10,
           13,
           19,
           10,
           18,
           3,
           13,
           44,
           3,
           11,
           3,
           13,
           10,
           31,
           11,
           3,
           45,
           7,
           23,
           7,
           1,
           8,
           21,
           18,
           6,
           19,
           17,
           20,
           15,
           38,
           12,
           6,
           6,
           9,
           30,
           6,
           39,
           26,
           20,
           30,
           39,
           25,
           4,
           12,
           14,
           32,
           8,
           48,
           13,
           18,
           22,
           17,
           6,
           8,
           1,
           1,
           6,
           8,
           18,
           26,
           6,
           5,
           7,
           36,
           19,
           7,
           6,
           19,
           12,
           6,
           8,
           9,
           7,
           11,
           8,
           3,
           4,
           23,
           4,
           4,
           4,
           8,
           15,
           7,
           19,
           12,
           33,
           10,
           10,
           7,
           7,
           5,
           15,
           11,
           4,
           8,
           19,
           16,
           9,
           16,
           13,
           9,
           19,
           26,
           15,
           17,
           6,
           7,
           7,
           2,
           15,
           3,
           3,
           7,
           7,
           20,
           12,
           9,
           8,
           9,
           5,
           5,
           18,
           2,
           7,
           2,
           2,
           2,
           1,
           1,
           16,
           7,
           14,
           11,
           23,
           7,
           4,
           3,
           4,
           1,
           2,
           6,
           3,
           5,
           1,
           6,
           3,
           6,
           1,
           4,
           4,
           2,
           5,
           2,
           11,
           10,
           9,
           4,
           1,
           1,
           1,
           2,
           1,
           5,
           2,
           5,
           4,
           1,
           1,
           2,
           3,
           1,
           5,
           2,
           6,
           3,
           3,
           2,
           2,
           2,
           3,
           2,
           1,
           1,
           2,
           1,
           5,
           6,
           4,
           3,
           2,
           3,
           1,
           2,
           10,
           7,
           4,
           5,
           7,
           6,
           8,
           4,
           6,
           3,
           5,
           6,
           3,
           6,
           3,
           2,
           3,
           5,
           9,
           7,
           6,
           5,
           5,
           2,
           7,
           10,
           18,
           4,
           4,
           13,
           6,
           5,
           20,
           3,
           7,
           4,
           28,
           6,
           8,
           1,
           9,
           5,
           2,
           3,
           16,
           3,
           11,
           4,
           4,
           3,
           10,
           8,
           5,
           12,
           4,
           3,
           5,
           3,
           2,
           10,
           7,
           2,
           9,
           5,
           8,
           5,
           7,
           5,
           4,
           19,
           4,
           15,
           1,
           3,
           8,
           2,
           15,
           1,
           1,
           6,
           2,
           7,
           1,
           1,
           7,
           1,
           1,
           7,
           3,
           3,
           3,
           6,
           2,
           6,
           12,
           5,
           9,
           2,
           9,
           6,
           8,
           1,
           2,
           18,
           8,
           11,
           2,
           1,
           12,
           3,
           4,
           1,
           5,
           4,
           5,
           3,
           2,
           1,
           1,
           1,
           5,
           5,
           2,
           1,
           4,
           2,
           5,
           2,
           10,
           3,
           1,
           3,
           1,
           3,
           5,
           1,
           5,
           6,
           3,
           7,
           1,
           3,
           5,
           12,
           2,
           1,
           4,
           7,
           2,
           8,
           1,
           1,
           7,
           3,
           5,
           5,
           7,
           2,
           1,
           6,
           4,
           1,
           4,
           3,
           4,
           10,
           2,
           2,
           1,
           3,
           4,
           1,
           2,
           1,
           2,
           2,
           2,
           3,
           4,
           2,
           5,
           2,
           1,
           7,
           1,
           4,
           1,
           1,
           1,
           1,
           1,
           1,
           1,
           1,
           1,
           1,
           1,
           1,
           2,
           1,
           1,
           1,
           1,
           2,
           1,
           1,
           1,
           1,
           1,
           1,
           2,
           1,
           1,
           2,
           4,
           2,
           6,
           5,
           1,
           2,
           1,
           1,
           5,
           6,
           1,
           4,
           1,
           3,
           1,
           1,
           4,
           1,
           3,
           4,
           3,
           3,
           2,
           4,
           1,
           1,
           10,
           1,
           2,
           1,
           1,
           9,
           1,
           3,
           3,
           1,
           1,
           1,
           1,
           4,
           2,
           1,
           2,
           1,
           1,
           1,
           1,
           1,
           1,
           1,
           3,
           1,
           1,
           2,
           4,
           2,
           1,
           2,
           1,
           1,
           1,
           1,
           1,
           3,
           1,
           1,
           1,
           2,
           1,
           3,
           1,
           1,
           1,
           2,
           1,
           4,
           1,
           1,
           1,
           1,
           1,
           1,
           1,
           2,
           1,
           1,
           1,
           1,
           1,
           1,
           1,
           1,
           1,
           1
          ],
          "coloraxis": "coloraxis",
          "symbol": "circle"
         },
         "mode": "markers",
         "name": "",
         "showlegend": false,
         "type": "scattergl",
         "x": [
          4.765639305114746,
          6.931093215942383,
          1.2381579875946045,
          -2.801880359649658,
          6.882990837097168,
          -26.026124954223633,
          -3.30507230758667,
          -11.373522758483887,
          -31.457048416137695,
          -24.92191505432129,
          -0.8794252872467041,
          -4.5559563636779785,
          -19.42623519897461,
          -33.16929626464844,
          10.332137107849121,
          -10.190690040588379,
          3.2183837890625,
          -5.380743503570557,
          -26.876779556274414,
          -34.76070022583008,
          14.698464393615723,
          4.697661876678467,
          -31.856292724609375,
          4.459435939788818,
          10.223634719848633,
          -1.2687368392944336,
          -3.6059727668762207,
          5.131442546844482,
          16.00975799560547,
          -24.477508544921875,
          3.3373777866363525,
          -35.0095100402832,
          5.406291961669922,
          9.219080924987793,
          29.83722686767578,
          17.932157516479492,
          -7.273031711578369,
          10.551804542541504,
          -20.66904640197754,
          9.564140319824219,
          -0.8420535326004028,
          -14.343147277832031,
          -4.1451311111450195,
          -22.329814910888672,
          -26.20717430114746,
          -25.07754898071289,
          -18.556291580200195,
          -17.284896850585938,
          5.04354190826416,
          4.04775333404541,
          -3.086252450942993,
          -29.884017944335938,
          -14.659400939941406,
          4.179643154144287,
          -24.546764373779297,
          -14.637763977050781,
          -22.022470474243164,
          -13.353827476501465,
          -30.096166610717773,
          -25.757522583007812,
          -25.971050262451172,
          13.774337768554688,
          6.507143497467041,
          -5.087770938873291,
          -23.781572341918945,
          2.9909729957580566,
          3.098172426223755,
          1.9987215995788574,
          0.9610241055488586,
          -5.758460521697998,
          8.591242790222168,
          10.238720893859863,
          6.745143890380859,
          -0.8431572914123535,
          3.5999698638916016,
          -1.1713279485702515,
          4.971901893615723,
          13.128125190734863,
          4.355190753936768,
          2.0158348083496094,
          -13.679478645324707,
          6.039884567260742,
          -10.44798755645752,
          0.6865960955619812,
          7.164729595184326,
          -33.00045394897461,
          -6.194606781005859,
          2.7250587940216064,
          -37.577842712402344,
          6.400914192199707,
          -24.032188415527344,
          -20.557415008544922,
          -16.474422454833984,
          7.2603678703308105,
          2.4804344177246094,
          4.759822368621826,
          -6.3942742347717285,
          -10.707321166992188,
          -11.473182678222656,
          -33.76191711425781,
          15.85290813446045,
          7.53521203994751,
          30.058609008789062,
          29.61175537109375,
          14.785734176635742,
          8.40090274810791,
          -20.751394271850586,
          -9.01183795928955,
          -3.344081401824951,
          17.777484893798828,
          9.002117156982422,
          15.739739418029785,
          -27.073070526123047,
          -30.669719696044922,
          2.652636766433716,
          -29.442363739013672,
          15.221590042114258,
          13.16085147857666,
          -26.295185089111328,
          16.307857513427734,
          12.063361167907715,
          30.69855308532715,
          18.67122459411621,
          -34.604766845703125,
          6.826554298400879,
          -24.696224212646484,
          -35.18963623046875,
          -1.6808693408966064,
          -7.520767688751221,
          32.12838363647461,
          -30.574453353881836,
          -12.66282844543457,
          -11.180704116821289,
          -35.10486602783203,
          -37.66157150268555,
          -10.445634841918945,
          -29.247209548950195,
          14.550163269042969,
          7.345918655395508,
          0.6405888795852661,
          -7.573927879333496,
          7.322140693664551,
          1.3828734159469604,
          1.4301754236221313,
          11.499856948852539,
          -5.5268354415893555,
          1.0040760040283203,
          12.912516593933105,
          34.83492660522461,
          -31.898286819458008,
          -20.026918411254883,
          -11.22625732421875,
          -12.825582504272461,
          -16.291723251342773,
          10.24766731262207,
          -14.625625610351562,
          -15.006013870239258,
          13.299847602844238,
          8.95412826538086,
          -18.273420333862305,
          10.934286117553711,
          -17.520694732666016,
          -5.34099006652832,
          8.373641967773438,
          -30.51615333557129,
          -31.305696487426758,
          1.3716914653778076,
          -11.492812156677246,
          -29.637165069580078,
          -30.57755470275879,
          -34.37775421142578,
          4.119633197784424,
          3.4862494468688965,
          4.734111309051514,
          -16.451576232910156,
          2.1423962116241455,
          -13.581621170043945,
          -33.28169631958008,
          -33.91489791870117,
          -14.733658790588379,
          4.137976169586182,
          -13.901677131652832,
          2.1979215145111084,
          0.2815554738044739,
          -33.843963623046875,
          5.454228401184082,
          -35.47737121582031,
          -15.95544719696045,
          -27.87029266357422,
          -27.735597610473633,
          -36.208778381347656,
          -21.709980010986328,
          -11.800193786621094,
          -9.515438079833984,
          5.222421646118164,
          -15.7451171875,
          -31.28549575805664,
          -15.861959457397461,
          -11.897940635681152,
          -19.52130126953125,
          -19.43369483947754,
          2.648097515106201,
          -13.026591300964355,
          3.7841124534606934,
          -9.499665260314941,
          -19.73637580871582,
          -27.480392456054688,
          -10.373530387878418,
          -35.695743560791016,
          4.5539422035217285,
          -13.967071533203125,
          -24.658615112304688,
          -29.724145889282227,
          -3.8532979488372803,
          1.5605671405792236,
          -6.792001724243164,
          6.269110679626465,
          11.278664588928223,
          3.8191211223602295,
          6.991052150726318,
          -32.943519592285156,
          8.899577140808105,
          -14.528498649597168,
          -27.875244140625,
          8.785492897033691,
          14.265304565429688,
          8.266804695129395,
          7.382534027099609,
          -3.124603748321533,
          8.318095207214355,
          11.649380683898926,
          8.053038597106934,
          0.02005530148744583,
          -13.697510719299316,
          21.526714324951172,
          -23.252574920654297,
          10.271810531616211,
          -14.8856782913208,
          3.9647843837738037,
          30.257848739624023,
          9.345234870910645,
          -32.32213592529297,
          20.24262809753418,
          -20.872282028198242,
          20.307212829589844,
          -3.5340383052825928,
          22.35805320739746,
          -3.8463988304138184,
          4.250818252563477,
          24.153867721557617,
          -25.57122039794922,
          6.781834602355957,
          -25.24026870727539,
          11.53908920288086,
          9.769132614135742,
          -28.496238708496094,
          9.4256591796875,
          23.164915084838867,
          17.756093978881836,
          27.77579689025879,
          12.754608154296875,
          -34.447811126708984,
          28.470609664916992,
          23.399751663208008,
          4.169867992401123,
          -0.20201466977596283,
          10.550111770629883,
          -3.35495662689209,
          -28.453691482543945,
          14.124917030334473,
          23.306224822998047,
          -32.097232818603516,
          18.22859764099121,
          8.788949012756348,
          -31.526779174804688,
          -12.553770065307617,
          -17.888029098510742,
          9.019160270690918,
          -7.841777324676514,
          6.260890007019043,
          8.893560409545898,
          12.680665016174316,
          -23.946279525756836,
          19.55156898498535,
          -34.84371566772461,
          -29.342851638793945,
          -8.02231216430664,
          25.392362594604492,
          -11.35733699798584,
          -0.27770695090293884,
          21.209030151367188,
          -20.482501983642578,
          -0.6855162978172302,
          19.864177703857422,
          -2.2011325359344482,
          5.208564758300781,
          -27.2718563079834,
          18.150148391723633,
          -6.345034599304199,
          13.178696632385254,
          19.891069412231445,
          -32.297401428222656,
          -28.886995315551758,
          24.326671600341797,
          -26.552001953125,
          -23.869592666625977,
          23.0791015625,
          -22.755542755126953,
          19.544994354248047,
          21.252105712890625,
          -27.936941146850586,
          -9.9622220993042,
          22.35843276977539,
          24.594310760498047,
          -32.154441833496094,
          -32.21951675415039,
          -20.363056182861328,
          0.6692402958869934,
          -16.73945426940918,
          2.7162506580352783,
          -11.570048332214355,
          21.35565757751465,
          20.905088424682617,
          -15.817121505737305,
          28.781490325927734,
          21.51187515258789,
          25.53022575378418,
          21.32390594482422,
          22.750595092773438,
          -2.9411890506744385,
          26.685274124145508,
          25.320213317871094,
          21.772153854370117,
          -21.764122009277344,
          -2.8949289321899414,
          4.941669464111328,
          -7.751708507537842,
          12.306991577148438,
          -21.705425262451172,
          -26.834230422973633,
          -24.8774356842041,
          -0.5670127868652344,
          24.402986526489258,
          -22.910280227661133,
          -33.11162567138672,
          -29.313289642333984,
          -17.331697463989258,
          23.013303756713867,
          21.238677978515625,
          -25.285099029541016,
          21.51167106628418,
          12.050643920898438,
          18.102502822875977,
          10.616625785827637,
          36.89495849609375,
          1.4729673862457275,
          -36.150516510009766,
          22.87026596069336,
          -22.80504035949707,
          -20.32499885559082,
          -24.919668197631836,
          -5.509644985198975,
          7.602629661560059,
          2.0381393432617188,
          3.1119701862335205,
          0.7872725129127502,
          -17.934940338134766,
          14.555322647094727,
          3.9676172733306885,
          8.398451805114746,
          -23.41668701171875,
          -17.82103157043457,
          10.084052085876465,
          16.19993019104004,
          24.242023468017578,
          4.130974292755127,
          12.4143648147583,
          -5.6068291664123535,
          -0.3810219168663025,
          -0.21822167932987213,
          -25.232379913330078,
          -21.94065284729004,
          17.5440731048584,
          -0.5268436670303345,
          7.090329170227051,
          -0.548147976398468,
          -25.632091522216797,
          13.394885063171387,
          -0.150191992521286,
          -9.013771057128906,
          3.5014517307281494,
          5.741955757141113,
          1.414039969444275,
          7.662519931793213,
          10.563803672790527,
          -17.294225692749023,
          9.05377197265625,
          11.984419822692871,
          8.449246406555176,
          2.283698081970215,
          -2.973588705062866,
          1.7752015590667725,
          -0.7315853834152222,
          -12.658985137939453,
          14.390254974365234,
          4.705097675323486,
          5.83491849899292,
          -29.56344223022461,
          -8.675069808959961,
          2.924165964126587,
          14.453154563903809,
          33.390018463134766,
          18.098907470703125,
          -21.518033981323242,
          3.1891093254089355,
          -5.947224140167236,
          4.8070502281188965,
          0.9667883515357971,
          -7.495251655578613,
          -13.38804817199707,
          -0.7909244298934937,
          -5.084689617156982,
          -9.864714622497559,
          25.91472053527832,
          -17.493364334106445,
          4.6691365242004395,
          -33.276824951171875,
          -30.221349716186523,
          -9.230653762817383,
          -10.473189353942871,
          5.5877580642700195,
          -4.962584972381592,
          -14.620677947998047,
          -9.342673301696777,
          -9.3300142288208,
          5.587320327758789,
          28.37275505065918,
          27.62700653076172,
          28.77292251586914,
          25.16002082824707,
          17.553735733032227,
          24.557575225830078,
          -13.202771186828613,
          -13.461674690246582,
          -10.133173942565918,
          18.551389694213867,
          -14.512718200683594,
          -10.157851219177246,
          -9.725236892700195,
          17.008455276489258,
          2.131819725036621,
          6.571253299713135,
          13.151052474975586,
          10.67350959777832,
          -0.7550866603851318,
          19.21903419494629,
          24.51743507385254,
          -11.277463912963867,
          -19.970203399658203,
          -2.0035717487335205,
          -19.169193267822266,
          -23.556053161621094,
          -25.970359802246094,
          -28.915475845336914,
          -3.2566938400268555,
          -27.258190155029297,
          -4.868446350097656,
          -0.8269855380058289,
          -21.653501510620117,
          -2.6510777473449707,
          15.636110305786133,
          5.100308895111084,
          -17.774246215820312,
          -31.80540657043457,
          -15.986166954040527,
          -7.745925426483154,
          -16.12723731994629,
          -28.245861053466797,
          -37.5560302734375,
          -35.79176712036133,
          -30.543296813964844,
          -14.21595287322998,
          -32.82433319091797,
          -12.911431312561035,
          -20.065309524536133,
          -7.277728080749512,
          -22.49142074584961,
          -32.54572296142578,
          -25.378713607788086,
          -30.688751220703125,
          -12.141226768493652,
          -13.08212661743164,
          -30.394790649414062,
          -11.767962455749512,
          -7.987076282501221,
          -9.235957145690918,
          -12.83884048461914,
          -28.3259334564209,
          -25.72484588623047,
          -1.5494494438171387,
          -12.304555892944336,
          -5.748660087585449,
          -15.792000770568848,
          -24.831762313842773,
          -15.812102317810059,
          -13.183788299560547,
          -27.15202522277832,
          -12.408056259155273,
          -29.663358688354492,
          -9.476363182067871,
          -31.858356475830078,
          -27.514673233032227,
          -24.05592155456543,
          -26.2701473236084,
          -29.879241943359375,
          -18.754976272583008,
          -19.672161102294922,
          -19.827228546142578,
          -12.340392112731934,
          -9.311946868896484,
          -19.82710075378418,
          -31.17170524597168,
          -14.775518417358398,
          -21.10767364501953,
          -34.242122650146484,
          -7.815181732177734,
          -12.55728530883789,
          -31.165699005126953,
          -26.090736389160156,
          -10.468249320983887,
          -31.16866683959961,
          -10.888107299804688,
          -27.58136558532715,
          -23.141740798950195,
          9.739657402038574,
          -21.555925369262695,
          -13.916543006896973,
          26.87843132019043,
          21.824983596801758,
          2.35636568069458,
          9.348190307617188,
          13.383564949035645,
          -25.97208595275879,
          -17.264259338378906,
          20.81742286682129,
          12.522381782531738,
          -14.565528869628906,
          -9.524923324584961,
          -22.208459854125977,
          15.770419120788574,
          16.83002471923828,
          5.597094535827637,
          7.282013893127441,
          8.13510799407959,
          15.136075973510742,
          23.05890464782715,
          -19.665510177612305,
          -24.641803741455078,
          3.4193544387817383,
          5.0744452476501465,
          2.907407522201538,
          1.3989454507827759,
          16.724098205566406,
          24.96891975402832,
          -1.3815783262252808,
          4.46536922454834,
          10.30325698852539,
          7.076133728027344,
          2.0288684368133545,
          -0.029723981395363808,
          14.305561065673828,
          1.28151273727417,
          2.1680192947387695,
          16.781980514526367,
          11.37767505645752,
          3.6452181339263916,
          32.03818893432617,
          13.227291107177734,
          6.766850471496582,
          -22.817113876342773,
          -18.76995277404785,
          -35.147010803222656,
          -11.285964012145996,
          -16.311262130737305,
          3.4143855571746826,
          11.508934020996094,
          -16.298500061035156,
          2.5403759479522705,
          -32.753326416015625,
          24.552507400512695,
          9.974188804626465,
          -8.39187240600586,
          -15.416791915893555,
          33.809844970703125,
          15.726530075073242,
          8.887086868286133,
          14.246431350708008,
          -1.4635590314865112,
          24.54693031311035,
          -1.929344892501831,
          -10.12483024597168,
          -30.19548797607422,
          -35.903263092041016,
          -24.11131477355957,
          -15.369400024414062,
          -26.977983474731445,
          -15.842719078063965,
          -26.13335418701172,
          -6.353668212890625,
          -15.51436710357666,
          -27.86370277404785,
          -10.281331062316895,
          -20.3753604888916,
          -5.551910400390625,
          -31.763578414916992,
          -25.302276611328125,
          -10.05620288848877,
          -15.918014526367188,
          17.109201431274414,
          1.0462422370910645,
          -9.45876693725586,
          -5.893296241760254,
          4.593617916107178,
          -2.5389511585235596,
          4.015984535217285,
          -14.920647621154785,
          6.454005718231201,
          11.995150566101074,
          -3.7101199626922607,
          -0.6685637831687927,
          -27.081769943237305,
          -25.821361541748047,
          -30.567882537841797,
          -8.638703346252441,
          23.9435977935791,
          -5.412524700164795,
          -18.1846923828125,
          -25.6540470123291,
          -21.413969039916992,
          -17.816015243530273,
          -31.1793212890625,
          -23.246171951293945,
          -10.635624885559082,
          -31.74052619934082,
          -23.87168312072754,
          -14.763816833496094,
          -30.918006896972656,
          -20.41475486755371,
          -16.307151794433594,
          -21.14337158203125,
          -9.669548034667969,
          -18.595932006835938,
          -32.091182708740234,
          -33.14979553222656,
          -11.57899284362793,
          -31.670639038085938,
          -30.432607650756836,
          8.756712913513184,
          -15.348278999328613,
          -7.421440124511719,
          -28.507854461669922,
          -1.3165733814239502,
          -24.287946701049805,
          -14.667571067810059,
          5.857092380523682,
          21.0037784576416,
          8.64813232421875,
          -7.190098762512207,
          19.963109970092773,
          1.7480108737945557,
          -15.692652702331543,
          5.204436302185059,
          8.409778594970703,
          -3.476093053817749,
          -32.4618034362793,
          -8.701333999633789,
          53.26369857788086,
          18.736093521118164,
          -4.125356197357178,
          -0.23720645904541016,
          12.85410213470459,
          26.434438705444336,
          19.440582275390625,
          -9.2350492477417,
          8.959749221801758,
          -2.542734384536743,
          11.529275894165039,
          26.128435134887695,
          21.880033493041992,
          22.603519439697266,
          -27.090919494628906,
          3.1948838233947754,
          -13.58203411102295,
          -29.879404067993164,
          -9.523916244506836,
          6.566348552703857,
          -16.036502838134766,
          -7.845603942871094,
          -8.27772331237793,
          -4.847873210906982,
          -15.886707305908203,
          -9.484856605529785,
          0.7847034931182861,
          -3.382176160812378,
          -12.618931770324707,
          11.116964340209961,
          -17.20908546447754,
          -22.006256103515625,
          -30.814401626586914,
          0.5609577894210815,
          55.33858871459961,
          -7.9099836349487305,
          -9.811412811279297,
          -13.578071594238281,
          -18.926179885864258,
          -19.446256637573242,
          13.718987464904785,
          -26.975839614868164,
          -7.128192901611328,
          8.17994213104248,
          -3.627678394317627,
          -3.3061511516571045,
          -4.508016109466553,
          -7.606902122497559,
          -2.2113101482391357,
          0.8530188798904419,
          -4.462652683258057,
          9.194031715393066,
          2.9129745960235596,
          -16.037904739379883,
          7.976302146911621,
          3.584763288497925,
          -18.944990158081055,
          13.210625648498535,
          -0.4036097526550293,
          -16.21690559387207,
          -12.451309204101562,
          2.1592607498168945,
          1.968916893005371,
          -11.79964828491211,
          -12.5302734375,
          13.357688903808594,
          17.19880485534668,
          -9.867465019226074,
          -25.79494857788086,
          -3.858222246170044,
          -21.780635833740234,
          20.574222564697266,
          26.293468475341797,
          -27.49867820739746,
          14.73122501373291,
          -23.001380920410156,
          -24.93404197692871,
          -9.913164138793945,
          6.388640880584717,
          15.427958488464355,
          -5.606793403625488,
          19.863784790039062,
          21.522409439086914,
          5.475376605987549,
          7.7741217613220215,
          5.009957790374756,
          5.7890777587890625,
          -3.3157975673675537,
          0.7429594993591309,
          -10.283805847167969,
          -6.135932445526123,
          3.2477924823760986,
          14.19536304473877,
          -14.493209838867188,
          14.636584281921387,
          -18.15540313720703,
          -14.894710540771484,
          13.206204414367676,
          10.945124626159668,
          6.887386798858643,
          19.333642959594727,
          -9.260649681091309,
          2.6108622550964355,
          -0.7204720377922058,
          4.420186996459961,
          10.936851501464844,
          11.551165580749512,
          54.76921463012695,
          -6.399913787841797,
          -6.202953815460205,
          7.229115009307861,
          52.55247497558594,
          -26.3946475982666,
          4.006145477294922,
          22.93351936340332,
          -32.026878356933594,
          2.7145276069641113,
          3.279052734375,
          13.15208911895752,
          3.013021230697632,
          4.601613998413086,
          20.857891082763672,
          -18.51009178161621,
          8.527850151062012,
          1.7914029359817505,
          10.545947074890137,
          33.00034713745117,
          9.30648422241211,
          -23.777477264404297,
          -23.623605728149414,
          -3.3188095092773438,
          9.908853530883789,
          3.9811389446258545,
          1.5326099395751953,
          -25.099536895751953,
          7.815121173858643,
          -26.194042205810547,
          54.261962890625,
          9.469470024108887,
          20.342927932739258,
          10.477730751037598,
          -10.50214672088623,
          10.99084758758545,
          5.470297813415527,
          5.495559215545654,
          -14.080277442932129,
          20.900415420532227,
          -10.743306159973145,
          -0.7769267559051514,
          -1.086085319519043,
          13.219944953918457,
          12.948495864868164,
          12.460769653320312,
          25.079050064086914,
          19.03729820251465,
          -2.1431050300598145,
          13.71477222442627,
          28.954652786254883,
          -26.23305320739746,
          -13.857392311096191,
          -7.988064289093018,
          18.980266571044922,
          23.862598419189453,
          -1.3621554374694824,
          17.927101135253906,
          -5.585296154022217,
          -7.291452884674072,
          -17.29547691345215,
          -2.138564109802246,
          10.52970027923584,
          -19.080108642578125,
          -12.601058959960938,
          11.7052001953125,
          -21.60999870300293,
          -27.669105529785156,
          24.543054580688477,
          -14.825348854064941,
          -14.779748916625977,
          -21.716299057006836,
          -28.87020492553711,
          -8.202706336975098,
          27.340499877929688,
          -5.912472248077393,
          11.324679374694824,
          -11.177901268005371,
          21.534862518310547,
          -21.630773544311523,
          -0.9503228664398193,
          -24.19766616821289,
          11.781495094299316,
          -24.773889541625977,
          -30.775636672973633,
          14.021208763122559,
          4.18127965927124,
          16.670982360839844,
          3.192946434020996,
          24.78628158569336,
          -26.124679565429688,
          -3.757453680038452,
          17.37841033935547,
          25.440383911132812,
          26.909915924072266,
          17.68878173828125,
          7.0408477783203125,
          22.86604118347168,
          -21.208213806152344,
          -20.732736587524414,
          -23.167139053344727,
          24.05821990966797,
          -25.5748233795166,
          -26.707143783569336,
          -24.097774505615234,
          -27.692371368408203,
          14.643782615661621,
          27.19867706298828,
          10.906779289245605,
          25.93598747253418,
          26.498079299926758,
          25.975845336914062,
          -34.391456604003906,
          25.116769790649414,
          -28.228071212768555,
          -25.892736434936523,
          -23.955713272094727,
          22.391939163208008,
          -26.57314682006836,
          -20.11252212524414,
          -26.541906356811523,
          16.324474334716797,
          -19.32379722595215,
          17.11794090270996,
          28.722999572753906,
          -22.643596649169922,
          33.8621940612793,
          33.16242980957031,
          -19.909738540649414,
          23.79901123046875,
          26.076059341430664,
          -26.389331817626953,
          -14.535933494567871,
          -8.23955249786377,
          4.624406337738037,
          -27.54483413696289,
          -11.130692481994629,
          -23.79117774963379,
          -24.22354507446289,
          -29.911081314086914,
          3.849515199661255,
          12.201501846313477,
          14.60807991027832,
          27.946025848388672,
          10.065483093261719,
          -6.264760971069336,
          20.03769302368164,
          6.760468482971191,
          5.505231857299805,
          0.669959545135498,
          10.389971733093262,
          -17.48390769958496,
          -4.651008605957031,
          -19.989727020263672,
          26.781991958618164,
          12.043356895446777,
          20.023319244384766,
          11.711634635925293,
          -10.145731925964355,
          -21.15620994567871,
          10.492774963378906,
          -16.602266311645508,
          -0.8389759659767151,
          -29.980323791503906,
          20.177797317504883,
          -3.2741193771362305,
          -17.222440719604492,
          0.741523265838623,
          -13.490518569946289,
          -13.956345558166504,
          -11.996872901916504,
          -22.44091033935547,
          -19.390323638916016,
          -6.38361120223999,
          -26.46834373474121,
          -18.52672576904297,
          -19.745569229125977,
          -28.503965377807617,
          -15.92270565032959,
          -18.331470489501953,
          -14.401105880737305,
          -20.806346893310547,
          -2.3099470138549805,
          1.2100611925125122,
          -7.2024970054626465,
          -28.040136337280273,
          -15.114359855651855,
          -27.089229583740234,
          -26.825904846191406,
          -4.409164905548096,
          5.993114471435547,
          -8.04722785949707,
          22.645116806030273,
          11.392923355102539,
          -0.7980767488479614,
          -4.881097793579102,
          -11.526165008544922,
          13.543084144592285,
          22.349897384643555,
          8.953783988952637,
          21.33878517150879,
          4.642684459686279,
          19.36628532409668,
          23.246912002563477,
          20.164913177490234,
          -1.6489474773406982,
          -23.861347198486328,
          22.418195724487305,
          19.012754440307617,
          11.408207893371582,
          -9.415974617004395,
          -26.404130935668945,
          12.635174751281738,
          -5.1469244956970215,
          0.2552343010902405,
          6.5896148681640625,
          -1.0820012092590332,
          30.083946228027344,
          14.368433952331543,
          18.330543518066406,
          7.109795570373535,
          -22.802371978759766,
          -5.094772815704346,
          -8.611422538757324,
          -22.513282775878906,
          -19.086395263671875,
          -11.009786605834961,
          -13.136591911315918,
          -3.5093703269958496,
          24.36630630493164,
          5.035491466522217,
          4.804937839508057,
          13.352553367614746,
          -11.611525535583496,
          -4.442018032073975,
          -23.009763717651367,
          -12.839492797851562,
          -29.520851135253906,
          -5.3905348777771,
          20.09010887145996,
          -27.398244857788086,
          19.982027053833008,
          -21.46555519104004,
          30.731231689453125,
          15.674800872802734,
          17.702669143676758,
          16.455121994018555,
          7.128469467163086,
          10.396965026855469,
          14.647784233093262,
          18.533340454101562,
          7.623517990112305,
          15.871990203857422,
          30.943986892700195,
          -24.70494270324707,
          -13.058792114257812,
          14.167587280273438,
          5.263695240020752,
          -2.782536029815674,
          5.875547885894775,
          1.6029380559921265,
          -14.447855949401855,
          1.9549144506454468,
          14.413543701171875,
          -12.383926391601562,
          15.686610221862793,
          -6.242196559906006,
          5.896692752838135,
          19.52960968017578,
          5.228394508361816,
          21.560548782348633,
          6.767711639404297,
          -24.58134651184082,
          -8.18051815032959,
          -5.020927906036377,
          -1.546704888343811,
          -23.127817153930664,
          9.906378746032715,
          -27.178190231323242,
          -5.701869964599609,
          -13.211193084716797,
          -24.35448455810547,
          -7.2192535400390625,
          -5.267281532287598,
          -23.538280487060547,
          -18.124120712280273,
          -24.723682403564453,
          -17.6046142578125,
          5.397345542907715,
          -23.73158836364746,
          8.599329948425293,
          -3.4919373989105225,
          1.9970976114273071,
          -17.351022720336914,
          6.95084810256958,
          23.036439895629883,
          -23.735139846801758,
          -18.42112922668457,
          25.625080108642578,
          -0.8990192413330078,
          -21.802207946777344,
          -11.1415433883667,
          0.13485941290855408,
          26.498554229736328,
          24.74040985107422,
          23.296409606933594,
          15.017276763916016,
          -2.3119397163391113,
          12.557093620300293,
          -21.511255264282227,
          21.724950790405273,
          20.12713050842285,
          -9.536776542663574,
          -24.882495880126953,
          -23.75293731689453,
          -24.659046173095703,
          34.227783203125,
          -23.831321716308594,
          25.088354110717773,
          -28.46840476989746,
          23.36748504638672,
          20.642765045166016,
          -21.57966423034668,
          23.465646743774414,
          -25.79786491394043,
          -7.5375471115112305,
          -4.93796968460083,
          -22.87042236328125,
          -4.410824298858643,
          -10.292789459228516,
          -4.454208850860596,
          -22.256610870361328,
          -8.15645694732666,
          -8.604498863220215,
          -13.052672386169434,
          1.4152710437774658,
          0.6854413151741028,
          -21.08293342590332,
          -9.873284339904785,
          -11.71351146697998,
          -11.276196479797363,
          -24.912385940551758,
          -11.386484146118164,
          27.92508316040039,
          -15.08348274230957,
          -24.514219284057617,
          -11.603130340576172,
          -19.475419998168945,
          3.224916934967041,
          -3.5945334434509277,
          -16.786190032958984,
          1.2329758405685425,
          -4.0834503173828125,
          -24.511215209960938,
          -2.84417986869812,
          15.926519393920898,
          32.3370361328125,
          -16.679582595825195,
          -24.515121459960938,
          -28.835180282592773,
          -23.404560089111328,
          3.032864570617676,
          31.73586082458496,
          -23.32181167602539,
          -17.793235778808594,
          -29.042558670043945,
          -21.1925106048584,
          16.93617820739746,
          8.961762428283691,
          -22.46842384338379,
          -6.454299449920654,
          54.42671203613281,
          -8.253776550292969,
          -0.8236915469169617,
          -22.659347534179688,
          -28.235233306884766,
          -19.053565979003906,
          -20.23004913330078,
          15.347366333007812,
          15.252836227416992,
          18.8962459564209,
          17.468482971191406,
          -16.503847122192383,
          -11.735259056091309,
          -2.126382827758789,
          -28.529537200927734,
          -17.28386878967285,
          -19.35536766052246,
          -13.70443058013916,
          7.0695624351501465,
          -8.923576354980469,
          -23.507495880126953,
          -23.33455467224121,
          21.662424087524414,
          12.043817520141602,
          16.355989456176758,
          3.1291260719299316,
          15.270889282226562,
          10.06788158416748,
          14.265711784362793,
          -6.091886520385742,
          7.8979363441467285,
          -11.337235450744629,
          -13.351916313171387,
          0.34990808367729187,
          -4.740731716156006,
          12.544882774353027,
          -25.329113006591797,
          -15.210912704467773,
          -24.15059471130371,
          -26.42133903503418,
          -11.926448822021484,
          35.955745697021484,
          -20.625368118286133,
          -15.087090492248535,
          -3.624905586242676,
          -22.380807876586914,
          52.52117156982422,
          -29.030324935913086,
          -28.87712860107422,
          -12.104120254516602,
          3.1909923553466797,
          8.309192657470703,
          12.282393455505371,
          -13.338211059570312,
          11.76097297668457,
          4.204531669616699,
          -16.12767219543457,
          -8.339635848999023,
          -5.597779750823975,
          32.66099548339844,
          26.524946212768555,
          -6.695409297943115,
          8.316779136657715,
          -0.2387361377477646,
          1.4150850772857666,
          10.56297779083252,
          -4.953929901123047,
          -4.591897964477539,
          -13.031815528869629,
          0.7658277153968811,
          4.54125452041626,
          -26.322040557861328,
          -6.881499767303467,
          2.4460318088531494,
          16.895681381225586,
          15.257623672485352,
          8.163204193115234,
          32.3661003112793,
          35.97771072387695,
          -8.059552192687988,
          -22.314516067504883,
          55.738014221191406,
          -4.313385963439941,
          -3.62260365486145,
          13.595651626586914,
          -27.18956184387207,
          -20.00196075439453,
          3.579802989959717,
          24.884389877319336,
          6.874972343444824,
          -25.971588134765625,
          16.8505916595459,
          16.194704055786133,
          -20.5406551361084,
          6.150144100189209,
          27.84176254272461,
          -24.909469604492188,
          -22.049678802490234,
          9.90610408782959,
          32.03115463256836,
          33.78709411621094,
          34.11334228515625,
          22.086048126220703,
          -8.173848152160645,
          20.7136287689209,
          17.64794158935547,
          -22.039737701416016,
          -8.846307754516602,
          -27.464935302734375,
          -3.5074656009674072,
          -24.82967185974121,
          -25.053312301635742,
          -9.920387268066406,
          -17.510848999023438,
          3.0948233604431152,
          14.284881591796875,
          6.078616142272949,
          25.722702026367188,
          24.539663314819336,
          16.865093231201172,
          5.641916275024414,
          14.406927108764648,
          -9.684268951416016,
          -3.024962902069092,
          5.650886535644531,
          -6.491173267364502,
          33.89064407348633,
          -7.679256916046143,
          14.389379501342773,
          0.8439083099365234,
          2.849440097808838,
          -25.6451416015625,
          29.449249267578125,
          -15.430917739868164,
          18.284584045410156,
          55.6369514465332,
          -7.639120101928711,
          25.980907440185547,
          -25.91189193725586,
          21.840070724487305,
          2.585615634918213,
          -25.119958877563477,
          -4.112088203430176,
          -21.119115829467773,
          -17.543567657470703,
          13.31265926361084,
          6.369288921356201,
          -21.52281379699707,
          1.825866937637329,
          55.875858306884766,
          14.309455871582031,
          -5.270434379577637,
          19.5508975982666,
          30.42212677001953,
          55.56818771362305,
          -7.97023868560791,
          10.700060844421387,
          -5.113800048828125,
          -11.403945922851562,
          1.7992140054702759,
          11.64337158203125,
          -7.606151103973389,
          27.91931915283203,
          21.063318252563477,
          34.61317443847656,
          28.08659553527832,
          -1.4176490306854248,
          -2.31671142578125,
          0.08146592974662781,
          -0.3385309875011444,
          28.069677352905273,
          -21.288047790527344,
          22.69782829284668,
          -0.8150351643562317,
          53.76639938354492,
          -11.403976440429688,
          -22.20264434814453,
          20.280317306518555,
          -19.109331130981445,
          27.812530517578125,
          -2.6802337169647217,
          27.093406677246094,
          11.554741859436035,
          -0.7290312647819519,
          28.822046279907227,
          28.71046257019043,
          27.540441513061523,
          -25.532079696655273,
          28.953594207763672,
          -3.744624376296997,
          12.623684883117676,
          6.749038219451904,
          -4.1470513343811035,
          28.76176643371582,
          56.277286529541016,
          28.272794723510742,
          34.52427291870117,
          28.273380279541016,
          4.390632152557373,
          28.68108367919922,
          13.132111549377441,
          34.88654708862305,
          20.283845901489258,
          -22.96744728088379,
          28.054075241088867,
          20.649553298950195,
          -17.926515579223633,
          28.968238830566406,
          27.875022888183594,
          54.263671875,
          20.935632705688477,
          27.343088150024414,
          -28.99441146850586,
          -32.844093322753906,
          -12.113314628601074,
          0.25696495175361633,
          20.557157516479492,
          -23.47873306274414,
          28.125972747802734,
          28.381393432617188,
          -23.452367782592773,
          25.710491180419922,
          -0.012962733395397663,
          -15.600187301635742,
          -20.160198211669922,
          34.318275451660156,
          -9.763866424560547,
          -19.751657485961914,
          24.757081985473633,
          30.51523780822754,
          -22.059864044189453,
          32.263404846191406,
          24.257192611694336,
          -24.55522346496582,
          24.225278854370117,
          23.84507942199707,
          24.349071502685547,
          18.69486427307129,
          13.978772163391113,
          -21.958209991455078,
          -9.934075355529785,
          -23.352569580078125,
          -13.334057807922363,
          -14.385964393615723,
          22.699127197265625,
          -20.281347274780273,
          -8.484052658081055,
          20.208086013793945,
          35.75989532470703,
          -20.205753326416016,
          -32.8489990234375,
          -4.117759704589844,
          13.685623168945312,
          23.862804412841797,
          4.676900863647461,
          8.613116264343262,
          2.9913785457611084,
          21.064571380615234,
          -5.604626655578613,
          22.399991989135742,
          13.254960060119629,
          31.00139617919922,
          6.896454334259033,
          -18.926721572875977,
          2.824390172958374,
          21.291738510131836,
          -20.69438934326172,
          -6.363589763641357,
          10.252215385437012,
          -13.91413688659668,
          -10.328153610229492,
          -17.509159088134766,
          0.8961779475212097,
          -24.098403930664062,
          5.543625354766846,
          2.5080535411834717,
          -3.134605884552002,
          25.300771713256836,
          7.003688812255859,
          -19.703672409057617,
          5.117998123168945,
          33.03907012939453,
          5.925239562988281,
          -7.449305534362793,
          6.714624404907227,
          1.69903564453125,
          -4.41201639175415,
          6.631436824798584,
          4.906775951385498,
          -3.0878522396087646,
          -14.237393379211426,
          9.350715637207031,
          -11.011266708374023,
          56.100624084472656,
          -28.517372131347656,
          -10.898409843444824,
          -11.819704055786133,
          -12.058324813842773,
          56.80705642700195,
          -0.38972094655036926,
          2.12744402885437,
          -13.60783863067627,
          -10.751409530639648,
          -12.099506378173828,
          -16.208648681640625,
          55.698760986328125,
          11.518444061279297,
          -20.144325256347656,
          22.39624786376953,
          -5.483768939971924,
          -9.935593605041504,
          -28.24566078186035,
          -29.51692008972168,
          -1.9632893800735474,
          1.6878752708435059,
          14.646261215209961,
          18.40825080871582,
          54.263240814208984,
          -11.982316970825195,
          -5.79531717300415,
          -20.11417007446289,
          56.438785552978516,
          24.136611938476562,
          -2.988632917404175,
          2.3073618412017822,
          14.017444610595703,
          15.275890350341797,
          6.039791584014893,
          -2.1060307025909424,
          -5.747006416320801,
          -11.958647727966309,
          24.659311294555664,
          21.081680297851562,
          -19.352094650268555,
          8.398187637329102,
          -1.0077494382858276,
          55.29751205444336,
          -1.7291760444641113,
          55.693138122558594,
          26.128074645996094,
          -1.9453222751617432,
          16.92169952392578,
          22.830904006958008,
          -1.3604894876480103,
          -25.502971649169922,
          -27.82063865661621,
          33.73831558227539,
          24.571475982666016,
          -2.4175899028778076,
          -3.701918125152588,
          53.96298599243164,
          -23.737255096435547,
          -8.443305015563965,
          15.133769989013672,
          18.107563018798828,
          11.678837776184082,
          -20.91033935546875,
          -28.77462387084961,
          20.354873657226562,
          -9.187545776367188,
          -14.306464195251465,
          -4.079899311065674,
          14.144745826721191,
          7.113760948181152,
          7.506803512573242,
          17.05453872680664,
          -9.945091247558594,
          3.871447801589966,
          -9.478235244750977,
          -27.62400245666504,
          -25.5577392578125,
          56.473976135253906,
          26.54494285583496,
          -6.314523696899414,
          -9.013116836547852,
          22.22612190246582,
          -20.37919807434082,
          33.167205810546875,
          -22.884544372558594,
          20.316104888916016,
          -22.37146759033203,
          -25.154438018798828,
          -25.409387588500977,
          24.87611961364746,
          18.651559829711914,
          9.6444091796875,
          -27.38090705871582,
          0.3153938353061676,
          57.076683044433594,
          5.901040077209473,
          2.331944227218628,
          30.492273330688477,
          56.939449310302734,
          26.992328643798828,
          27.17361068725586,
          33.519447326660156,
          54.859867095947266,
          6.383026123046875,
          -5.618046283721924,
          33.459251403808594,
          -17.573869705200195,
          0.15009191632270813,
          30.49283790588379,
          -19.135440826416016,
          30.84796714782715,
          -22.596174240112305,
          30.853492736816406,
          27.786630630493164,
          30.414819717407227,
          55.42926025390625,
          27.264659881591797,
          56.7200927734375,
          55.457611083984375,
          27.691463470458984,
          27.228899002075195,
          56.898677825927734,
          27.625423431396484,
          30.91576385498047,
          29.911691665649414,
          27.074813842773438,
          30.109209060668945,
          30.311899185180664,
          29.871021270751953,
          35.479000091552734,
          30.064455032348633,
          27.515058517456055,
          57.20045852661133,
          31.27455711364746,
          57.234806060791016,
          53.86201858520508,
          35.395259857177734,
          31.049131393432617,
          30.88329315185547,
          23.881031036376953,
          -20.619176864624023,
          24.878387451171875,
          -23.193584442138672,
          -27.390520095825195,
          55.073997497558594,
          -3.5424256324768066,
          53.26111602783203,
          22.23446273803711,
          -15.321340560913086,
          24.057355880737305,
          -22.940196990966797,
          -4.728363037109375,
          19.76540756225586,
          -21.497468948364258,
          54.394775390625,
          -19.451387405395508,
          -1.9000571966171265,
          23.394468307495117,
          -19.181049346923828,
          24.172819137573242,
          25.761188507080078,
          19.184968948364258,
          -9.70983600616455,
          -29.813194274902344,
          24.801904678344727,
          55.5821647644043,
          22.38851547241211,
          54.00354766845703,
          -23.25077247619629,
          55.0643310546875,
          1.3443619012832642,
          12.382281303405762,
          25.95825958251953,
          2.7602810859680176,
          -20.630990982055664,
          23.51263427734375,
          25.05208396911621,
          24.698503494262695,
          -0.02210552804172039,
          -5.102973937988281,
          -26.999874114990234,
          34.98722839355469,
          -6.15709114074707,
          35.27836990356445,
          34.65220642089844,
          33.22690200805664,
          34.99097442626953,
          54.172142028808594,
          34.760616302490234,
          55.155208587646484,
          36.1402587890625,
          34.76444625854492,
          54.821197509765625,
          -18.429784774780273,
          -8.789783477783203,
          56.2997932434082,
          54.359954833984375,
          -28.04971694946289,
          34.60588836669922,
          56.65372848510742,
          35.03901672363281,
          53.13291549682617,
          55.45157241821289,
          -6.222982883453369,
          54.01095962524414,
          53.98284912109375,
          55.00300598144531,
          23.729331970214844,
          14.683063507080078,
          -7.031032085418701,
          24.876373291015625,
          23.38390350341797,
          24.860946655273438,
          25.805288314819336,
          24.57525634765625,
          24.22628402709961,
          52.96079635620117,
          23.900962829589844,
          23.797508239746094,
          23.94069480895996,
          24.48647689819336,
          23.80919075012207,
          25.3167781829834,
          -4.863801002502441,
          20.182588577270508,
          -10.606343269348145,
          53.58568572998047,
          17.401927947998047,
          -9.090723037719727,
          25.473981857299805,
          25.13302230834961,
          23.506010055541992,
          -2.100325584411621,
          -9.132107734680176
         ],
         "xaxis": "x",
         "y": [
          19.78362464904785,
          10.383122444152832,
          -2.8370132446289062,
          18.17982292175293,
          16.066001892089844,
          12.67830753326416,
          22.48487663269043,
          8.427054405212402,
          -5.335758686065674,
          6.586493968963623,
          17.553485870361328,
          20.202098846435547,
          -13.853564262390137,
          4.496102333068848,
          12.507975578308105,
          -12.083850860595703,
          6.016976356506348,
          -11.991219520568848,
          17.130069732666016,
          3.9152514934539795,
          3.264478921890259,
          17.790794372558594,
          -0.1856050342321396,
          7.026113033294678,
          5.626034736633301,
          11.821783065795898,
          1.809090495109558,
          14.943517684936523,
          5.31144905090332,
          2.8379576206207275,
          11.894201278686523,
          0.5709118843078613,
          8.463809967041016,
          -2.1403098106384277,
          -18.072282791137695,
          -11.523985862731934,
          -4.12522554397583,
          -5.311147212982178,
          13.825331687927246,
          -6.68913459777832,
          -16.579191207885742,
          13.478649139404297,
          3.2327520847320557,
          -2.9074227809906006,
          12.51589298248291,
          -6.987695693969727,
          -11.065621376037598,
          11.66952896118164,
          2.7093424797058105,
          22.055511474609375,
          7.033071517944336,
          12.201741218566895,
          -6.743777751922607,
          12.13711929321289,
          15.026750564575195,
          14.9561767578125,
          10.354060173034668,
          11.448079109191895,
          4.200577735900879,
          8.84670639038086,
          9.294112205505371,
          7.676931381225586,
          -6.510482311248779,
          17.955047607421875,
          0.8627349138259888,
          15.11086368560791,
          4.928310394287109,
          9.880447387695312,
          19.399208068847656,
          13.775809288024902,
          15.176830291748047,
          16.231237411499023,
          18.01889419555664,
          -9.667187690734863,
          9.154080390930176,
          11.708240509033203,
          16.850656509399414,
          -12.361221313476562,
          18.032861709594727,
          -7.459279537200928,
          -4.626643180847168,
          16.264915466308594,
          13.932971954345703,
          -15.512697219848633,
          9.080060005187988,
          2.5736331939697266,
          17.09778594970703,
          15.014691352844238,
          8.677361488342285,
          6.911062240600586,
          23.07953643798828,
          -7.422814846038818,
          16.948043823242188,
          12.25062084197998,
          18.009817123413086,
          20.04541015625,
          8.74872875213623,
          10.489937782287598,
          5.191596508026123,
          9.998533248901367,
          9.225218772888184,
          -3.927549362182617,
          -17.017351150512695,
          -14.737391471862793,
          1.7785370349884033,
          -21.624488830566406,
          0.34545743465423584,
          -3.479900598526001,
          10.841431617736816,
          -15.444504737854004,
          7.497920513153076,
          -11.767724990844727,
          15.367496490478516,
          12.570138931274414,
          -7.446933746337891,
          18.554689407348633,
          11.601363182067871,
          12.865653991699219,
          4.784914016723633,
          -8.143486976623535,
          11.12289810180664,
          -3.9240894317626953,
          8.965286254882812,
          2.671497344970703,
          13.261940002441406,
          17.572982788085938,
          11.818648338317871,
          20.354511260986328,
          11.449796676635742,
          -8.7205171585083,
          -2.8054232597351074,
          6.046619415283203,
          6.021254539489746,
          11.674371719360352,
          8.433455467224121,
          5.534926414489746,
          -5.444056034088135,
          -3.05517315864563,
          11.612607955932617,
          8.238192558288574,
          7.522220611572266,
          -4.214268684387207,
          14.51938533782959,
          21.448270797729492,
          -4.7685112953186035,
          -9.379555702209473,
          9.46268081665039,
          5.081113338470459,
          -2.1837754249572754,
          3.7220335006713867,
          -11.694290161132812,
          -3.3823416233062744,
          9.167621612548828,
          -8.158517837524414,
          -0.33003875613212585,
          13.58252239227295,
          11.250765800476074,
          -16.574369430541992,
          2.292107105255127,
          16.27210235595703,
          10.42102336883545,
          0.17406536638736725,
          10.173721313476562,
          17.878372192382812,
          16.21364974975586,
          8.899079322814941,
          -6.133212566375732,
          12.728455543518066,
          13.713018417358398,
          9.091811180114746,
          1.7420666217803955,
          21.587141036987305,
          20.797195434570312,
          21.225536346435547,
          16.971418380737305,
          22.2772159576416,
          8.992222785949707,
          9.818371772766113,
          -5.123343467712402,
          13.929150581359863,
          21.87560272216797,
          15.155372619628906,
          22.407541275024414,
          11.006736755371094,
          -5.440680503845215,
          19.49028968811035,
          11.904195785522461,
          11.696720123291016,
          14.395800590515137,
          3.30764102935791,
          12.562317848205566,
          -9.17868423461914,
          10.711772918701172,
          8.328022956848145,
          21.449363708496094,
          10.40827465057373,
          -5.054383754730225,
          11.667765617370605,
          7.354891777038574,
          -8.795272827148438,
          -8.757200241088867,
          19.187938690185547,
          13.076454162597656,
          19.728187561035156,
          10.862543106079102,
          0.05475400388240814,
          8.706371307373047,
          5.1624603271484375,
          7.857773303985596,
          19.64801597595215,
          7.752201557159424,
          -6.57533073425293,
          -8.117542266845703,
          -7.11090612411499,
          15.023856163024902,
          16.169273376464844,
          6.438762187957764,
          14.081622123718262,
          5.234382629394531,
          1.5029542446136475,
          3.656625270843506,
          19.62998390197754,
          11.016246795654297,
          13.122954368591309,
          -14.571025848388672,
          10.057767868041992,
          20.377025604248047,
          20.963525772094727,
          8.217588424682617,
          20.228958129882812,
          -14.741286277770996,
          9.866827011108398,
          9.359660148620605,
          6.686352729797363,
          -2.6668989658355713,
          16.310365676879883,
          12.919116020202637,
          15.393169403076172,
          13.272472381591797,
          -3.172184467315674,
          11.36262035369873,
          13.458444595336914,
          -0.35052812099456787,
          20.99863052368164,
          8.104917526245117,
          19.77583885192871,
          -20.232807159423828,
          14.987719535827637,
          6.749366760253906,
          8.929638862609863,
          15.524700164794922,
          13.04031753540039,
          16.700979232788086,
          -10.870482444763184,
          9.743257522583008,
          0.31158870458602905,
          13.341772079467773,
          11.984807014465332,
          5.550919532775879,
          2.945918321609497,
          -4.616271495819092,
          0.9140542149543762,
          -17.344554901123047,
          3.503124713897705,
          18.1843204498291,
          1.8519054651260376,
          15.388132095336914,
          20.008630752563477,
          21.00057029724121,
          16.299747467041016,
          6.8099188804626465,
          20.53373146057129,
          15.404898643493652,
          13.249248504638672,
          15.545955657958984,
          20.867412567138672,
          -0.8551439642906189,
          6.583441257476807,
          5.474091529846191,
          13.99337387084961,
          4.610384464263916,
          10.271533966064453,
          -2.798133134841919,
          11.124959945678711,
          5.281954288482666,
          18.629798889160156,
          18.697702407836914,
          10.437673568725586,
          17.133033752441406,
          -11.605790138244629,
          9.052084922790527,
          4.156044960021973,
          10.749942779541016,
          6.536407470703125,
          -18.328378677368164,
          2.7436611652374268,
          15.291706085205078,
          15.442917823791504,
          -14.11907958984375,
          12.9080171585083,
          11.054243087768555,
          18.564008712768555,
          9.62803840637207,
          4.6464409828186035,
          22.544185638427734,
          6.933051109313965,
          7.750061988830566,
          19.267717361450195,
          4.102338790893555,
          9.545920372009277,
          17.793746948242188,
          16.86095428466797,
          12.412614822387695,
          -19.062347412109375,
          20.57575035095215,
          20.563241958618164,
          10.969696044921875,
          19.474000930786133,
          -1.113944411277771,
          7.47114372253418,
          -11.300727844238281,
          4.767496109008789,
          4.123429775238037,
          18.47578239440918,
          1.6955726146697998,
          5.834126949310303,
          6.847023010253906,
          7.694704532623291,
          5.650506496429443,
          0.7559497356414795,
          7.1664276123046875,
          5.123726844787598,
          7.927088260650635,
          15.528877258300781,
          22.139976501464844,
          -13.702893257141113,
          0.5876027941703796,
          1.331615924835205,
          20.08111572265625,
          22.99789047241211,
          20.106456756591797,
          -5.726825714111328,
          6.931682109832764,
          21.151866912841797,
          5.507089138031006,
          19.512100219726562,
          7.82053804397583,
          6.004614353179932,
          3.6919727325439453,
          20.965038299560547,
          1.9933013916015625,
          -18.84897804260254,
          -7.354772567749023,
          15.291094779968262,
          -1.6597763299942017,
          15.072553634643555,
          12.505873680114746,
          2.102081298828125,
          14.44251537322998,
          18.113811492919922,
          13.337491035461426,
          -5.868040084838867,
          -10.402885437011719,
          -1.646077275276184,
          -8.087244987487793,
          4.881035327911377,
          8.87895393371582,
          -11.072351455688477,
          -0.20725342631340027,
          -21.63004493713379,
          -5.404714584350586,
          15.634087562561035,
          -10.484735488891602,
          4.836921215057373,
          -17.29645538330078,
          -13.735029220581055,
          -3.4537696838378906,
          7.180085182189941,
          -0.8246163725852966,
          5.788983345031738,
          1.9660377502441406,
          14.326695442199707,
          -9.423526763916016,
          -7.414072513580322,
          17.020687103271484,
          -7.470802307128906,
          -0.4483789801597595,
          -14.911114692687988,
          8.381915092468262,
          -11.88010025024414,
          -11.20978832244873,
          -4.1938796043396,
          12.418001174926758,
          -1.4262645244598389,
          -10.204736709594727,
          -9.626452445983887,
          -11.077168464660645,
          -6.380085468292236,
          19.952085494995117,
          -18.791259765625,
          -11.680733680725098,
          13.63210391998291,
          17.614585876464844,
          9.50258731842041,
          11.591795921325684,
          -11.655709266662598,
          -18.400129318237305,
          13.798665046691895,
          -19.91785430908203,
          6.069125175476074,
          4.689656734466553,
          -7.651966571807861,
          6.425058364868164,
          -11.511575698852539,
          -6.580183506011963,
          7.282580852508545,
          -6.670903205871582,
          6.254891395568848,
          5.820286750793457,
          5.8873748779296875,
          14.048526763916016,
          -7.982405662536621,
          9.005894660949707,
          -14.055177688598633,
          16.204124450683594,
          0.3177345097064972,
          8.172700881958008,
          2.2607719898223877,
          4.374626636505127,
          7.324352741241455,
          10.823099136352539,
          21.383241653442383,
          16.945276260375977,
          4.053162574768066,
          11.56467056274414,
          4.7077131271362305,
          -18.774856567382812,
          -17.749813079833984,
          -19.03383445739746,
          -15.186210632324219,
          1.0647791624069214,
          -15.948212623596191,
          4.562690734863281,
          -11.930669784545898,
          4.4734954833984375,
          1.8398895263671875,
          -8.108072280883789,
          -5.176028728485107,
          -2.2914679050445557,
          -18.95305061340332,
          -5.035891532897949,
          -11.436893463134766,
          -11.21257209777832,
          -0.3540622591972351,
          -4.3155012130737305,
          -3.3308186531066895,
          -2.932530164718628,
          20.964792251586914,
          9.301735877990723,
          -3.551842451095581,
          -3.8053793907165527,
          -4.121885776519775,
          14.212722778320312,
          -1.7637290954589844,
          6.002758502960205,
          11.214889526367188,
          15.529168128967285,
          4.639459133148193,
          -6.5605597496032715,
          3.93772029876709,
          11.874284744262695,
          14.236416816711426,
          26.916793823242188,
          1.7478374242782593,
          17.878589630126953,
          19.265573501586914,
          -16.56356430053711,
          2.9905385971069336,
          8.478714942932129,
          9.96311092376709,
          -7.629084587097168,
          3.9429826736450195,
          10.016592979431152,
          2.809190034866333,
          5.380236625671387,
          10.99880313873291,
          9.363388061523438,
          0.225421741604805,
          4.5545525550842285,
          -2.5053768157958984,
          -0.36044034361839294,
          3.9013001918792725,
          -4.465532302856445,
          4.026729583740234,
          7.523460865020752,
          8.721837997436523,
          8.852416038513184,
          2.273942470550537,
          -1.671708345413208,
          7.281501293182373,
          5.322381496429443,
          5.393619060516357,
          9.010666847229004,
          -1.344475269317627,
          5.323723316192627,
          -2.4201502799987793,
          -5.16617488861084,
          20.875524520874023,
          -4.582716464996338,
          3.132317066192627,
          8.971441268920898,
          4.689726829528809,
          5.245429992675781,
          -7.470569610595703,
          15.591119766235352,
          5.903445720672607,
          -12.822131156921387,
          -6.837090015411377,
          3.202151298522949,
          8.103548049926758,
          -13.726070404052734,
          -3.018770933151245,
          6.672637939453125,
          9.073312759399414,
          -2.733924150466919,
          8.589334487915039,
          7.298625469207764,
          7.216976642608643,
          1.5400900840759277,
          7.423688888549805,
          16.689088821411133,
          -9.332159042358398,
          0.7618833780288696,
          -4.506747245788574,
          5.323413372039795,
          1.6400864124298096,
          5.4725518226623535,
          9.93807601928711,
          0.6508671045303345,
          -16.12225914001465,
          -1.90317702293396,
          -9.060567855834961,
          0.300053209066391,
          21.057491302490234,
          -16.5399112701416,
          2.9075775146484375,
          20.600069046020508,
          -17.617223739624023,
          7.860113620758057,
          9.27510929107666,
          1.6333413124084473,
          -12.14888858795166,
          -2.670910358428955,
          -2.479763984680176,
          -9.23157024383545,
          -12.585922241210938,
          6.267982006072998,
          -9.06424617767334,
          5.317765712738037,
          -9.272332191467285,
          1.207043170928955,
          -0.6922304034233093,
          1.6242214441299438,
          -10.041807174682617,
          -11.417329788208008,
          15.861665725708008,
          2.968654155731201,
          15.032449722290039,
          -10.09663200378418,
          -19.033021926879883,
          -16.06941032409668,
          -13.501106262207031,
          1.2004172801971436,
          -10.664003372192383,
          -12.652328491210938,
          -8.838468551635742,
          -18.146997451782227,
          7.150191307067871,
          -6.049129962921143,
          6.287930011749268,
          -7.20216178894043,
          4.3841471672058105,
          -10.684839248657227,
          2.1815507411956787,
          -6.844773292541504,
          -13.976202964782715,
          10.296072006225586,
          16.840551376342773,
          1.4906527996063232,
          -13.470890045166016,
          11.014124870300293,
          1.3760638236999512,
          -0.26757892966270447,
          -3.6477324962615967,
          -1.0703768730163574,
          8.710657119750977,
          11.655407905578613,
          -11.76317024230957,
          -20.306982040405273,
          -11.326794624328613,
          3.6883790493011475,
          -7.854798316955566,
          9.719001770019531,
          2.062842607498169,
          1.5642024278640747,
          -4.96264123916626,
          -3.100043535232544,
          7.4645795822143555,
          14.596652030944824,
          -2.2946009635925293,
          12.493762016296387,
          2.960948944091797,
          10.907058715820312,
          13.854944229125977,
          10.914138793945312,
          -4.295526504516602,
          1.315251350402832,
          -8.523637771606445,
          10.99213981628418,
          -4.798752784729004,
          1.934173583984375,
          0.5488598942756653,
          -16.466873168945312,
          -6.15106201171875,
          -13.45461368560791,
          -0.5871995091438293,
          -4.110947132110596,
          10.616448402404785,
          3.860563278198242,
          6.720803737640381,
          -2.03338885307312,
          -2.382749080657959,
          -1.2588574886322021,
          5.618114948272705,
          -7.9313883781433105,
          -4.833832263946533,
          -7.008720397949219,
          2.9729113578796387,
          3.385260820388794,
          -8.452132225036621,
          0.14913512766361237,
          -8.918781280517578,
          1.8317400217056274,
          -3.3188564777374268,
          8.379219055175781,
          16.311389923095703,
          1.3092001676559448,
          2.953507900238037,
          -5.646243095397949,
          1.5250908136367798,
          6.177052021026611,
          15.93415355682373,
          0.9411280751228333,
          -0.29736199975013733,
          9.48907470703125,
          -1.1091008186340332,
          10.899370193481445,
          9.610515594482422,
          7.242830276489258,
          16.251319885253906,
          -4.827697277069092,
          8.727587699890137,
          4.466516017913818,
          -2.619615316390991,
          -14.844416618347168,
          -9.310378074645996,
          -16.62386131286621,
          -13.237374305725098,
          -8.33896541595459,
          8.767727851867676,
          -5.507444381713867,
          -20.409807205200195,
          14.787141799926758,
          -4.715733051300049,
          -2.1403915882110596,
          18.655664443969727,
          -8.32351016998291,
          2.207089900970459,
          -5.963756561279297,
          1.8521112203598022,
          -4.47602653503418,
          10.016063690185547,
          4.145234107971191,
          6.2654128074646,
          4.5230937004089355,
          8.94409465789795,
          -6.907760143280029,
          -2.4662060737609863,
          3.6437389850616455,
          10.164158821105957,
          2.640333890914917,
          14.148821830749512,
          15.380293846130371,
          0.9383282661437988,
          -7.319779396057129,
          1.9493141174316406,
          22.814878463745117,
          -11.604161262512207,
          15.224722862243652,
          -10.751838684082031,
          3.52897572517395,
          -10.710572242736816,
          3.4234468936920166,
          -7.166355133056641,
          1.5455800294876099,
          -3.062352418899536,
          21.359338760375977,
          -6.574151039123535,
          5.307413101196289,
          16.933935165405273,
          -9.632694244384766,
          -5.428062915802002,
          21.900144577026367,
          -15.352476119995117,
          -10.989083290100098,
          -1.759111762046814,
          -1.4348818063735962,
          5.561546325683594,
          -7.473555564880371,
          -5.493601322174072,
          -4.358861446380615,
          -20.059539794921875,
          -16.85184669494629,
          3.8563952445983887,
          -10.269546508789062,
          -14.393202781677246,
          -2.7436444759368896,
          -10.988816261291504,
          11.642782211303711,
          5.301320552825928,
          -12.514184951782227,
          18.815052032470703,
          1.965381383895874,
          1.7583119869232178,
          13.970734596252441,
          1.236027717590332,
          -17.45635414123535,
          -5.363715171813965,
          13.425244331359863,
          17.647071838378906,
          -4.651791572570801,
          10.029577255249023,
          -6.617860794067383,
          22.313125610351562,
          -12.762869834899902,
          8.491320610046387,
          0.21391728520393372,
          2.9991872310638428,
          6.265788555145264,
          15.989724159240723,
          15.341376304626465,
          16.94748306274414,
          7.711489200592041,
          17.330808639526367,
          -6.522633075714111,
          -0.029436049982905388,
          3.9736227989196777,
          -16.66640281677246,
          -6.632976055145264,
          -0.19937898218631744,
          -0.09045543521642685,
          8.924788475036621,
          7.91054105758667,
          -1.5418235063552856,
          -2.426152467727661,
          -8.359903335571289,
          -3.2910473346710205,
          -1.6770455837249756,
          -3.6468982696533203,
          -10.015239715576172,
          -13.698862075805664,
          -6.531570911407471,
          -11.357010841369629,
          8.627994537353516,
          -7.8866868019104,
          -0.2290600687265396,
          -14.68419361114502,
          11.215964317321777,
          -19.0841064453125,
          -1.9161690473556519,
          -3.81105899810791,
          -18.90522003173828,
          -11.009757041931152,
          -6.876031875610352,
          2.265441417694092,
          -13.606314659118652,
          11.901118278503418,
          -9.02051830291748,
          10.689391136169434,
          -4.748580455780029,
          -15.06011962890625,
          -3.5204741954803467,
          7.536545276641846,
          -4.644371509552002,
          -14.430985450744629,
          -6.608983993530273,
          -3.3863584995269775,
          -18.2115421295166,
          7.983770847320557,
          0.5614379644393921,
          -18.586137771606445,
          -9.481419563293457,
          -2.4816598892211914,
          -7.920055389404297,
          -0.1878688931465149,
          -5.041851997375488,
          -0.4443952739238739,
          1.0052844285964966,
          13.887117385864258,
          -18.442455291748047,
          9.136392593383789,
          0.10508621484041214,
          16.259654998779297,
          -9.144220352172852,
          9.5191011428833,
          -8.361506462097168,
          -3.195765972137451,
          -13.754950523376465,
          1.4129867553710938,
          7.6698503494262695,
          12.439603805541992,
          -4.714977264404297,
          -5.338865280151367,
          -7.418999671936035,
          6.519467830657959,
          -12.50866413116455,
          6.811505317687988,
          -4.198611259460449,
          2.773101806640625,
          -20.37293815612793,
          -9.285393714904785,
          -8.725667953491211,
          0.1317855566740036,
          -11.441384315490723,
          7.697918891906738,
          1.7840327024459839,
          8.391268730163574,
          -11.957624435424805,
          -19.000961303710938,
          -12.730594635009766,
          -1.85442316532135,
          2.2811243534088135,
          -17.24871063232422,
          14.998151779174805,
          6.315469264984131,
          3.7041079998016357,
          7.897485256195068,
          4.533733367919922,
          -2.8500144481658936,
          3.4147284030914307,
          6.004752159118652,
          -19.643077850341797,
          18.78997230529785,
          18.999380111694336,
          6.19305419921875,
          -1.5783225297927856,
          -10.57100772857666,
          -20.645044326782227,
          -2.822744369506836,
          -2.8409595489501953,
          -11.150468826293945,
          -21.674348831176758,
          2.6562659740448,
          -14.925585746765137,
          -10.206323623657227,
          6.206653594970703,
          1.356306552886963,
          -2.0832130908966064,
          2.2479121685028076,
          3.910174608230591,
          -3.447993755340576,
          7.5899553298950195,
          3.5877559185028076,
          22.02983856201172,
          -8.895013809204102,
          -5.061631679534912,
          1.2153549194335938,
          1.8331750631332397,
          3.2488694190979004,
          4.124752044677734,
          5.22105598449707,
          19.01787757873535,
          7.478713512420654,
          12.556303977966309,
          -0.5953862071037292,
          19.096635818481445,
          18.26557731628418,
          17.847827911376953,
          20.001806259155273,
          -16.714462280273438,
          1.4540066719055176,
          7.236722946166992,
          3.8177073001861572,
          -4.234000205993652,
          9.974918365478516,
          15.342314720153809,
          -3.6792469024658203,
          21.15667724609375,
          19.70775604248047,
          5.964025020599365,
          -17.000341415405273,
          14.1341552734375,
          23.68175506591797,
          20.772001266479492,
          7.563007831573486,
          19.107154846191406,
          -6.143555164337158,
          1.913564682006836,
          5.144444942474365,
          -6.508852958679199,
          -5.960093975067139,
          22.484806060791016,
          -18.83333396911621,
          9.393409729003906,
          3.800417900085449,
          20.50867462158203,
          -10.168144226074219,
          12.675250053405762,
          1.0901328325271606,
          2.4195876121520996,
          10.570575714111328,
          -8.845072746276855,
          7.331879138946533,
          9.314425468444824,
          4.656538486480713,
          -1.9342461824417114,
          -15.297821044921875,
          8.692692756652832,
          -8.470130920410156,
          1.169934868812561,
          -15.885662078857422,
          -5.502996921539307,
          -8.51834487915039,
          -0.17277731001377106,
          3.17626953125,
          6.316551208496094,
          23.27288055419922,
          6.925012588500977,
          4.639510631561279,
          -6.84261417388916,
          -21.51665496826172,
          -3.8878462314605713,
          -1.0053144693374634,
          -9.487619400024414,
          5.209485054016113,
          3.3469855785369873,
          2.6162166595458984,
          -3.729450225830078,
          -5.095746040344238,
          -13.105631828308105,
          -12.862154960632324,
          -7.074082851409912,
          -15.590100288391113,
          1.9791526794433594,
          0.9221808910369873,
          -12.927533149719238,
          -10.835851669311523,
          10.816739082336426,
          0.974888265132904,
          1.0761182308197021,
          -2.8938982486724854,
          -12.966818809509277,
          10.754430770874023,
          -1.7468491792678833,
          -4.455634117126465,
          5.243597030639648,
          -6.037064075469971,
          1.780401587486267,
          14.286321640014648,
          -0.2383829802274704,
          8.834692001342773,
          -7.352856636047363,
          3.9452338218688965,
          -16.80985450744629,
          -13.219099044799805,
          -11.110960006713867,
          -1.9732730388641357,
          -21.473201751708984,
          12.108888626098633,
          -14.901131629943848,
          -10.079633712768555,
          -1.4177082777023315,
          -14.51638126373291,
          0.7117968797683716,
          1.0964223146438599,
          -3.402247905731201,
          -19.189620971679688,
          -0.49503040313720703,
          0.6845818758010864,
          18.688173294067383,
          -4.262452125549316,
          -12.785426139831543,
          10.24765682220459,
          -8.410287857055664,
          0.06664624065160751,
          -7.8046464920043945,
          -14.61669921875,
          -6.916810512542725,
          -5.488473892211914,
          -6.18924617767334,
          -22.33559799194336,
          -5.605814456939697,
          -16.813989639282227,
          -1.511346697807312,
          0.38948822021484375,
          -1.1822116374969482,
          14.595341682434082,
          8.402998924255371,
          4.63361930847168,
          -12.869485855102539,
          -13.427555084228516,
          10.52138614654541,
          0.5498172640800476,
          -8.107266426086426,
          -1.7051385641098022,
          9.383445739746094,
          -5.63154935836792,
          -12.434226989746094,
          11.73516845703125,
          -0.6551468372344971,
          -0.2725171446800232,
          -5.691966533660889,
          1.2170145511627197,
          -1.0316470861434937,
          5.302286624908447,
          19.103759765625,
          -21.09864616394043,
          -0.5841156244277954,
          -13.857573509216309,
          -9.531601905822754,
          -5.887540817260742,
          -7.196235179901123,
          -6.525274276733398,
          -8.216547012329102,
          8.414314270019531,
          -11.939628601074219,
          -18.48129653930664,
          21.35028839111328,
          5.823657989501953,
          -2.957831382751465,
          -5.2067694664001465,
          2.7676966190338135,
          1.1551481485366821,
          3.13395094871521,
          -4.650807857513428,
          3.019465923309326,
          7.062243461608887,
          -7.683813095092773,
          -14.59442138671875,
          3.989206075668335,
          0.7358282804489136,
          -10.236024856567383,
          12.458529472351074,
          -9.777591705322266,
          -1.7913111448287964,
          12.032146453857422,
          13.165546417236328,
          4.318573474884033,
          -5.384164333343506,
          -0.8055503964424133,
          0.7140714526176453,
          19.395828247070312,
          10.367834091186523,
          -0.06642736494541168,
          -0.21466144919395447,
          -1.7654671669006348,
          15.809250831604004,
          -2.271693706512451,
          5.991197109222412,
          -8.619550704956055,
          -2.839362621307373,
          7.151233673095703,
          -2.3326656818389893,
          5.7282328605651855,
          0.9203559160232544,
          -11.142756462097168,
          15.336740493774414,
          -4.690798282623291,
          -9.4342041015625,
          2.262416362762451,
          4.104426860809326,
          2.6000239849090576,
          -13.589733123779297,
          4.045122146606445,
          -14.260099411010742,
          10.527694702148438,
          -12.79196834564209,
          -5.095940589904785,
          -2.450273275375366,
          -4.836824893951416,
          -16.245899200439453,
          -0.2857958972454071,
          17.59311866760254,
          -10.640578269958496,
          -6.691162109375,
          -9.346131324768066,
          9.553316116333008,
          3.6454966068267822,
          3.813751459121704,
          -6.79971981048584,
          8.493486404418945,
          -12.141853332519531,
          4.419164657592773,
          -5.971320629119873,
          2.178981065750122,
          12.119948387145996,
          9.249645233154297,
          -3.4905900955200195,
          -9.220284461975098,
          0.7222133874893188,
          1.4105442762374878,
          -16.457963943481445,
          -11.273533821105957,
          -1.2425932884216309,
          -1.3750396966934204,
          3.454338312149048,
          -12.608818054199219,
          -10.278719902038574,
          -4.4336161613464355,
          -11.094517707824707,
          5.208096027374268,
          3.592120409011841,
          3.595325231552124,
          4.175461292266846,
          10.300138473510742,
          0.2547110915184021,
          5.996210098266602,
          -7.705101490020752,
          11.44221019744873,
          -2.895655632019043,
          -10.602867126464844,
          -0.5847723484039307,
          -14.112749099731445,
          10.045998573303223,
          0.30612194538116455,
          4.749314308166504,
          8.706398963928223,
          4.933628559112549,
          3.2872369289398193,
          -5.970552444458008,
          -13.0700101852417,
          15.472365379333496,
          0.575800895690918,
          6.8973774909973145,
          -3.026289939880371,
          -21.53424644470215,
          3.940020799636841,
          -12.450014114379883,
          11.326339721679688,
          2.574734926223755,
          -7.629385948181152,
          5.779049873352051,
          1.9650382995605469,
          -0.1706894338130951,
          -9.612767219543457,
          -12.302780151367188,
          -16.869525909423828,
          4.536785125732422,
          6.7940592765808105,
          -1.498671293258667,
          -1.5400089025497437,
          -18.941007614135742,
          4.450646877288818,
          -5.964343547821045,
          -13.298421859741211,
          22.237998962402344,
          17.279706954956055,
          -1.20659339427948,
          7.117909908294678,
          -9.216166496276855,
          -5.188696384429932,
          0.9581252336502075,
          -9.289549827575684,
          -6.236764907836914,
          13.51176929473877,
          14.22984504699707,
          -11.937186241149902,
          -21.247634887695312,
          -14.42066764831543,
          -15.103629112243652,
          -17.97602081298828,
          -7.168724536895752,
          -13.260464668273926,
          -6.7051873207092285,
          -7.05102014541626,
          -1.5745984315872192,
          -11.64353084564209,
          -2.6208722591400146,
          5.531078338623047,
          9.0623779296875,
          13.88636302947998,
          2.5918984413146973,
          10.267492294311523,
          10.561955451965332,
          -12.861745834350586,
          -5.445289134979248,
          6.543963432312012,
          1.0236634016036987,
          -9.305288314819336,
          2.6567795276641846,
          -9.112909317016602,
          -2.2060606479644775,
          -2.600280284881592,
          -8.881165504455566,
          -10.004703521728516,
          -8.989873886108398,
          -17.861328125,
          -7.9463210105896,
          -12.685786247253418,
          -16.573307037353516,
          -10.944509506225586,
          -14.29057788848877,
          -19.098228454589844,
          -5.057854175567627,
          -9.214221000671387,
          -9.65359115600586,
          -5.414668083190918,
          17.184814453125,
          -0.7147006988525391,
          16.35365104675293,
          2.5072057247161865,
          -13.423666000366211,
          -10.32070255279541,
          -9.90750503540039,
          -10.780332565307617,
          -3.3892953395843506,
          -15.334989547729492,
          -16.546279907226562,
          -11.770014762878418,
          -18.733203887939453,
          -18.908912658691406,
          -2.544966459274292,
          -4.801203727722168,
          -8.709343910217285,
          20.506196975708008,
          -8.586542129516602,
          14.641854286193848,
          -10.79017448425293,
          -2.1531341075897217,
          18.97604751586914,
          12.706014633178711,
          -15.329370498657227,
          7.192895412445068,
          -8.27403450012207,
          6.231193542480469,
          -9.437858581542969,
          -12.804229736328125,
          -2.514554262161255,
          -1.6673738956451416,
          -20.879777908325195,
          14.479716300964355,
          19.61079216003418,
          0.7929517030715942,
          -7.290841102600098,
          -2.0465214252471924,
          -6.127451419830322,
          -13.99919605255127,
          -15.551294326782227,
          -10.873385429382324,
          -8.020249366760254,
          5.537591934204102,
          -6.900770664215088,
          -1.159875750541687,
          12.751761436462402,
          19.812358856201172,
          -6.249269008636475,
          0.6852298974990845,
          1.8062702417373657,
          15.97911548614502,
          -2.9670605659484863,
          -16.2965145111084,
          -7.421034336090088,
          -6.541152000427246,
          -18.526926040649414,
          -9.215814590454102,
          -0.12099286168813705,
          21.19805908203125,
          13.197929382324219,
          -9.35067081451416,
          -11.44812297821045,
          -1.5708528757095337,
          -5.8247599601745605,
          -11.034502983093262,
          -9.762240409851074,
          16.03333854675293,
          2.875300407409668,
          -14.779757499694824,
          1.830449104309082,
          -10.674029350280762,
          -10.022171974182129,
          -7.912200927734375,
          -1.7344266176223755,
          15.040091514587402,
          7.487373352050781,
          -13.29130744934082,
          20.94240951538086,
          -1.2125771045684814,
          5.203802108764648,
          -3.6539745330810547,
          -11.237249374389648,
          9.739474296569824,
          17.1135196685791,
          -15.347094535827637,
          -10.395010948181152,
          -20.185216903686523,
          -0.5532723069190979,
          -14.357934951782227,
          -18.814544677734375,
          -7.234526634216309,
          -11.923094749450684,
          -16.632619857788086,
          2.703385829925537,
          2.8553526401519775,
          -8.82912826538086,
          8.529603958129883,
          -8.76313304901123,
          -14.077688217163086,
          -11.442872047424316,
          -3.972606897354126,
          -15.847774505615234,
          -6.247025966644287,
          -13.600401878356934,
          -0.5401387214660645,
          -9.116477966308594,
          -15.5322847366333,
          13.928375244140625,
          -5.8210978507995605,
          0.018537437543272972,
          -10.444838523864746,
          -1.3930950164794922,
          6.902998924255371,
          -10.236845016479492,
          -0.12998650968074799,
          -14.707910537719727,
          -12.585260391235352,
          -13.180508613586426,
          -4.90635871887207,
          -10.061001777648926,
          -13.833393096923828,
          -15.259554862976074,
          -15.600152015686035,
          15.252622604370117,
          -13.77731990814209,
          14.18991756439209,
          2.320350408554077,
          1.4591972827911377,
          -12.825969696044922,
          -15.727992057800293,
          -7.802089214324951,
          -15.71435832977295,
          -3.800434112548828,
          -14.906071662902832,
          2.1629769802093506,
          -15.018538475036621,
          1.842150330543518,
          -3.5422253608703613,
          -11.450128555297852,
          3.4040420055389404,
          -17.137163162231445,
          -10.323773384094238,
          -12.749707221984863,
          -15.479033470153809,
          -15.238969802856445,
          -8.439900398254395,
          -11.343944549560547,
          -15.489219665527344,
          5.91238260269165,
          15.89339828491211,
          -2.7369017601013184,
          -0.6212161183357239,
          -11.277229309082031,
          4.243439197540283,
          -15.209612846374512,
          -14.86492919921875,
          11.856547355651855,
          -15.283869743347168,
          -0.02483265846967697,
          -10.771249771118164,
          20.890666961669922,
          -2.3755276203155518,
          21.001293182373047,
          20.170093536376953,
          1.197916865348816,
          -19.808517456054688,
          6.578856468200684,
          -8.286598205566406,
          3.054346799850464,
          12.993162155151367,
          2.6908042430877686,
          3.066836357116699,
          4.41118049621582,
          -14.844589233398438,
          -0.41680631041526794,
          19.283283233642578,
          -9.455102920532227,
          4.737563610076904,
          -2.087156057357788,
          -7.648460865020752,
          -4.324953556060791,
          2.0937514305114746,
          -0.9452915191650391,
          -12.117526054382324,
          -3.146876573562622,
          -6.133150577545166,
          4.818969249725342,
          4.550466537475586,
          -5.464019298553467,
          -19.99491310119629,
          -4.267995357513428,
          8.851851463317871,
          -22.350881576538086,
          -15.052804946899414,
          -19.079477310180664,
          -6.447032451629639,
          -11.97677230834961,
          -4.325015068054199,
          3.996381998062134,
          13.023788452148438,
          -12.44750690460205,
          -12.751081466674805,
          -2.6756722927093506,
          -0.07696942985057831,
          -17.679235458374023,
          -7.602597236633301,
          -15.139192581176758,
          -3.2802133560180664,
          -12.887091636657715,
          -8.820723533630371,
          1.9361279010772705,
          0.973748505115509,
          15.9203462600708,
          -17.16447639465332,
          3.3782455921173096,
          -5.351456642150879,
          -8.566264152526855,
          -6.132528781890869,
          -9.987545013427734,
          -11.972310066223145,
          -1.720689058303833,
          -11.810128211975098,
          -2.69199538230896,
          -13.517915725708008,
          14.558649063110352,
          -7.389000415802002,
          -1.2579975128173828,
          -4.2684855461120605,
          -1.5226274728775024,
          -8.334620475769043,
          4.663557529449463,
          -1.7070355415344238,
          1.1452184915542603,
          -0.9585647583007812,
          -9.60645580291748,
          -10.963403701782227,
          -12.562093734741211,
          -0.383539080619812,
          -1.7315800189971924,
          -0.7020723223686218,
          1.9835031032562256,
          -9.109013557434082,
          -17.56915855407715,
          -5.445554733276367,
          -7.837993621826172,
          -0.5050792694091797,
          -10.7158784866333,
          9.617167472839355,
          6.40265417098999,
          2.3028652667999268,
          -0.9866099953651428,
          -12.451066970825195,
          -10.501089096069336,
          -8.373692512512207,
          7.335443019866943,
          0.3766363859176636,
          21.998619079589844,
          -7.3099141120910645,
          1.359793782234192,
          -2.345510959625244,
          -12.800954818725586,
          -16.04140853881836,
          -19.39556884765625,
          4.897715091705322,
          -8.7564115524292,
          -0.4748151898384094,
          -4.0989813804626465,
          -21.328859329223633,
          -15.021228790283203,
          3.2651190757751465,
          -8.79812240600586,
          -6.499457359313965,
          -8.30195140838623,
          -6.201924800872803,
          -6.947383403778076,
          -21.374048233032227,
          -5.534289360046387,
          -18.33293914794922,
          -17.158950805664062,
          -6.347740173339844,
          6.004531383514404,
          5.5531110763549805,
          -1.181423544883728,
          -20.487762451171875,
          -14.872282981872559,
          0.4286714494228363,
          -6.536861896514893,
          1.2048174142837524,
          -10.941670417785645,
          -6.6737799644470215,
          -13.812541007995605,
          -17.919565200805664,
          6.930708885192871,
          4.632659912109375,
          -12.62575912475586,
          -13.305010795593262,
          2.564228057861328,
          8.629415512084961,
          0.8006351590156555,
          -1.7937233448028564,
          9.353635787963867,
          -8.37083911895752,
          -12.873051643371582,
          -11.133874893188477,
          -17.318681716918945,
          6.5279860496521,
          -3.6731412410736084,
          -9.275711059570312,
          -4.298269748687744,
          -12.247603416442871,
          -10.864751815795898,
          -14.170269966125488,
          5.148834705352783,
          -5.98544454574585,
          2.7817952632904053,
          -13.684758186340332,
          4.346147537231445,
          6.000581741333008,
          13.68414306640625,
          8.020721435546875,
          -12.725811004638672,
          -8.10921573638916,
          4.189974308013916,
          9.119912147521973,
          -6.683235168457031,
          1.149901032447815,
          -14.557260513305664,
          -20.317060470581055,
          -8.03962516784668,
          -21.815107345581055,
          -22.002567291259766,
          -18.85331153869629,
          -10.956537246704102,
          4.7314252853393555,
          -10.82232666015625,
          -18.912071228027344,
          -4.588904857635498,
          -10.913172721862793,
          -20.74863624572754,
          3.1905429363250732,
          -20.402667999267578,
          7.169050693511963,
          -19.956300735473633,
          -22.05807876586914,
          -19.949079513549805,
          -10.636338233947754,
          -21.45575523376465,
          -8.628264427185059,
          -9.335763931274414,
          -22.044445037841797,
          -21.8723087310791,
          -8.368478775024414,
          -22.132436752319336,
          -20.35405921936035,
          -19.6075382232666,
          -21.38529396057129,
          -20.169328689575195,
          -20.404497146606445,
          -20.216346740722656,
          -4.175431251525879,
          -19.93328857421875,
          -21.941680908203125,
          -8.994157791137695,
          -20.92041015625,
          -8.065189361572266,
          -10.43714427947998,
          -4.083573818206787,
          -21.226003646850586,
          -19.820755004882812,
          2.513521194458008,
          15.898951530456543,
          2.271212577819824,
          2.83852219581604,
          4.9758172035217285,
          -9.033891677856445,
          8.349512100219727,
          -10.045762062072754,
          -7.284270286560059,
          -12.631766319274902,
          -3.3202736377716064,
          1.9494868516921997,
          14.619561195373535,
          -15.140740394592285,
          17.590370178222656,
          -7.104020118713379,
          0.8810325264930725,
          5.5061187744140625,
          -5.293219566345215,
          12.9270658493042,
          1.4118655920028687,
          -19.8132266998291,
          -10.914372444152832,
          -8.943629264831543,
          17.008153915405273,
          7.682511329650879,
          -6.827902317047119,
          2.9423608779907227,
          -9.690093040466309,
          3.0074641704559326,
          -9.798274993896484,
          -11.68748664855957,
          -3.288092613220215,
          -21.244321823120117,
          -9.59825611114502,
          3.6692922115325928,
          -5.100520133972168,
          8.276342391967773,
          -20.067594528198242,
          -13.43483829498291,
          -16.836305618286133,
          3.6923372745513916,
          -4.612453937530518,
          -12.641088485717773,
          -4.548540115356445,
          -4.460226058959961,
          -6.041138648986816,
          -4.591623306274414,
          -9.11801528930664,
          -4.7808613777160645,
          -8.251246452331543,
          -4.171422004699707,
          -4.531062126159668,
          -7.914921760559082,
          7.968638896942139,
          -8.998555183410645,
          -9.192843437194824,
          -7.292928218841553,
          9.555136680603027,
          -4.524229049682617,
          -10.292312622070312,
          -4.322125434875488,
          -7.644954681396484,
          -7.569363117218018,
          -10.599813461303711,
          -7.6962409019470215,
          -10.426717758178711,
          -7.901597023010254,
          -5.964509963989258,
          3.378803253173828,
          -10.803410530090332,
          -20.13088035583496,
          -17.773225784301758,
          -20.339662551879883,
          -1.3592545986175537,
          -3.9673938751220703,
          5.372496604919434,
          -7.672690391540527,
          -4.322598457336426,
          2.4220004081726074,
          2.7600297927856445,
          -3.915541410446167,
          3.192546844482422,
          -20.62613868713379,
          -12.07532787322998,
          -13.156808853149414,
          1.1628468036651611,
          -8.972700119018555,
          -8.547033309936523,
          -11.526598930358887,
          -17.23849105834961,
          7.089200496673584,
          -5.309315204620361,
          -7.705162048339844,
          -11.192824363708496
         ],
         "yaxis": "y"
        }
       ],
       "layout": {
        "coloraxis": {
         "colorbar": {
          "title": {
           "text": "popularity"
          }
         },
         "colorscale": [
          [
           0,
           "#0d0887"
          ],
          [
           0.1111111111111111,
           "#46039f"
          ],
          [
           0.2222222222222222,
           "#7201a8"
          ],
          [
           0.3333333333333333,
           "#9c179e"
          ],
          [
           0.4444444444444444,
           "#bd3786"
          ],
          [
           0.5555555555555556,
           "#d8576b"
          ],
          [
           0.6666666666666666,
           "#ed7953"
          ],
          [
           0.7777777777777778,
           "#fb9f3a"
          ],
          [
           0.8888888888888888,
           "#fdca26"
          ],
          [
           1,
           "#f0f921"
          ]
         ]
        },
        "legend": {
         "tracegroupgap": 0
        },
        "margin": {
         "t": 60
        },
        "template": {
         "data": {
          "bar": [
           {
            "error_x": {
             "color": "#2a3f5f"
            },
            "error_y": {
             "color": "#2a3f5f"
            },
            "marker": {
             "line": {
              "color": "#E5ECF6",
              "width": 0.5
             },
             "pattern": {
              "fillmode": "overlay",
              "size": 10,
              "solidity": 0.2
             }
            },
            "type": "bar"
           }
          ],
          "barpolar": [
           {
            "marker": {
             "line": {
              "color": "#E5ECF6",
              "width": 0.5
             },
             "pattern": {
              "fillmode": "overlay",
              "size": 10,
              "solidity": 0.2
             }
            },
            "type": "barpolar"
           }
          ],
          "carpet": [
           {
            "aaxis": {
             "endlinecolor": "#2a3f5f",
             "gridcolor": "white",
             "linecolor": "white",
             "minorgridcolor": "white",
             "startlinecolor": "#2a3f5f"
            },
            "baxis": {
             "endlinecolor": "#2a3f5f",
             "gridcolor": "white",
             "linecolor": "white",
             "minorgridcolor": "white",
             "startlinecolor": "#2a3f5f"
            },
            "type": "carpet"
           }
          ],
          "choropleth": [
           {
            "colorbar": {
             "outlinewidth": 0,
             "ticks": ""
            },
            "type": "choropleth"
           }
          ],
          "contour": [
           {
            "colorbar": {
             "outlinewidth": 0,
             "ticks": ""
            },
            "colorscale": [
             [
              0,
              "#0d0887"
             ],
             [
              0.1111111111111111,
              "#46039f"
             ],
             [
              0.2222222222222222,
              "#7201a8"
             ],
             [
              0.3333333333333333,
              "#9c179e"
             ],
             [
              0.4444444444444444,
              "#bd3786"
             ],
             [
              0.5555555555555556,
              "#d8576b"
             ],
             [
              0.6666666666666666,
              "#ed7953"
             ],
             [
              0.7777777777777778,
              "#fb9f3a"
             ],
             [
              0.8888888888888888,
              "#fdca26"
             ],
             [
              1,
              "#f0f921"
             ]
            ],
            "type": "contour"
           }
          ],
          "contourcarpet": [
           {
            "colorbar": {
             "outlinewidth": 0,
             "ticks": ""
            },
            "type": "contourcarpet"
           }
          ],
          "heatmap": [
           {
            "colorbar": {
             "outlinewidth": 0,
             "ticks": ""
            },
            "colorscale": [
             [
              0,
              "#0d0887"
             ],
             [
              0.1111111111111111,
              "#46039f"
             ],
             [
              0.2222222222222222,
              "#7201a8"
             ],
             [
              0.3333333333333333,
              "#9c179e"
             ],
             [
              0.4444444444444444,
              "#bd3786"
             ],
             [
              0.5555555555555556,
              "#d8576b"
             ],
             [
              0.6666666666666666,
              "#ed7953"
             ],
             [
              0.7777777777777778,
              "#fb9f3a"
             ],
             [
              0.8888888888888888,
              "#fdca26"
             ],
             [
              1,
              "#f0f921"
             ]
            ],
            "type": "heatmap"
           }
          ],
          "heatmapgl": [
           {
            "colorbar": {
             "outlinewidth": 0,
             "ticks": ""
            },
            "colorscale": [
             [
              0,
              "#0d0887"
             ],
             [
              0.1111111111111111,
              "#46039f"
             ],
             [
              0.2222222222222222,
              "#7201a8"
             ],
             [
              0.3333333333333333,
              "#9c179e"
             ],
             [
              0.4444444444444444,
              "#bd3786"
             ],
             [
              0.5555555555555556,
              "#d8576b"
             ],
             [
              0.6666666666666666,
              "#ed7953"
             ],
             [
              0.7777777777777778,
              "#fb9f3a"
             ],
             [
              0.8888888888888888,
              "#fdca26"
             ],
             [
              1,
              "#f0f921"
             ]
            ],
            "type": "heatmapgl"
           }
          ],
          "histogram": [
           {
            "marker": {
             "pattern": {
              "fillmode": "overlay",
              "size": 10,
              "solidity": 0.2
             }
            },
            "type": "histogram"
           }
          ],
          "histogram2d": [
           {
            "colorbar": {
             "outlinewidth": 0,
             "ticks": ""
            },
            "colorscale": [
             [
              0,
              "#0d0887"
             ],
             [
              0.1111111111111111,
              "#46039f"
             ],
             [
              0.2222222222222222,
              "#7201a8"
             ],
             [
              0.3333333333333333,
              "#9c179e"
             ],
             [
              0.4444444444444444,
              "#bd3786"
             ],
             [
              0.5555555555555556,
              "#d8576b"
             ],
             [
              0.6666666666666666,
              "#ed7953"
             ],
             [
              0.7777777777777778,
              "#fb9f3a"
             ],
             [
              0.8888888888888888,
              "#fdca26"
             ],
             [
              1,
              "#f0f921"
             ]
            ],
            "type": "histogram2d"
           }
          ],
          "histogram2dcontour": [
           {
            "colorbar": {
             "outlinewidth": 0,
             "ticks": ""
            },
            "colorscale": [
             [
              0,
              "#0d0887"
             ],
             [
              0.1111111111111111,
              "#46039f"
             ],
             [
              0.2222222222222222,
              "#7201a8"
             ],
             [
              0.3333333333333333,
              "#9c179e"
             ],
             [
              0.4444444444444444,
              "#bd3786"
             ],
             [
              0.5555555555555556,
              "#d8576b"
             ],
             [
              0.6666666666666666,
              "#ed7953"
             ],
             [
              0.7777777777777778,
              "#fb9f3a"
             ],
             [
              0.8888888888888888,
              "#fdca26"
             ],
             [
              1,
              "#f0f921"
             ]
            ],
            "type": "histogram2dcontour"
           }
          ],
          "mesh3d": [
           {
            "colorbar": {
             "outlinewidth": 0,
             "ticks": ""
            },
            "type": "mesh3d"
           }
          ],
          "parcoords": [
           {
            "line": {
             "colorbar": {
              "outlinewidth": 0,
              "ticks": ""
             }
            },
            "type": "parcoords"
           }
          ],
          "pie": [
           {
            "automargin": true,
            "type": "pie"
           }
          ],
          "scatter": [
           {
            "fillpattern": {
             "fillmode": "overlay",
             "size": 10,
             "solidity": 0.2
            },
            "type": "scatter"
           }
          ],
          "scatter3d": [
           {
            "line": {
             "colorbar": {
              "outlinewidth": 0,
              "ticks": ""
             }
            },
            "marker": {
             "colorbar": {
              "outlinewidth": 0,
              "ticks": ""
             }
            },
            "type": "scatter3d"
           }
          ],
          "scattercarpet": [
           {
            "marker": {
             "colorbar": {
              "outlinewidth": 0,
              "ticks": ""
             }
            },
            "type": "scattercarpet"
           }
          ],
          "scattergeo": [
           {
            "marker": {
             "colorbar": {
              "outlinewidth": 0,
              "ticks": ""
             }
            },
            "type": "scattergeo"
           }
          ],
          "scattergl": [
           {
            "marker": {
             "colorbar": {
              "outlinewidth": 0,
              "ticks": ""
             }
            },
            "type": "scattergl"
           }
          ],
          "scattermapbox": [
           {
            "marker": {
             "colorbar": {
              "outlinewidth": 0,
              "ticks": ""
             }
            },
            "type": "scattermapbox"
           }
          ],
          "scatterpolar": [
           {
            "marker": {
             "colorbar": {
              "outlinewidth": 0,
              "ticks": ""
             }
            },
            "type": "scatterpolar"
           }
          ],
          "scatterpolargl": [
           {
            "marker": {
             "colorbar": {
              "outlinewidth": 0,
              "ticks": ""
             }
            },
            "type": "scatterpolargl"
           }
          ],
          "scatterternary": [
           {
            "marker": {
             "colorbar": {
              "outlinewidth": 0,
              "ticks": ""
             }
            },
            "type": "scatterternary"
           }
          ],
          "surface": [
           {
            "colorbar": {
             "outlinewidth": 0,
             "ticks": ""
            },
            "colorscale": [
             [
              0,
              "#0d0887"
             ],
             [
              0.1111111111111111,
              "#46039f"
             ],
             [
              0.2222222222222222,
              "#7201a8"
             ],
             [
              0.3333333333333333,
              "#9c179e"
             ],
             [
              0.4444444444444444,
              "#bd3786"
             ],
             [
              0.5555555555555556,
              "#d8576b"
             ],
             [
              0.6666666666666666,
              "#ed7953"
             ],
             [
              0.7777777777777778,
              "#fb9f3a"
             ],
             [
              0.8888888888888888,
              "#fdca26"
             ],
             [
              1,
              "#f0f921"
             ]
            ],
            "type": "surface"
           }
          ],
          "table": [
           {
            "cells": {
             "fill": {
              "color": "#EBF0F8"
             },
             "line": {
              "color": "white"
             }
            },
            "header": {
             "fill": {
              "color": "#C8D4E3"
             },
             "line": {
              "color": "white"
             }
            },
            "type": "table"
           }
          ]
         },
         "layout": {
          "annotationdefaults": {
           "arrowcolor": "#2a3f5f",
           "arrowhead": 0,
           "arrowwidth": 1
          },
          "autotypenumbers": "strict",
          "coloraxis": {
           "colorbar": {
            "outlinewidth": 0,
            "ticks": ""
           }
          },
          "colorscale": {
           "diverging": [
            [
             0,
             "#8e0152"
            ],
            [
             0.1,
             "#c51b7d"
            ],
            [
             0.2,
             "#de77ae"
            ],
            [
             0.3,
             "#f1b6da"
            ],
            [
             0.4,
             "#fde0ef"
            ],
            [
             0.5,
             "#f7f7f7"
            ],
            [
             0.6,
             "#e6f5d0"
            ],
            [
             0.7,
             "#b8e186"
            ],
            [
             0.8,
             "#7fbc41"
            ],
            [
             0.9,
             "#4d9221"
            ],
            [
             1,
             "#276419"
            ]
           ],
           "sequential": [
            [
             0,
             "#0d0887"
            ],
            [
             0.1111111111111111,
             "#46039f"
            ],
            [
             0.2222222222222222,
             "#7201a8"
            ],
            [
             0.3333333333333333,
             "#9c179e"
            ],
            [
             0.4444444444444444,
             "#bd3786"
            ],
            [
             0.5555555555555556,
             "#d8576b"
            ],
            [
             0.6666666666666666,
             "#ed7953"
            ],
            [
             0.7777777777777778,
             "#fb9f3a"
            ],
            [
             0.8888888888888888,
             "#fdca26"
            ],
            [
             1,
             "#f0f921"
            ]
           ],
           "sequentialminus": [
            [
             0,
             "#0d0887"
            ],
            [
             0.1111111111111111,
             "#46039f"
            ],
            [
             0.2222222222222222,
             "#7201a8"
            ],
            [
             0.3333333333333333,
             "#9c179e"
            ],
            [
             0.4444444444444444,
             "#bd3786"
            ],
            [
             0.5555555555555556,
             "#d8576b"
            ],
            [
             0.6666666666666666,
             "#ed7953"
            ],
            [
             0.7777777777777778,
             "#fb9f3a"
            ],
            [
             0.8888888888888888,
             "#fdca26"
            ],
            [
             1,
             "#f0f921"
            ]
           ]
          },
          "colorway": [
           "#636efa",
           "#EF553B",
           "#00cc96",
           "#ab63fa",
           "#FFA15A",
           "#19d3f3",
           "#FF6692",
           "#B6E880",
           "#FF97FF",
           "#FECB52"
          ],
          "font": {
           "color": "#2a3f5f"
          },
          "geo": {
           "bgcolor": "white",
           "lakecolor": "white",
           "landcolor": "#E5ECF6",
           "showlakes": true,
           "showland": true,
           "subunitcolor": "white"
          },
          "hoverlabel": {
           "align": "left"
          },
          "hovermode": "closest",
          "mapbox": {
           "style": "light"
          },
          "paper_bgcolor": "white",
          "plot_bgcolor": "#E5ECF6",
          "polar": {
           "angularaxis": {
            "gridcolor": "white",
            "linecolor": "white",
            "ticks": ""
           },
           "bgcolor": "#E5ECF6",
           "radialaxis": {
            "gridcolor": "white",
            "linecolor": "white",
            "ticks": ""
           }
          },
          "scene": {
           "xaxis": {
            "backgroundcolor": "#E5ECF6",
            "gridcolor": "white",
            "gridwidth": 2,
            "linecolor": "white",
            "showbackground": true,
            "ticks": "",
            "zerolinecolor": "white"
           },
           "yaxis": {
            "backgroundcolor": "#E5ECF6",
            "gridcolor": "white",
            "gridwidth": 2,
            "linecolor": "white",
            "showbackground": true,
            "ticks": "",
            "zerolinecolor": "white"
           },
           "zaxis": {
            "backgroundcolor": "#E5ECF6",
            "gridcolor": "white",
            "gridwidth": 2,
            "linecolor": "white",
            "showbackground": true,
            "ticks": "",
            "zerolinecolor": "white"
           }
          },
          "shapedefaults": {
           "line": {
            "color": "#2a3f5f"
           }
          },
          "ternary": {
           "aaxis": {
            "gridcolor": "white",
            "linecolor": "white",
            "ticks": ""
           },
           "baxis": {
            "gridcolor": "white",
            "linecolor": "white",
            "ticks": ""
           },
           "bgcolor": "#E5ECF6",
           "caxis": {
            "gridcolor": "white",
            "linecolor": "white",
            "ticks": ""
           }
          },
          "title": {
           "x": 0.05
          },
          "xaxis": {
           "automargin": true,
           "gridcolor": "white",
           "linecolor": "white",
           "ticks": "",
           "title": {
            "standoff": 15
           },
           "zerolinecolor": "white",
           "zerolinewidth": 2
          },
          "yaxis": {
           "automargin": true,
           "gridcolor": "white",
           "linecolor": "white",
           "ticks": "",
           "title": {
            "standoff": 15
           },
           "zerolinecolor": "white",
           "zerolinewidth": 2
          }
         }
        },
        "xaxis": {
         "anchor": "y",
         "domain": [
          0,
          1
         ],
         "title": {
          "text": "tsne_1"
         }
        },
        "yaxis": {
         "anchor": "x",
         "domain": [
          0,
          1
         ],
         "title": {
          "text": "tsne_2"
         }
        }
       }
      }
     },
     "metadata": {},
     "output_type": "display_data"
    }
   ],
   "source": [
    "import plotly.express as px\n",
    "\n",
    "tsne_df = pd.DataFrame(item_tsne, columns=[\"tsne_1\", \"tsne_2\"])\n",
    "tsne_df[\"item_id\"] = np.arange(item_tsne.shape[0])\n",
    "tsne_df = tsne_df.merge(items.reset_index())\n",
    "\n",
    "px.scatter(tsne_df, x=\"tsne_1\", y=\"tsne_2\",\n",
    "           color=\"popularity\",\n",
    "           hover_data=[\"item_id\", \"title\", \"popularity\"])"
   ]
  },
  {
   "cell_type": "markdown",
   "metadata": {},
   "source": [
    "### Exercises\n",
    "\n",
    " - Add another layer to the neural network and retrain, compare train/test error.\n",
    " - Try adding more dropout and change layer sizes.\n"
   ]
  },
  {
   "cell_type": "markdown",
   "metadata": {},
   "source": [
    "### A recommendation function for a given user\n",
    "\n",
    "Once the model is trained, the system can be used to recommend a few items for a user that they haven't seen before. The following code does that.\n",
    "\n",
    "- we use the `model.predict` to compute the ratings a user would have given to all items\n",
    "- we build a function that sorts these items and excludes those the user has already seen."
   ]
  },
  {
   "cell_type": "code",
   "execution_count": 200,
   "metadata": {
    "scrolled": true
   },
   "outputs": [],
   "source": [
    "def recommend(user_id, top_n=10):\n",
    "    item_ids = range(1, items['item_id'].max())\n",
    "    seen_mask = all_ratings[\"user_id\"] == user_id\n",
    "    seen_movies = set(all_ratings[seen_mask][\"item_id\"])\n",
    "    item_ids = list(filter(lambda x: x not in seen_movies, item_ids))\n",
    "\n",
    "    user = np.zeros_like(item_ids)\n",
    "    user[:len(item_ids)] = user_id\n",
    "    items_ = np.array(item_ids)\n",
    "    ratings = model.predict([user, items_]).flatten()\n",
    "    top_items = ratings.argsort()[-top_n:][::-1]\n",
    "    return [(indexed_items.loc[item_id][\"title\"], ratings[item_id]) for item_id in top_items]"
   ]
  },
  {
   "cell_type": "code",
   "execution_count": 201,
   "metadata": {},
   "outputs": [
    {
     "name": "stdout",
     "output_type": "stream",
     "text": [
      "48/48 [==============================] - 1s 3ms/step\n",
      "    4.5: Affair to Remember, An (1957)\n",
      "    4.3: 20,000 Leagues Under the Sea (1954)\n",
      "    4.3: Eat Drink Man Woman (1994)\n",
      "    4.2: Color of Night (1994)\n",
      "    4.2: Loaded (1994)\n",
      "    4.2: Blade Runner (1982)\n",
      "    4.1: Faster Pussycat! Kill! Kill! (1965)\n",
      "    4.1: Dead Man Walking (1995)\n",
      "    4.1: Devil's Advocate, The (1997)\n",
      "    4.1: Bound (1996)\n"
     ]
    }
   ],
   "source": [
    "for title, pred_rating in recommend(5):\n",
    "    print(\"    %0.1f: %s\" % (pred_rating, title))"
   ]
  },
  {
   "cell_type": "markdown",
   "metadata": {
    "collapsed": false
   },
   "source": [
    "### Exercises\n",
    "\n",
    "- Try modifying our neural network to improve recommendation. You could try adding more layers, or using a different loss function. \n",
    "- Your goal is to improve the Mean Absolute Error on the test set. Show the results of your best model."
   ]
  },
  {
   "cell_type": "code",
   "execution_count": 220,
   "metadata": {
    "collapsed": false
   },
   "outputs": [],
   "source": [
    "# Extend and improve the model below\n",
    "class RegressionModel(Model):\n",
    "    def __init__(self, embedding_size, max_user_id, max_item_id):\n",
    "        super().__init__()\n",
    "\n",
    "        self.user_embedding = Embedding(output_dim=embedding_size,\n",
    "                                        input_dim=max_user_id + 1,\n",
    "                                        input_length=1,\n",
    "                                        name='user_embedding')\n",
    "        self.item_embedding = Embedding(output_dim=embedding_size,\n",
    "                                        input_dim=max_item_id + 1,\n",
    "                                        input_length=1,\n",
    "                                        name='item_embedding')\n",
    "\n",
    "        # The following two layers don't have parameters.\n",
    "        self.flatten = Flatten()\n",
    "        self.dot = Dot(axes=1)\n",
    "\n",
    "    def call(self, inputs):\n",
    "        user_inputs = inputs[0]\n",
    "        item_inputs = inputs[1]\n",
    "\n",
    "        user_vecs = self.flatten(self.user_embedding(user_inputs))\n",
    "        item_vecs = self.flatten(self.item_embedding(item_inputs))\n",
    "\n",
    "        y = self.dot([user_vecs, item_vecs])\n",
    "        return y\n",
    "\n",
    "\n",
    "model = RegressionModel(embedding_size=64, max_user_id=all_ratings['user_id'].max(), max_item_id=all_ratings['item_id'].max())\n",
    "model.compile(optimizer=\"adam\", loss='mae')"
   ]
  },
  {
   "cell_type": "code",
   "execution_count": 221,
   "metadata": {
    "collapsed": false
   },
   "outputs": [
    {
     "name": "stdout",
     "output_type": "stream",
     "text": [
      "Epoch 1/10\n",
      "1125/1125 [==============================] - 8s 6ms/step - loss: 9.3766 - val_loss: 2.1402\n",
      "Epoch 2/10\n",
      "1125/1125 [==============================] - 7s 6ms/step - loss: 1.3154 - val_loss: 1.0652\n",
      "Epoch 3/10\n",
      "1125/1125 [==============================] - 6s 5ms/step - loss: 0.9399 - val_loss: 0.9539\n",
      "Epoch 4/10\n",
      "1125/1125 [==============================] - 6s 5ms/step - loss: 0.8606 - val_loss: 0.9137\n",
      "Epoch 5/10\n",
      "1125/1125 [==============================] - 7s 6ms/step - loss: 0.8115 - val_loss: 0.8972\n",
      "Epoch 6/10\n",
      "1125/1125 [==============================] - 8s 7ms/step - loss: 0.7682 - val_loss: 0.8903\n",
      "Epoch 7/10\n",
      "1125/1125 [==============================] - 8s 7ms/step - loss: 0.7231 - val_loss: 0.8830\n",
      "Epoch 8/10\n",
      "1125/1125 [==============================] - 7s 6ms/step - loss: 0.6775 - val_loss: 0.8832\n",
      "Epoch 9/10\n",
      "1125/1125 [==============================] - 7s 6ms/step - loss: 0.6258 - val_loss: 0.8824\n",
      "Epoch 10/10\n",
      "1125/1125 [==============================] - 8s 7ms/step - loss: 0.5745 - val_loss: 0.8873\n"
     ]
    },
    {
     "data": {
      "image/png": "[encoded data removed]",
      "text/plain": [
       "<Figure size 640x480 with 1 Axes>"
      ]
     },
     "metadata": {},
     "output_type": "display_data"
    }
   ],
   "source": [
    "# Training the model\n",
    "history = model.fit([user_id_train, item_id_train], rating_train,\n",
    "                    batch_size=64, epochs=10, validation_split=0.1,\n",
    "                    shuffle=True)\n",
    "import matplotlib.pyplot as plt\n",
    "\n",
    "plt.plot(history.history['loss'], label='Train Loss')\n",
    "plt.plot(history.history['val_loss'], label='Validation Loss')\n",
    "plt.xlabel('Epoch')\n",
    "plt.ylabel('MAE')\n",
    "plt.legend()\n",
    "plt.show()"
   ]
  },
  {
   "cell_type": "code",
   "execution_count": 295,
   "metadata": {},
   "outputs": [],
   "source": [
    "from tensorflow.keras.layers import Input, Dense, Concatenate, Dropout\n",
    "from tensorflow.keras.models import Model\n",
    "from tensorflow.keras import optimizers\n",
    "\n",
    "class ImprovedRegressionModel(Model):\n",
    "    def __init__(self, embedding_size, max_user_id, max_item_id):\n",
    "        super().__init__()\n",
    "\n",
    "        # Define embedding layers\n",
    "        self.user_embedding = Embedding(output_dim=embedding_size,\n",
    "                                        input_dim=max_user_id + 1,\n",
    "                                        input_length=1,\n",
    "                                        name='user_embedding')\n",
    "        self.item_embedding = Embedding(output_dim=embedding_size,\n",
    "                                        input_dim=max_item_id + 1,\n",
    "                                        input_length=1,\n",
    "                                        name='item_embedding')\n",
    "         # Define additional layers\n",
    "        self.flatten = Flatten()\n",
    "        self.dot = Dot(axes=1)\n",
    "        self.dropout = Dropout(0.2)\n",
    "\n",
    "        # Define dense layers for additional complexity\n",
    "        self.user_transform_layer = Dense(16, activation='relu')\n",
    "        self.item_transform_layer = Dense(16, activation='relu')\n",
    "    \n",
    " \n",
    "\n",
    "    def call(self, inputs):\n",
    "        user_inputs = inputs[0]\n",
    "        item_inputs = inputs[1]\n",
    "\n",
    "        user_vecs = self.user_embedding(user_inputs)\n",
    "        item_vecs = self.item_embedding(item_inputs)\n",
    "\n",
    "        transformed_user_vecs = self.flatten(self.user_transform_layer(self.dropout(user_vecs)))\n",
    "        transformed_item_vecs = self.flatten(self.item_transform_layer(self.dropout(item_vecs)))\n",
    "        \n",
    "        y = self.dot([transformed_user_vecs, transformed_item_vecs])\n",
    "        \n",
    "        return y\n",
    "        \n",
    "\n",
    "model = ImprovedRegressionModel(embedding_size=16, max_user_id=all_ratings['user_id'].max(), max_item_id=all_ratings['item_id'].max())\n",
    "model.compile(optimizer='adam', loss='mae')\n"
   ]
  },
  {
   "cell_type": "code",
   "execution_count": 296,
   "metadata": {},
   "outputs": [
    {
     "name": "stdout",
     "output_type": "stream",
     "text": [
      "Epoch 1/10\n",
      "1125/1125 [==============================] - 8s 6ms/step - loss: 1.1344 - val_loss: 0.7631\n",
      "Epoch 2/10\n",
      "1125/1125 [==============================] - 6s 5ms/step - loss: 0.7601 - val_loss: 0.7496\n",
      "Epoch 3/10\n",
      "1125/1125 [==============================] - 5s 5ms/step - loss: 0.7439 - val_loss: 0.7481\n",
      "Epoch 4/10\n",
      "1125/1125 [==============================] - 6s 5ms/step - loss: 0.7350 - val_loss: 0.7419\n",
      "Epoch 5/10\n",
      "1125/1125 [==============================] - 6s 5ms/step - loss: 0.7259 - val_loss: 0.7328\n",
      "Epoch 6/10\n",
      "1125/1125 [==============================] - 5s 5ms/step - loss: 0.7174 - val_loss: 0.7330\n",
      "Epoch 7/10\n",
      "1125/1125 [==============================] - 6s 5ms/step - loss: 0.7121 - val_loss: 0.7323\n",
      "Epoch 8/10\n",
      "1125/1125 [==============================] - 6s 5ms/step - loss: 0.7082 - val_loss: 0.7292\n",
      "Epoch 9/10\n",
      "1125/1125 [==============================] - 5s 5ms/step - loss: 0.7054 - val_loss: 0.7294\n",
      "Epoch 10/10\n",
      "1125/1125 [==============================] - 6s 6ms/step - loss: 0.7034 - val_loss: 0.7292\n",
      "625/625 [==============================] - 5s 7ms/step - loss: 0.7262\n"
     ]
    },
    {
     "data": {
      "image/png": "[encoded data removed]",
      "text/plain": [
       "<Figure size 640x480 with 1 Axes>"
      ]
     },
     "metadata": {},
     "output_type": "display_data"
    },
    {
     "name": "stdout",
     "output_type": "stream",
     "text": [
      "Test MAE: 0.7262142896652222\n"
     ]
    }
   ],
   "source": [
    "# Train the model\n",
    "history = model.fit([user_id_train, item_id_train], rating_train,\n",
    "                    batch_size=64, epochs=10, validation_split=0.1,\n",
    "                    shuffle=True)\n",
    "\n",
    "# Evaluate the model\n",
    "test_loss = model.evaluate([user_id_test, item_id_test], rating_test)\n",
    "\n",
    "plt.plot(history.history['loss'], label='Train Loss')\n",
    "plt.plot(history.history['val_loss'], label='Validation Loss')\n",
    "plt.ylim(0, 2)\n",
    "plt.xlabel('Epoch')\n",
    "plt.ylabel('MAE')\n",
    "plt.legend()\n",
    "plt.show()\n",
    "print(f\"Test MAE: {test_loss}\")\n"
   ]
  }
 ],
 "metadata": {
  "kernelspec": {
   "display_name": "Python 3 (ipykernel)",
   "language": "python",
   "name": "python3"
  },
  "language_info": {
   "codemirror_mode": {
    "name": "ipython",
    "version": 3
   },
   "file_extension": ".py",
   "mimetype": "text/x-python",
   "name": "python",
   "nbconvert_exporter": "python",
   "pygments_lexer": "ipython3",
   "version": "3.9.15"
  }
 },
 "nbformat": 4,
 "nbformat_minor": 4
}
